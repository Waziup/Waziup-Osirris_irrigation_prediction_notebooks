{
 "cells": [
  {
   "cell_type": "markdown",
   "id": "8970a42a-1dab-4ae2-8e34-2c50d3d4265e",
   "metadata": {},
   "source": [
    "# Plot soil water retention curves"
   ]
  },
  {
   "cell_type": "code",
   "execution_count": 3,
   "id": "c5f9f6e3-6adc-41e9-9f92-447f949ec4ab",
   "metadata": {},
   "outputs": [],
   "source": [
    "soil_retention_tuples = {\n",
    "    \"Sandy_Soil\": {\n",
    "        \"waterRetention\": [0.1, 0.2, 0.3, 0.4],\n",
    "        \"soilTension\": [10, 20, 30, 40]\n",
    "    },\n",
    "    \"Fine_sandy_loams\": {\n",
    "        \"waterRetention\": [0.2, 0.3, 0.4, 0.5],\n",
    "        \"soilTension\": [15, 25, 35, 45]\n",
    "    },\n",
    "    \"Loams_and_silt_loams\": {\n",
    "        \"waterRetention\": [0.3, 0.4, 0.5, 0.6],\n",
    "        \"soilTension\": [20, 30, 40, 50]\n",
    "    },\n",
    "    \"Clay_loams\": {\n",
    "        \"waterRetention\": [0.2, 0.3, 0.4, 0.5],\n",
    "        \"soilTension\": [15, 25, 35, 45]\n",
    "    },\n",
    "    \"Clays\": {\n",
    "        \"waterRetention\": [0.1, 0.2, 0.3, 0.4],\n",
    "        \"soilTension\": [10, 20, 30, 40]\n",
    "    },\n",
    "    \"Kaolinite\": {\n",
    "        \"waterRetention\": [0.2, 0.3, 0.4, 0.5],\n",
    "        \"soilTension\": [15, 25, 35, 45]\n",
    "    },\n",
    "    \"Illite\": {\n",
    "        \"waterRetention\": [0.3, 0.4, 0.5, 0.6],\n",
    "        \"soilTension\": [20, 30, 40, 50]\n",
    "    },\n",
    "    \"Montmorillonite\": {\n",
    "        \"waterRetention\": [0.4, 0.5, 0.6, 0.7],\n",
    "        \"soilTension\": [25, 35, 45, 55]\n",
    "    },\n",
    "    \"Vermiculite\": {\n",
    "        \"waterRetention\": [0.3, 0.4, 0.5, 0.6],\n",
    "        \"soilTension\": [20, 30, 40, 50]\n",
    "    },\n",
    "    \"Humus\": {\n",
    "        \"waterRetention\": [0.2, 0.3, 0.4, 0.5],\n",
    "        \"soilTension\": [15, 25, 35, 45]\n",
    "    },\n",
    "    \"Peat_Soil\": {\n",
    "        \"waterRetention\": [0.1, 0.2, 0.3, 0.4],\n",
    "        \"soilTension\": [10, 20, 30, 40]\n",
    "    },\n",
    "    \"Sandy_Clay_Loam\": {\n",
    "        \"waterRetention\": [0.2, 0.3, 0.4, 0.5],\n",
    "        \"soilTension\": [15, 25, 35, 45]\n",
    "    },\n",
    "    \"Silty_Clay\": {\n",
    "        \"waterRetention\": [0.3, 0.4, 0.5, 0.6],\n",
    "        \"soilTension\": [20, 30, 40, 50]\n",
    "    },\n",
    "    \"Loess_Soil\": {\n",
    "        \"waterRetention\": [0.2, 0.3, 0.4, 0.5],\n",
    "        \"soilTension\": [15, 25, 35, 45]\n",
    "    },\n",
    "    \"Chalky_Soil\": {\n",
    "        \"waterRetention\": [0.1, 0.2, 0.3, 0.4],\n",
    "        \"soilTension\": [10, 20, 30, 40]\n",
    "    },\n",
    "    \"Volcanic_Ash_Soil\": {\n",
    "        \"waterRetention\": [0.2, 0.3, 0.4, 0.5],\n",
    "        \"soilTension\": [15, 25, 35, 45]\n",
    "    },\n",
    "    \"Sesquioxides\": {\n",
    "        \"waterRetention\": [0.3, 0.4, 0.5, 0.6],\n",
    "        \"soilTension\": [20, 30, 40, 50]\n",
    "    }\n",
    "}"
   ]
  },
  {
   "cell_type": "code",
   "execution_count": 4,
   "id": "c09149e8-a93d-4feb-bf73-0a54f06eebb8",
   "metadata": {},
   "outputs": [],
   "source": [
    "# Flip the water retention curves\n",
    "for soil_type, data in soil_retention_tuples.items():\n",
    "    data['waterRetention'] = data['waterRetention'][::-1]"
   ]
  },
  {
   "cell_type": "code",
   "execution_count": 5,
   "id": "16344965-f4e5-4bf7-82ca-a4c722e87bcc",
   "metadata": {},
   "outputs": [
    {
     "name": "stdout",
     "output_type": "stream",
     "text": [
      "{'Sandy_Soil': {'waterRetention': [0.4, 0.3, 0.2, 0.1], 'soilTension': [10, 20, 30, 40]}, 'Fine_sandy_loams': {'waterRetention': [0.5, 0.4, 0.3, 0.2], 'soilTension': [15, 25, 35, 45]}, 'Loams_and_silt_loams': {'waterRetention': [0.6, 0.5, 0.4, 0.3], 'soilTension': [20, 30, 40, 50]}, 'Clay_loams': {'waterRetention': [0.5, 0.4, 0.3, 0.2], 'soilTension': [15, 25, 35, 45]}, 'Clays': {'waterRetention': [0.4, 0.3, 0.2, 0.1], 'soilTension': [10, 20, 30, 40]}, 'Kaolinite': {'waterRetention': [0.5, 0.4, 0.3, 0.2], 'soilTension': [15, 25, 35, 45]}, 'Illite': {'waterRetention': [0.6, 0.5, 0.4, 0.3], 'soilTension': [20, 30, 40, 50]}, 'Montmorillonite': {'waterRetention': [0.7, 0.6, 0.5, 0.4], 'soilTension': [25, 35, 45, 55]}, 'Vermiculite': {'waterRetention': [0.6, 0.5, 0.4, 0.3], 'soilTension': [20, 30, 40, 50]}, 'Humus': {'waterRetention': [0.5, 0.4, 0.3, 0.2], 'soilTension': [15, 25, 35, 45]}, 'Peat_Soil': {'waterRetention': [0.4, 0.3, 0.2, 0.1], 'soilTension': [10, 20, 30, 40]}, 'Sandy_Clay_Loam': {'waterRetention': [0.5, 0.4, 0.3, 0.2], 'soilTension': [15, 25, 35, 45]}, 'Silty_Clay': {'waterRetention': [0.6, 0.5, 0.4, 0.3], 'soilTension': [20, 30, 40, 50]}, 'Loess_Soil': {'waterRetention': [0.5, 0.4, 0.3, 0.2], 'soilTension': [15, 25, 35, 45]}, 'Chalky_Soil': {'waterRetention': [0.4, 0.3, 0.2, 0.1], 'soilTension': [10, 20, 30, 40]}, 'Volcanic_Ash_Soil': {'waterRetention': [0.5, 0.4, 0.3, 0.2], 'soilTension': [15, 25, 35, 45]}, 'Sesquioxides': {'waterRetention': [0.6, 0.5, 0.4, 0.3], 'soilTension': [20, 30, 40, 50]}}\n"
     ]
    }
   ],
   "source": [
    "# Print the modified dictionary\n",
    "print(soil_retention_tuples)"
   ]
  },
  {
   "cell_type": "code",
   "execution_count": null,
   "id": "0022b108-0e25-4057-aa63-b706144e91f0",
   "metadata": {},
   "outputs": [],
   "source": []
  }
 ],
 "metadata": {
  "kernelspec": {
   "display_name": "Python 3 (ipykernel)",
   "language": "python",
   "name": "python3"
  },
  "language_info": {
   "codemirror_mode": {
    "name": "ipython",
    "version": 3
   },
   "file_extension": ".py",
   "mimetype": "text/x-python",
   "name": "python",
   "nbconvert_exporter": "python",
   "pygments_lexer": "ipython3",
   "version": "3.10.12"
  }
 },
 "nbformat": 4,
 "nbformat_minor": 5
}
