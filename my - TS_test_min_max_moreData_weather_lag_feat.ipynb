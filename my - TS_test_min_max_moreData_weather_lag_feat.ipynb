{
 "cells": [
  {
   "cell_type": "markdown",
   "id": "81e0620e",
   "metadata": {},
   "source": [
    "Last updated: 16 Feb 2023\n",
    "\n",
    "# 👋 PyCaret Time Series Forecasting Tutorial\n",
    "\n",
    "PyCaret is an open-source, low-code machine learning library in Python that automates machine learning workflows. It is an end-to-end machine learning and model management tool that exponentially speeds up the experiment cycle and makes you more productive.\n",
    "\n",
    "Compared with the other open-source machine learning libraries, PyCaret is an alternate low-code library that can be used to replace hundreds of lines of code with a few lines only. This makes experiments exponentially fast and efficient. PyCaret is essentially a Python wrapper around several machine learning libraries and frameworks, such as scikit-learn, XGBoost, LightGBM, CatBoost, spaCy, Optuna, Hyperopt, Ray, and a few more.\n",
    "\n",
    "The design and simplicity of PyCaret are inspired by the emerging role of citizen data scientists, a term first used by Gartner. Citizen Data Scientists are power users who can perform both simple and moderately sophisticated analytical tasks that would previously have required more technical expertise.\n"
   ]
  },
  {
   "cell_type": "markdown",
   "id": "8116e19d",
   "metadata": {},
   "source": [
    "# 💻 Installation\n",
    "\n",
    "PyCaret is tested and supported on the following 64-bit systems:\n",
    "- Python 3.7 – 3.10\n",
    "- Python 3.9 for Ubuntu only\n",
    "- Ubuntu 16.04 or later\n",
    "- Windows 7 or later\n",
    "\n",
    "You can install PyCaret with Python's pip package manager:\n",
    "\n",
    "`pip install pycaret`\n",
    "\n",
    "PyCaret's default installation will not install all the extra dependencies automatically. For that you will have to install the full version:\n",
    "\n",
    "`pip install pycaret[full]`\n",
    "\n",
    "or depending on your use-case you may install one of the following variant:\n",
    "\n",
    "- `pip install pycaret[analysis]`\n",
    "- `pip install pycaret[models]`\n",
    "- `pip install pycaret[tuner]`\n",
    "- `pip install pycaret[mlops]`\n",
    "- `pip install pycaret[parallel]`\n",
    "- `pip install pycaret[test]`"
   ]
  },
  {
   "cell_type": "code",
   "execution_count": null,
   "id": "d7142a33",
   "metadata": {
    "tags": []
   },
   "outputs": [],
   "source": [
    "# install pycaret\n",
    "#!pip install pycaret[full]\n",
    "# check installed version\n",
    "import pycaret \n",
    "pycaret.__version__"
   ]
  },
  {
   "cell_type": "markdown",
   "id": "fb66e98d",
   "metadata": {},
   "source": [
    "# 🚀 Quick start"
   ]
  },
  {
   "cell_type": "markdown",
   "id": "00347d44",
   "metadata": {},
   "source": [
    "PyCaret's time series forecasting module is now available. The module currently is suitable for univariate / multivariate time series forecasting tasks. The API of time series module is consistent with other modules of PyCaret.\n",
    "\n",
    "It comes built-in with preprocessing capabilities and over 30 algorithms comprising of statistical / time-series methods as well as machine learning based models. In addition to the model training, this module has lot of other capabilities such as automated hyperparameter tuning, ensembling, model analysis, model packaging and deployment capabilities. \n",
    "\n",
    "A typical workflow in PyCaret consist of following 5 steps in this order:\n",
    "\n",
    "### **Setup** ➡️ **Compare Models** ➡️ **Analyze Model** ➡️ **Prediction** ➡️ **Save Model** <br/>"
   ]
  },
  {
   "cell_type": "code",
   "execution_count": null,
   "id": "1b09f8df",
   "metadata": {
    "tags": []
   },
   "outputs": [],
   "source": [
    "# import pandas module\n",
    "import pandas as pd\n",
    "import re\n",
    "import numpy as np\n",
    "\n",
    "# global variables\n",
    "Soil_humi = []\n",
    "Resistance = []\n",
    "Soil_temp = []\n",
    "total_amount = 0\n",
    "rolling_mean_window_data = 15\n",
    "rolling_mean_window_grouped = 5\n",
    "min_length_df = 300 #was 50\n",
    "slope_irrigation = -0.07\n",
    "\n",
    "# creating a data frame\n",
    "data = pd.read_csv(\"binned_removed_new.csv\",header=0)\n",
    "data.head()\n",
    "\n",
    "# create array with sensors strings\n",
    "for col in data.columns:\n",
    "    if re.findall(r\"SoilHumiditySensor$\", col):\n",
    "        Soil_humi.append(col)\n",
    "    elif re.findall(r\"\\/ $\", col):\n",
    "        Resistance.append(col)\n",
    "    elif re.findall(r\"SoilThermometer$\", col):\n",
    "        Soil_temp.append(col)\n",
    "\n",
    "# print them to check\n",
    "for i in range(len(Soil_humi)):\n",
    "    total_amount += 1\n",
    "    print(Soil_humi[i])\n",
    "for i in range(len(Resistance)):\n",
    "    total_amount += 1\n",
    "    print(Resistance[i])\n",
    "for i in range(len(Soil_temp)):\n",
    "    total_amount += 1\n",
    "    print(Soil_temp[i])\n",
    "    \n",
    "print(\"Total amount of values: \", total_amount)"
   ]
  },
  {
   "cell_type": "code",
   "execution_count": null,
   "id": "2530c17c",
   "metadata": {
    "tags": []
   },
   "outputs": [],
   "source": [
    "# plot the dataset\n",
    "data.plot(figsize = (20,10))"
   ]
  },
  {
   "cell_type": "code",
   "execution_count": null,
   "id": "f7217e90-7617-4cf8-a938-85bd97f898da",
   "metadata": {
    "tags": []
   },
   "outputs": [],
   "source": [
    "# Show if there are any missing values inside the data\n",
    "data.isna().any()"
   ]
  },
  {
   "cell_type": "code",
   "execution_count": null,
   "id": "9e170226-9cd9-4bdc-9c24-3c9192f5e5b5",
   "metadata": {
    "tags": []
   },
   "outputs": [],
   "source": [
    "data['Time'] = data['Time'].str[:-9]\n",
    "data['Time']=pd.to_datetime(data['Time'])\n",
    "data = data.set_index('Time')\n",
    "\n",
    "data.plot(subplots=True, figsize=(20,50))"
   ]
  },
  {
   "cell_type": "code",
   "execution_count": null,
   "id": "50bc2eea-effe-4db7-be67-7b34130adb3b",
   "metadata": {
    "tags": []
   },
   "outputs": [],
   "source": [
    "data = data.fillna(method = 'bfill')\n",
    "data.plot(subplots=True, figsize=(20,50))"
   ]
  },
  {
   "cell_type": "code",
   "execution_count": null,
   "id": "98f5b027-a1a1-4c36-bcfa-39c53b687f04",
   "metadata": {
    "tags": []
   },
   "outputs": [],
   "source": [
    "# creating a data frame\n",
    "data_weather = pd.read_csv(\"april_weather.csv\", header=0, sep=\";\")\n",
    "data_weather.head()"
   ]
  },
  {
   "cell_type": "code",
   "execution_count": null,
   "id": "eecc26c9-9aac-49f9-b351-0c63c5fbbeea",
   "metadata": {
    "tags": []
   },
   "outputs": [],
   "source": [
    "# Convert the datetime column to a datetime object\n",
    "data_weather['Heure'] = pd.to_datetime(data_weather['Heure'], format=' %d/%m/%Y %H:%M:%S')#, errors='coerce')\n",
    "#print(\"After datetime, before ISO:  \\n\", data_weather, \"\\n\", data_weather.dtypes, \"\\n\")\n",
    "\n",
    "# Format the datetime object as an ISO time string\n",
    "data_weather['Heure'] = data_weather['Heure'].dt.strftime('%Y-%m-%dT%H:%M:%S')\n",
    "\n",
    "#change name\n",
    "data_weather = data_weather.rename(columns={'Heure':'Time'})\n",
    "\n",
    "# change datatype\n",
    "data_weather['Time'] = pd.to_datetime(data_weather['Time'])\n",
    "\n",
    "# set the index of the DataFrame to the timestamp column\n",
    "data_weather = data_weather.set_index('Time')"
   ]
  },
  {
   "cell_type": "code",
   "execution_count": null,
   "id": "55f621d8-c642-48df-95bf-681e4b8262f9",
   "metadata": {
    "tags": []
   },
   "outputs": [],
   "source": [
    "# Drop useless\n",
    "data_weather = data_weather.drop(['Température intérieure(°C)', 'Humidité intérieure(%)', 'Intervalle', 'NO.'], axis=1)"
   ]
  },
  {
   "cell_type": "code",
   "execution_count": null,
   "id": "5f1f1ae8-cc50-48c2-8e78-b0c292e9690e",
   "metadata": {
    "tags": []
   },
   "outputs": [],
   "source": []
  },
  {
   "cell_type": "code",
   "execution_count": null,
   "id": "6d869c80-059d-4287-8026-c65a438e1ca1",
   "metadata": {},
   "outputs": [],
   "source": [
    "data_weather.head()"
   ]
  },
  {
   "cell_type": "code",
   "execution_count": null,
   "id": "07af895c-8ef9-472c-8d92-33dfe7617902",
   "metadata": {},
   "outputs": [],
   "source": [
    "# Convert wind direction to integer\n",
    "directions = [\" N\", \" NNE\", \" NE\", \" ENE\", \" E\", \" ESE\", \" SE\", \" SSE\", \" S\", \" SSW\", \" SW\", \" WSW\", \" W\", \" WNW\", \" NW\", \" NNW\"]\n",
    "target_col = 'Direction du vent'\n",
    "\n",
    "for index, value in data_weather[target_col].iteritems():\n",
    "    # Calculate wind direction in degrees -> TODO : convert to int and round\n",
    "    if value == \" ---\":\n",
    "        data_weather[target_col][index] = np.nan\n",
    "    else:\n",
    "        data_weather[target_col][index] = directions.index(value) * 22.5\n",
    "        \n",
    "data_weather[target_col] = data_weather[target_col].astype(\"float64\")"
   ]
  },
  {
   "cell_type": "code",
   "execution_count": null,
   "id": "6c1e03fa-6323-4ab5-b4d8-50a7e5f438ed",
   "metadata": {},
   "outputs": [],
   "source": [
    "# convert to float64\n",
    "ref_dtype = 'float64'\n",
    "obj_dtype = 'object'\n",
    "\n",
    "for col in data_weather.columns:\n",
    "    if data_weather[col].dtype == obj_dtype:\n",
    "        data_weather[col] = pd.to_numeric(data_weather[col], errors='coerce')\n",
    "        \n",
    "    print(\"This is :\",col, \"it has the following dtype: \", data_weather[col].dtype)"
   ]
  },
  {
   "cell_type": "code",
   "execution_count": null,
   "id": "b9d4212c-ee40-4fae-b511-320a92be59de",
   "metadata": {},
   "outputs": [],
   "source": [
    "data_weather.head()"
   ]
  },
  {
   "cell_type": "code",
   "execution_count": null,
   "id": "27c4e5df-fba6-488a-bbee-261d94f21970",
   "metadata": {},
   "outputs": [],
   "source": [
    "# preserve old datetimeindex\n",
    "timestamps = data_weather.index\n",
    "data_weather.reset_index(drop=True)"
   ]
  },
  {
   "cell_type": "code",
   "execution_count": null,
   "id": "53bb2981-e6e0-4228-92e1-fd138d2fa6c0",
   "metadata": {},
   "outputs": [],
   "source": [
    "# TODO: compare them with orig data\n",
    "from sklearn.experimental import enable_iterative_imputer\n",
    "from sklearn.impute import IterativeImputer\n",
    "from sklearn.linear_model import LinearRegression\n",
    "from sklearn.linear_model import BayesianRidge, Ridge\n",
    "from sklearn.tree import DecisionTreeRegressor\n",
    "from sklearn.ensemble import ExtraTreesRegressor, RandomForestRegressor\n",
    "from sklearn.neighbors import KNeighborsRegressor\n",
    "from sklearn.svm import SVR\n",
    "\n",
    "# Init the transformer\n",
    "reg_imp = IterativeImputer(estimator=Ridge())\n",
    "\n",
    "# Fit/transform\n",
    "data_weather = pd.DataFrame(reg_imp.fit_transform(data_weather), columns=data_weather.columns)\n",
    "\n",
    "# restore old index\n",
    "data_weather['Time'] = timestamps\n",
    "data_weather = data_weather.set_index('Time')\n",
    "data_weather.index = pd.to_datetime(data_weather.index)"
   ]
  },
  {
   "cell_type": "code",
   "execution_count": null,
   "id": "dc487f08-b9e9-4508-a482-4f4376858cba",
   "metadata": {
    "tags": []
   },
   "outputs": [],
   "source": [
    "#ref_dtype = 'float64'\n",
    "# iterate through the columns and compare their data types to the reference data type\n",
    "#for col in data_weather.columns:\n",
    "#    print(\"This is :\",col)\n",
    "#    if data_weather[col].dtype == 'datetime64[ns]':\n",
    "#        data_weather[col] = data_weather[col].resample('10T').ffill()\n",
    "#    if data_weather[col].dtype == ref_dtype:\n",
    "#        data_weather[col] = data_weather[col].resample('10T').mean()\n",
    "#    else:\n",
    "#        data_weather[col] = data_weather[col].resample('10T').ffill()"
   ]
  },
  {
   "cell_type": "code",
   "execution_count": null,
   "id": "32363f96-4ccf-444a-aac1-456dd0440dbd",
   "metadata": {
    "tags": []
   },
   "outputs": [],
   "source": [
    "data_weather.head()"
   ]
  },
  {
   "cell_type": "code",
   "execution_count": null,
   "id": "61f3ec81-155d-4a19-a4be-fa5806a2fe86",
   "metadata": {
    "tags": []
   },
   "outputs": [],
   "source": [
    "data_weather_re = data_weather.resample('10T').fillna(method = 'bfill') #TODO: fill with mean!!!!!!!!!!!!!!!!!!!!!!!!!!!!!!!!!!!!!!!!!!!\n",
    "data_weather_re.index"
   ]
  },
  {
   "cell_type": "code",
   "execution_count": null,
   "id": "5ba5e273-c6f8-47c3-9e22-1b92b756e1a3",
   "metadata": {
    "tags": []
   },
   "outputs": [],
   "source": [
    "data_weather_re.head(10)"
   ]
  },
  {
   "cell_type": "code",
   "execution_count": null,
   "id": "13f67814-de43-4c06-ac1d-b4c90cb1f8d9",
   "metadata": {
    "tags": []
   },
   "outputs": [],
   "source": [
    "# concatenate the DataFrames vertically\n",
    "#data_comb = pd.concat([data, data_weather_re], axis=0)\n",
    "data_comb = pd.merge(data, data_weather_re, left_index=True, right_index=True, how='outer')\n",
    "\n",
    "# print the resulting DataFrame\n",
    "data_comb.tail(10)"
   ]
  },
  {
   "cell_type": "code",
   "execution_count": null,
   "id": "d44d9c28-9ada-43e7-b94a-727265ce441c",
   "metadata": {
    "tags": []
   },
   "outputs": [],
   "source": [
    "import missingno as msno \n",
    "# Plot correlation heatmap of missingness\n",
    "msno.matrix(data_comb)"
   ]
  },
  {
   "cell_type": "code",
   "execution_count": null,
   "id": "cc29efc8-178f-49a3-9e93-0984963c2da8",
   "metadata": {
    "tags": []
   },
   "outputs": [],
   "source": [
    "# Select the rows between two dates => cut dataframe\n",
    "start_date = str(data_weather_re.index[0])\n",
    "end_date = str(data_weather_re.index[-1])\n",
    "data_comb_cut = data_comb.loc[start_date:end_date]\n",
    "\n",
    "data = data_comb_cut"
   ]
  },
  {
   "cell_type": "code",
   "execution_count": null,
   "id": "4973d43b-baba-4c30-bb4c-179d38b53f7d",
   "metadata": {
    "tags": []
   },
   "outputs": [],
   "source": [
    "msno.matrix(data)"
   ]
  },
  {
   "cell_type": "code",
   "execution_count": null,
   "id": "f6e1a34c-e5b1-4b4a-846e-c42953275cf2",
   "metadata": {
    "tags": []
   },
   "outputs": [],
   "source": [
    "data.head()"
   ]
  },
  {
   "cell_type": "code",
   "execution_count": null,
   "id": "3f2209e5-2a1f-40d6-b821-4d3750d08289",
   "metadata": {
    "tags": []
   },
   "outputs": [],
   "source": [
    "data.dtypes"
   ]
  },
  {
   "cell_type": "code",
   "execution_count": null,
   "id": "e57b9653-aa84-4087-9be4-c15d7fd2923e",
   "metadata": {
    "tags": []
   },
   "outputs": [],
   "source": [
    "ref_dtype = 'float64'\n",
    "obj_dtype = 'object'\n",
    "\n",
    "for col in data.columns:\n",
    "    if data[col].dtype == obj_dtype:\n",
    "        data[col] = pd.to_numeric(data[col], errors='coerce')\n",
    "    #if data[col].dtype == ref_dtype:\n",
    "        #data[col] = data[col].rolling(window=rolling_mean_window_data, win_type='gaussian').mean(std=rolling_mean_window_data)\n",
    "        \n",
    "    print(\"This is :\",col, \"it has the following dtype: \", data[col].dtype)"
   ]
  },
  {
   "cell_type": "code",
   "execution_count": null,
   "id": "cdabe27b-a3ac-4910-aa61-9b60e4a7293f",
   "metadata": {
    "tags": []
   },
   "outputs": [],
   "source": [
    "msno.heatmap(data)"
   ]
  },
  {
   "cell_type": "code",
   "execution_count": null,
   "id": "5358f5ae-f4a6-47cd-be61-da1e5e69b594",
   "metadata": {
    "tags": []
   },
   "outputs": [],
   "source": [
    "msno.dendrogram(data)"
   ]
  },
  {
   "cell_type": "code",
   "execution_count": null,
   "id": "17f0f316-4576-4861-9ac7-ee71d96ed515",
   "metadata": {
    "tags": []
   },
   "outputs": [],
   "source": [
    "data.isna().any()"
   ]
  },
  {
   "cell_type": "code",
   "execution_count": null,
   "id": "2db03c04-ab33-4f8a-9df5-ba159e42100d",
   "metadata": {
    "tags": []
   },
   "outputs": [],
   "source": [
    "data.plot(subplots=True, figsize=(20,50))"
   ]
  },
  {
   "cell_type": "markdown",
   "id": "c9b739d1-4852-4936-a4c5-861bd0893191",
   "metadata": {
    "tags": []
   },
   "source": [
    "We can use the following estimators:\n",
    "-----------------------------------\n",
    "LinearRegression: LinearRegression\n",
    "\n",
    "BayesianRidge: Regularized linear regression.\n",
    "\n",
    "DecisionTreeRegressor: Decision tree regression. => no\n",
    "\n",
    "ExtraTreesRegressor: Extremely randomized trees regression. => slow\n",
    "\n",
    "KNeighborsRegressor: k-Nearest Neighbors regression. => no\n",
    "\n",
    "RandomForestRegressor: Random forest regression. => slow\n",
    "\n",
    "Ridge: Linear least squares with l2 regularization. => best?\n",
    "\n",
    "SVR: Support vector regression. => slow, no"
   ]
  },
  {
   "cell_type": "code",
   "execution_count": null,
   "id": "314de71d-e3e1-4c46-88af-ba72265f56ba",
   "metadata": {
    "tags": []
   },
   "outputs": [],
   "source": [
    "# TODO: compare them with orig data\n",
    "\n",
    "# Fit/transform\n",
    "#for col in data.columns:\n",
    "#    # Init the transformer\n",
    "#    reg_imp = IterativeImputer(estimator=SVR())\n",
    "#    # Fit/transform\n",
    "#    data_imp[col] = pd.DataFrame(reg_imp.fit_transform(data[[col]]), columns=[col])"
   ]
  },
  {
   "cell_type": "code",
   "execution_count": null,
   "id": "61456f77-a05d-44e1-8054-bcbeefa42c7c",
   "metadata": {
    "tags": []
   },
   "outputs": [],
   "source": [
    "# Check for missing values\n",
    "print(data.isna().any())\n"
   ]
  },
  {
   "cell_type": "code",
   "execution_count": null,
   "id": "191937ea-0c4f-4db4-b2d9-35457e364400",
   "metadata": {
    "tags": []
   },
   "outputs": [],
   "source": [
    "#from sklearn.impute import KNNImputer\n",
    "\n",
    "#for col in data.columns:\n",
    "#    if data[col].dtype == ref_dtype:\n",
    "#        #data_imp[col] = data[col].rolling(window=rolling_mean_window_data, win_type='gaussian').mean(std=rolling_mean_window_data)\n",
    "#        # Init the imputer\n",
    "#        imputer = KNNImputer(n_neighbors=rolling_mean_window_data)\n",
    "#\n",
    "#        # Impute the missing values in column col\n",
    "#        data[col] = imputer.fit_transform(data[[col]])"
   ]
  },
  {
   "cell_type": "code",
   "execution_count": null,
   "id": "1fc3991a-4c54-4bb4-9826-181443a989a4",
   "metadata": {
    "tags": []
   },
   "outputs": [],
   "source": []
  },
  {
   "cell_type": "code",
   "execution_count": null,
   "id": "7d15f3a8-57ca-486f-9099-115c4c50fa5f",
   "metadata": {
    "tags": []
   },
   "outputs": [],
   "source": [
    "data.plot(subplots=True, figsize=(20,50))"
   ]
  },
  {
   "cell_type": "code",
   "execution_count": null,
   "id": "9ddc246a-803c-483a-9fc6-f7100d6325e0",
   "metadata": {
    "tags": []
   },
   "outputs": [],
   "source": [
    "data.head()"
   ]
  },
  {
   "cell_type": "code",
   "execution_count": null,
   "id": "64ac8295-0ff2-44a2-beab-66dec720b838",
   "metadata": {
    "tags": []
   },
   "outputs": [],
   "source": [
    "def compare_dataframes(df1, df2):\n",
    "    # Verify column names\n",
    "    if not set(df1.columns) == set(df2.columns):\n",
    "        print(\"Column names are not the same in both dataframes.\")\n",
    "        return\n",
    "\n",
    "    # Find the common columns between the two dataframes\n",
    "    common_columns = df1.columns.intersection(df2.columns)\n",
    "\n",
    "    # Compare the available values in the common columns\n",
    "    for column in common_columns:\n",
    "        values1 = df1[column].dropna()\n",
    "        values2 = df2[column].dropna()\n",
    "\n",
    "        min_length = min(len(values1), len(values2))\n",
    "        values1 = values1[:min_length]\n",
    "        values2 = values2[:min_length]\n",
    "\n",
    "        diff = np.abs(values1.values - values2.values)\n",
    "        mae = np.mean(diff)\n",
    "        rmse = np.sqrt(np.mean(diff ** 2))\n",
    "        mpe = np.mean(diff / values1.values) * 100\n",
    "\n",
    "        print(f\"Column: {column}\")\n",
    "        print(f\"MAE: {mae:.2f}\")\n",
    "        print(f\"RMSE: {rmse:.2f}\")\n",
    "        print(f\"MPE: {mpe:.2f}%\")\n",
    "        print(\"df1 len:\",len(values1),\"df2 len:\",len(values2))\n",
    "        print()\n",
    "\n",
    "#compare_dataframes(data, data_imp)"
   ]
  },
  {
   "cell_type": "code",
   "execution_count": null,
   "id": "2cf65a76-b6ff-4154-afe2-72de3053d456",
   "metadata": {
    "tags": []
   },
   "outputs": [],
   "source": [
    "#data_imp.index = data.index\n",
    "#data = data_imp"
   ]
  },
  {
   "cell_type": "code",
   "execution_count": null,
   "id": "d3685f0d-5f76-43f2-98ed-35291303c74b",
   "metadata": {
    "tags": []
   },
   "outputs": [],
   "source": [
    "#data_imp.plot(subplots=True, figsize=(20,50))"
   ]
  },
  {
   "cell_type": "code",
   "execution_count": null,
   "id": "adea10eb-6fe6-495f-b5cd-085631fb5598",
   "metadata": {
    "tags": []
   },
   "outputs": [],
   "source": [
    "#impute data\n",
    "#from sklearn.impute import KNNImputer\n",
    "\n",
    "##data_knn_imputed = data_knn_imputed.drop(['Time'], axis=1)\n",
    "\n",
    "# Init the transformer\n",
    "#knn_imp = KNNImputer(n_neighbors=10)\n",
    "\n",
    "# Fit/transform\n",
    "#data_imp.iloc[:,0:len(data)] = knn_imp.fit_transform(data_imp.iloc[:,0:len(data)])"
   ]
  },
  {
   "cell_type": "code",
   "execution_count": null,
   "id": "12bf262a-3a46-4258-a88a-10b8ef98c579",
   "metadata": {
    "tags": []
   },
   "outputs": [],
   "source": [
    "#data_imp.plot(subplots=True, figsize=(20,50))"
   ]
  },
  {
   "cell_type": "code",
   "execution_count": null,
   "id": "a7d10cd6-1f4e-46a2-bdb6-03111e6fede3",
   "metadata": {
    "tags": []
   },
   "outputs": [],
   "source": [
    "# Plot correlation heatmap of missingness\n",
    "msno.matrix(data)"
   ]
  },
  {
   "cell_type": "code",
   "execution_count": null,
   "id": "cc0f8465-cd66-48e5-a0bf-6ba53396ca85",
   "metadata": {
    "tags": []
   },
   "outputs": [],
   "source": [
    "# Show if there are any missing values inside the data\n",
    "data.isna().any()"
   ]
  },
  {
   "cell_type": "code",
   "execution_count": null,
   "id": "fa03c36c-8b58-489d-bd1e-3cc0ce5b86b8",
   "metadata": {
    "tags": []
   },
   "outputs": [],
   "source": [
    "# create average cols\n",
    "data['grouped_soil'] = data[Soil_humi].mean(axis=1)\n",
    "data['grouped_resistance'] = data[Resistance].mean(axis=1)\n",
    "data['grouped_soil_temp'] = data[Soil_temp].mean(axis=1)"
   ]
  },
  {
   "cell_type": "code",
   "execution_count": null,
   "id": "e530a9ad-4421-492e-bcce-6092bf4a8ed7",
   "metadata": {
    "tags": []
   },
   "outputs": [],
   "source": [
    "data.index.dtype"
   ]
  },
  {
   "cell_type": "code",
   "execution_count": null,
   "id": "0710c24b-7c8e-4a92-8065-04de09c535d1",
   "metadata": {
    "tags": []
   },
   "outputs": [],
   "source": [
    "#data['Time'] = data['Time'].str[:-9]\n",
    "#data.head()"
   ]
  },
  {
   "cell_type": "code",
   "execution_count": null,
   "id": "4be0c2df-054d-4bb8-9684-4d64ed051542",
   "metadata": {},
   "outputs": [],
   "source": [
    "#data['Time']=pd.to_datetime(data['Time'])\n",
    "\n",
    "#data.head()"
   ]
  },
  {
   "cell_type": "code",
   "execution_count": null,
   "id": "6207af86-7cea-4153-a331-518a379d23fc",
   "metadata": {
    "tags": []
   },
   "outputs": [],
   "source": [
    "# after concat => need to convert to datetimeindex once more:\n",
    "#data.index=pd.to_datetime(data.index, format='%Y-%m-%d %H:%M:%S') #2023-04-01 00:50:00"
   ]
  },
  {
   "cell_type": "code",
   "execution_count": null,
   "id": "6c79ab46-d3ca-454a-90dc-85264772fb86",
   "metadata": {
    "tags": []
   },
   "outputs": [],
   "source": [
    "## Create Features\n",
    "## create rolling mean: introduces NaN again -> later just cut off\n",
    "data['rolling_mean_grouped_soil'] = data['grouped_soil'].rolling(window=rolling_mean_window_grouped, win_type='gaussian').mean(std=rolling_mean_window_grouped)\n",
    "data['rolling_mean_grouped_soil_temp'] = data['grouped_soil_temp'].rolling(window=rolling_mean_window_grouped, win_type='gaussian').mean(std=rolling_mean_window_grouped)\n",
    "\n",
    "data['hour'] = data.index.hour#.astype(\"float64\")\n",
    "data['minute'] = data.index.minute#.astype(\"float64\")\n",
    "data['date'] = data.index.day#.astype(\"float64\")\n",
    "data['month'] = data.index.month#.astype(\"float64\")\n",
    "data['day_of_year'] = data.index.dayofyear#.astype(\"float64\")"
   ]
  },
  {
   "cell_type": "code",
   "execution_count": null,
   "id": "fff372b7-4a62-4f7a-8e51-bf57b8f57a8d",
   "metadata": {
    "tags": []
   },
   "outputs": [],
   "source": [
    "# feature scaling\n",
    "data.dtypes"
   ]
  },
  {
   "cell_type": "code",
   "execution_count": null,
   "id": "a01e597d-1411-4f39-95e5-0affc818fa0c",
   "metadata": {
    "tags": []
   },
   "outputs": [],
   "source": [
    "# Min-Max Normalization\n",
    "def max_min_norm(df_all):\n",
    "    df = df_all.drop(['rolling_mean_grouped_soil', 'hour', 'minute', 'date', 'month', 'day_of_year'], axis=1)\n",
    "    index = df.index\n",
    "    df_norm = pd.DataFrame()\n",
    "    for col in df.columns:\n",
    "        print(\"Current col: \", col)\n",
    "        if df[col].dtype == ref_dtype:\n",
    "            print(\"Normalize:   \", col)\n",
    "            df_norm[col] = (df[col]-df[col].min())/(df[col].max()-df[col].min())\n",
    "    df_norm = pd.concat([df_norm, df_all['hour'], df_all['minute'], df_all['date'], df_all['month'], df_all['day_of_year'], df_all.rolling_mean_grouped_soil], 1)\n",
    "    return df_norm\n",
    "\n",
    "#max_min_norm(data)"
   ]
  },
  {
   "cell_type": "code",
   "execution_count": null,
   "id": "619745fb-5dd1-45b7-9dd3-d01efd2c285d",
   "metadata": {
    "tags": []
   },
   "outputs": [],
   "source": [
    "data.dtypes"
   ]
  },
  {
   "cell_type": "code",
   "execution_count": null,
   "id": "86e9aee3-c86e-45e1-924d-5d3e7a688d0c",
   "metadata": {
    "tags": []
   },
   "outputs": [],
   "source": [
    "print(str(Soil_temp).replace(\"[\", \"\").replace(\"]\", \"\"))"
   ]
  },
  {
   "cell_type": "code",
   "execution_count": null,
   "id": "464bc5d7-334b-4ac4-902e-c9601e675aee",
   "metadata": {
    "tags": []
   },
   "outputs": [],
   "source": [
    "int(5/2 + 0.5)"
   ]
  },
  {
   "cell_type": "code",
   "execution_count": null,
   "id": "f7e9f109-f003-4538-aa58-c15c399b23fd",
   "metadata": {
    "tags": []
   },
   "outputs": [],
   "source": [
    "data.head()"
   ]
  },
  {
   "cell_type": "code",
   "execution_count": null,
   "id": "6aa9e9d9-e352-4ecd-a7d5-d44f1dad9cef",
   "metadata": {
    "tags": []
   },
   "outputs": [],
   "source": [
    "#data = data[['Time', 'hour', 'minute', 'date', 'month', 'grouped_soil', 'grouped_resistance', 'grouped_soil_temp', 'rolling_mean_grouped_soil', 'rolling_mean_grouped_soil_temp', \n",
    "#             str(Soil_humi).replace(\"[\", \"\").replace(\"]\", \"\").replace(\"\\\\\",\"\"),\n",
    "#             str(Resistance).replace(\"[\", \"\").replace(\"]\", \"\").replace(\"\\\\\",\"\"),\n",
    "#             str(Soil_temp).replace(\"[\", \"\").replace(\"]\", \"\").replace(\"\\\\\",\"\")\n",
    "#            ]]\n",
    "\n",
    "# drop those values without rolling_mean\n",
    "#data = data[rolling_mean_window_data+int(rolling_mean_window_grouped/2 + 0.5):]\n",
    "data = data[4:]\n",
    "\n",
    "# reset changed index(due to drop)\n",
    "#data = data.reset_index()\n",
    "\n",
    "#data = data.drop(['index'],axis=1)"
   ]
  },
  {
   "cell_type": "code",
   "execution_count": null,
   "id": "dfe89884-e3ee-4342-8499-756a9b276668",
   "metadata": {
    "tags": []
   },
   "outputs": [],
   "source": [
    "print(data.iloc[0])\n",
    "\n",
    "data.head(10)"
   ]
  },
  {
   "cell_type": "code",
   "execution_count": null,
   "id": "62596422-0cc7-4340-9baf-5c4b5eeccfb8",
   "metadata": {
    "tags": []
   },
   "outputs": [],
   "source": [
    "#data_plot = data.drop(['hour','minute','date','month','grouped_soil','grouped_resistance','grouped_soil_temp', Soil_humi, Resistance, Soil_temp], axis=1)\n",
    "#data_plot.tail(20)"
   ]
  },
  {
   "cell_type": "code",
   "execution_count": null,
   "id": "0228501b-c8c7-447f-b91f-ab92fc77d4c9",
   "metadata": {
    "tags": []
   },
   "outputs": [],
   "source": [
    "#data_plot.set_index('Time').plot(figsize = (20,10))"
   ]
  },
  {
   "cell_type": "code",
   "execution_count": null,
   "id": "17eb8af1-7250-4919-b366-560be03c28e9",
   "metadata": {},
   "outputs": [],
   "source": [
    "# Split dataset into train and test set\n",
    "def split_data(data, split_date):\n",
    "    return data[data.index <= split_date].copy(), \\\n",
    "           data[data.index >  split_date].copy()\n",
    "\n",
    "train, test = split_data(data, pd.to_datetime('2023-04-25 15:30')) # splitting the data for training before 15th June"
   ]
  },
  {
   "cell_type": "code",
   "execution_count": null,
   "id": "c3b07c5c-34fa-4c36-a9c4-0f35768c560a",
   "metadata": {},
   "outputs": [],
   "source": [
    "import matplotlib.pyplot as plt\n",
    "\n",
    "plt.figure(figsize=(20,10))\n",
    "plt.xlabel('Time')\n",
    "plt.ylabel('rolling_mean_grouped_soil')\n",
    "plt.plot(train.index,train['rolling_mean_grouped_soil'],label='train')\n",
    "plt.plot(test.index,test['rolling_mean_grouped_soil'],label='test')\n",
    "plt.legend()\n",
    "plt.show()"
   ]
  },
  {
   "cell_type": "code",
   "execution_count": null,
   "id": "5d0ab77a-3ba2-49f8-91b4-5c4eef4c67ea",
   "metadata": {
    "tags": []
   },
   "outputs": [],
   "source": [
    "import numpy as np\n",
    "# calculate slope of \"rolling_mean_grouped_soil\"\n",
    "f = data.rolling_mean_grouped_soil\n",
    "data['gradient'] = np.gradient(f)\n",
    "#data.iloc[3270:3330]\n",
    "data.head(10)"
   ]
  },
  {
   "cell_type": "code",
   "execution_count": null,
   "id": "ea342d5f-72c3-4dd9-bf5c-d8c15709dfa8",
   "metadata": {
    "tags": []
   },
   "outputs": [],
   "source": [
    "# create dataframe with downward slope\n",
    "neg_slope = pd.DataFrame({\"Time\":[],\n",
    "                          \"index\":[],\n",
    "                          \"rolling_mean_grouped_soil\":[],\n",
    "                          \"gradient\":[]\n",
    "                         })\n",
    "i=0\n",
    "for index, row in data.iterrows():\n",
    "    if row['gradient'] < slope_irrigation:\n",
    "        print(index, row['rolling_mean_grouped_soil'], row['gradient'])\n",
    "        current_series = pd.Series([index, int(i), row['rolling_mean_grouped_soil'], row['gradient']], index=['Time', 'index', 'rolling_mean_grouped_soil', 'gradient'])#.to_frame().T\n",
    "        neg_slope = neg_slope.append(current_series,ignore_index=True)\n",
    "    i += 1\n",
    "len(neg_slope)"
   ]
  },
  {
   "cell_type": "code",
   "execution_count": null,
   "id": "b38844c1-6530-4c2c-9978-95d595b92b8d",
   "metadata": {
    "tags": []
   },
   "outputs": [],
   "source": [
    "type(neg_slope)"
   ]
  },
  {
   "cell_type": "code",
   "execution_count": null,
   "id": "58170d20-74ce-4b61-a93e-f628a9d136ec",
   "metadata": {
    "tags": []
   },
   "outputs": [],
   "source": [
    "#neg_slope = neg_slope.reset_index(inplace=True)\n",
    "neg_slope.head(50)"
   ]
  },
  {
   "cell_type": "code",
   "execution_count": null,
   "id": "a35e5841-6820-4dbd-af00-4e71d0d2c89e",
   "metadata": {
    "tags": []
   },
   "outputs": [],
   "source": [
    "# dont ask, I love pandas^\n",
    "#neg_slope_2 = pd.DataFrame({'Time':[], 'rolling_mean_grouped_soil':[], 'gradient': []})\n",
    "#neg_slope_2 = pd.concat([neg_slope_2, neg_slope], ignore_index=True)\n",
    "#neg_slope_2.head()"
   ]
  },
  {
   "cell_type": "code",
   "execution_count": null,
   "id": "b44cc49d-ae32-4618-8a1a-cd713fa3bbb3",
   "metadata": {
    "tags": []
   },
   "outputs": [],
   "source": [
    "#neg_slope_2 = neg_slope_2.reset_index(inplace=True)\n",
    "#neg_slope = neg_slope_2\n",
    "#neg_slope.head()"
   ]
  },
  {
   "cell_type": "code",
   "execution_count": null,
   "id": "2d748ffd-a1ac-4466-8160-70f56be3670a",
   "metadata": {
    "tags": []
   },
   "outputs": [],
   "source": [
    "#neg_slope = neg_slope.reset_index()\n",
    "#neg_slope.drop(index, axis=1).head()"
   ]
  },
  {
   "cell_type": "code",
   "execution_count": null,
   "id": "f213032f-010c-4879-a0f8-58b18a497a26",
   "metadata": {
    "tags": []
   },
   "outputs": [],
   "source": [
    "def delete_nonconsecutive_rows(df, column_name, min_consecutive):\n",
    "    arr = df['index'].to_numpy()\n",
    "    i = 0\n",
    "    while i < len(arr) - 1:\n",
    "        if arr[i+1] == arr[i] + 1:\n",
    "            start_index = i\n",
    "            while i < len(arr) - 1 and arr[i+1] == arr[i] + 1:\n",
    "                i += 1\n",
    "            end_index = i\n",
    "            if end_index - start_index + 1 < min_consecutive:\n",
    "                df = df.drop(range(start_index, end_index+1))\n",
    "        i += 1\n",
    "    return df\n",
    "\n",
    "neg_slope = delete_nonconsecutive_rows(neg_slope, 'index', 5)\n",
    "print(neg_slope)"
   ]
  },
  {
   "cell_type": "code",
   "execution_count": null,
   "id": "e3624527-d2b7-403b-a4e4-4db2dd1f1e84",
   "metadata": {
    "tags": []
   },
   "outputs": [],
   "source": [
    "# visualize areas with downward slope\n",
    "ax = data.drop(['hour','minute','date','month','grouped_soil','grouped_resistance','grouped_soil_temp','day_of_year'], axis=1).plot(figsize = (20,10))"
   ]
  },
  {
   "cell_type": "code",
   "execution_count": null,
   "id": "68c6406a-7c71-43cb-a2d7-37d3ad2d6041",
   "metadata": {
    "tags": []
   },
   "outputs": [],
   "source": [
    "# Create visual representation of irrigation times\n",
    "def highlight(data_plot,ax):\n",
    "    for index, value in neg_slope['index'].iteritems():\n",
    "        print(value)\n",
    "        ax.axvspan(value-10, value+10, facecolor='pink', edgecolor='none', alpha=.5)\n",
    "        \n",
    "highlight(data, ax)\n",
    "\n",
    "ax.figure.suptitle(\"\"\"Irrigation times highlighted\\n\\n\"\"\", fontweight =\"bold\") \n",
    "#ax.figure(figsize=(20,10))\n",
    "ax.figure.savefig('irrigation_times.png', dpi=400)"
   ]
  },
  {
   "cell_type": "code",
   "execution_count": null,
   "id": "a5f76f27-193d-4646-949d-f587cb034289",
   "metadata": {
    "tags": []
   },
   "outputs": [],
   "source": [
    "neg_slope_indices = neg_slope['index'].to_numpy()\n",
    "print(neg_slope_indices)"
   ]
  },
  {
   "cell_type": "code",
   "execution_count": null,
   "id": "01e34d0f-11ef-4532-b9c7-66a1a9c25974",
   "metadata": {
    "tags": []
   },
   "outputs": [],
   "source": [
    "#print(neg_slope_indices.astype(np.int32))\n",
    "#print(type(neg_slope_indices[0]))"
   ]
  },
  {
   "cell_type": "code",
   "execution_count": null,
   "id": "a29338a3-5af2-4602-b09a-5522d881c393",
   "metadata": {
    "tags": []
   },
   "outputs": [],
   "source": [
    "# Convert each element to an integer\n",
    "# Creating a NumPy ndarray with a specific datatype\n",
    "#neg_slope_int_indices = np.array([], dtype=np.int32)\n",
    "#print(type(neg_slope_int_indices))\n",
    "\n",
    "#for i in range(len(neg_slope_indices)):\n",
    "#    np.append(neg_slope_int_indices,int(neg_slope_indices[i]),axis=None)\n",
    "\n",
    "#print(neg_slope_indices)"
   ]
  },
  {
   "cell_type": "code",
   "execution_count": null,
   "id": "af534b4a-614f-49b6-a534-e1408ac1dbb0",
   "metadata": {
    "tags": []
   },
   "outputs": [],
   "source": [
    "#print(type(neg_slope_indices[0]))\n",
    "#print(neg_slope_indices)"
   ]
  },
  {
   "cell_type": "code",
   "execution_count": null,
   "id": "6d4e4cd9-5484-4837-8d35-4a465d8bdd09",
   "metadata": {
    "tags": []
   },
   "outputs": [],
   "source": [
    "def create_split_tuples(df, indices_to_omit):\n",
    "    # Sort the indices in ascending order\n",
    "    indices_to_omit = sorted(indices_to_omit)\n",
    "\n",
    "    # Create a list of index ranges to remove\n",
    "    ranges_to_remove = []\n",
    "    start_idx = None\n",
    "    for idx in indices_to_omit:\n",
    "        if start_idx is None:\n",
    "            start_idx = idx\n",
    "        elif idx == start_idx + 1:\n",
    "            start_idx = idx\n",
    "        else:\n",
    "            ranges_to_remove.append((int(start_idx), int(idx-1)))\n",
    "            start_idx = idx\n",
    "    if start_idx is not None:\n",
    "        ranges_to_remove.append((int(start_idx), len(df)))\n",
    "        \n",
    "    print(\"Irrigation times to be omitted: \", ranges_to_remove)\n",
    "    print(\"type: \", type(ranges_to_remove[0][0]))\n",
    "\n",
    "    return ranges_to_remove\n",
    "\n",
    "tuples_to_remove = create_split_tuples(data, neg_slope_indices)\n",
    "print(tuples_to_remove)"
   ]
  },
  {
   "cell_type": "code",
   "execution_count": null,
   "id": "fdef1015-cd52-4670-bed4-9d66d0d2b704",
   "metadata": {
    "tags": []
   },
   "outputs": [],
   "source": [
    "data['index'] = data.reset_index().index"
   ]
  },
  {
   "cell_type": "code",
   "execution_count": null,
   "id": "9005062b-c6c2-4360-a5d5-e5efd83512dc",
   "metadata": {
    "tags": []
   },
   "outputs": [],
   "source": [
    "def split_dataframe(df, index_ranges):\n",
    "    dfs = []\n",
    "    for i, (start, end) in enumerate(index_ranges):\n",
    "        print()\n",
    "        if index_ranges[i][1]-index_ranges[i][0] < min_length_df:\n",
    "            continue\n",
    "        else:\n",
    "            dfs.append(df.iloc[index_ranges[i][0]:index_ranges[i][1]])\n",
    "    return dfs\n",
    "\n",
    "sub_dfs = split_dataframe(data, tuples_to_remove) "
   ]
  },
  {
   "cell_type": "code",
   "execution_count": null,
   "id": "902cba9d-d3d0-4a8d-b569-a5185694f780",
   "metadata": {
    "tags": []
   },
   "outputs": [],
   "source": [
    "sub_dfs[0].head(2)"
   ]
  },
  {
   "cell_type": "code",
   "execution_count": null,
   "id": "ac06da8e-5e14-4471-9d8b-35a45f883fc8",
   "metadata": {
    "tags": []
   },
   "outputs": [],
   "source": [
    "# print dataframes\n",
    "print(\"There are \", len(sub_dfs), \" dataframes now.\")\n",
    "for sub_df in sub_dfs:\n",
    "    print(sub_df.iloc[0:1])\n",
    "    print(len(sub_df))\n",
    "    sub_df.drop(['index', 'grouped_soil', 'grouped_resistance', 'grouped_soil_temp', 'hour', 'minute', 'date', 'month', 'gradient', 'day_of_year'],axis=1).plot(figsize = (20,10))"
   ]
  },
  {
   "cell_type": "code",
   "execution_count": null,
   "id": "cdaa8089-0b91-403f-8086-4cf5ad79e9ef",
   "metadata": {
    "tags": []
   },
   "outputs": [],
   "source": [
    "# find global max and min in all sub_dfs and cut them from min to max \n",
    "# => train data will start with min and end with max \n",
    "cut_sub_dfs = []\n",
    "for i in range(len(sub_dfs)):\n",
    "    # reset \"new\" index\n",
    "    sub_dfs[i] = sub_dfs[i].reset_index()\n",
    "    \n",
    "    # index\n",
    "    global_min_index = sub_dfs[i]['rolling_mean_grouped_soil'].idxmin()\n",
    "    global_max_index = sub_dfs[i]['rolling_mean_grouped_soil'].idxmax()\n",
    "    # value\n",
    "    global_min = sub_dfs[i]['rolling_mean_grouped_soil'].min()\n",
    "    global_max = sub_dfs[i]['rolling_mean_grouped_soil'].max()\n",
    "    \n",
    "    if global_max_index-global_min_index > 0:\n",
    "        print(i,\": \",global_min_index, \"value:\", global_min, global_max_index, \"value:\", global_max, \"length:\", global_max_index-global_min_index)\n",
    "        cut_sub_dfs.append(sub_dfs[i].iloc[global_min_index:global_max_index])\n",
    "#sub_dfs[1].drop(['Time'],axis=1).plot()"
   ]
  },
  {
   "cell_type": "code",
   "execution_count": null,
   "id": "e714e975-56e3-4bb2-9fc6-6f35539b5644",
   "metadata": {
    "tags": []
   },
   "outputs": [],
   "source": [
    "for df in cut_sub_dfs:\n",
    "    print(df.index)\n",
    "    #df.drop(['index', 'hour', 'minute', 'date', 'month', 'day_of_year'],axis=1).plot()"
   ]
  },
  {
   "cell_type": "code",
   "execution_count": null,
   "id": "acef401a-edde-48f3-8963-639f66fe5d51",
   "metadata": {
    "tags": []
   },
   "outputs": [],
   "source": [
    "#from scipy.signal import argrelextrema\n",
    "#\n",
    "#for df in cut_sub_dfs:\n",
    "#    # Find local maxima and minima\n",
    "#    df['min'] = df.iloc[argrelextrema(df['rolling_mean_grouped_soil'].values, np.less_equal, order=2)[0]]['rolling_mean_grouped_soil']\n",
    "#    df['max'] = df.iloc[argrelextrema(df['rolling_mean_grouped_soil'].values, np.greater_equal, order=2)[0]]['rolling_mean_grouped_soil']\n",
    "#\n",
    "#    # Plot data and local extrema\n",
    "#    plt.plot(df['rolling_mean_grouped_soil'])\n",
    "#    plt.scatter(df.index, df['min'], c='r')\n",
    "#    plt.scatter(df.index, df['max'], c='g')\n",
    "#    plt.show()"
   ]
  },
  {
   "cell_type": "code",
   "execution_count": null,
   "id": "0de25af7-f8e1-4ad5-8cfd-02aee9127e43",
   "metadata": {
    "tags": []
   },
   "outputs": [],
   "source": [
    "cut_sub_dfs[0].head()"
   ]
  },
  {
   "cell_type": "code",
   "execution_count": null,
   "id": "a2eb99e9-2899-4314-a423-3812924096fd",
   "metadata": {},
   "outputs": [],
   "source": [
    "for i in range(len(cut_sub_dfs)):\n",
    "    # clean dataframe\n",
    "    #cut_sub_dfs[i] = cut_sub_dfs[i].reset_index()\n",
    "    cut_sub_dfs[i] = cut_sub_dfs[i].set_index('Time')\n",
    "    cut_sub_dfs[i] = cut_sub_dfs[i].rename(columns={'index':'orig_index'})"
   ]
  },
  {
   "cell_type": "code",
   "execution_count": null,
   "id": "35170767-7db7-406d-bb5a-a1b4ca7a1bc7",
   "metadata": {},
   "outputs": [],
   "source": [
    "cut_sub_dfs[0].head()"
   ]
  },
  {
   "cell_type": "code",
   "execution_count": null,
   "id": "fe47cf6b-3a12-46ec-b61d-198668244b32",
   "metadata": {
    "tags": []
   },
   "outputs": [],
   "source": [
    "i = 1\n",
    "for df in cut_sub_dfs:\n",
    "    print(\"Dataframe: \",i)\n",
    "    i+=1\n",
    "    print(df.iloc[:1])\n",
    "    #df.drop(['orig_index', 'Time', 'hour', 'minute', 'date', 'month', 'gradient'],axis=1).plot()"
   ]
  },
  {
   "cell_type": "code",
   "execution_count": null,
   "id": "a4689136-545f-4748-854a-dcf37dbe6927",
   "metadata": {
    "tags": []
   },
   "outputs": [],
   "source": [
    "# save all dataframes to one and rename\n",
    "df_comb = pd.DataFrame()\n",
    "for i in range(len(cut_sub_dfs)):\n",
    "    # copy elements to one df_comb\n",
    "    \n",
    "    df_comb = pd.concat([df_comb, cut_sub_dfs[i]['orig_index']], axis=1)\n",
    "    df_comb = pd.concat([df_comb, cut_sub_dfs[i]['rolling_mean_grouped_soil']], axis=1)\n",
    "    \n",
    "    df_comb = df_comb.rename(columns={'orig_index':'orig_index_' + str(i)})\n",
    "    df_comb = df_comb.rename(columns={'rolling_mean_grouped_soil':'rolling_mean_grouped_soil_' + str(i)})\n",
    "    \n",
    "df_comb.head(25)"
   ]
  },
  {
   "cell_type": "code",
   "execution_count": null,
   "id": "c8b07f89-ad30-4920-8b44-817f4f49f205",
   "metadata": {
    "tags": []
   },
   "outputs": [],
   "source": [
    "# series are not of same length => visualized here!\n",
    "import re\n",
    "\n",
    "df_comb_plot = df_comb\n",
    "pattern = r\"^orig_index_*\"\n",
    "\n",
    "for colname in df_comb.columns:\n",
    "    if re.search(pattern, colname):\n",
    "        print(\"Drop: \", colname)\n",
    "        df_comb_plot = df_comb_plot.drop(columns=colname, axis=1)\n",
    "        \n",
    "df_comb_plot.plot(figsize = (20,10))\n",
    "print(len(df_comb_plot.columns))"
   ]
  },
  {
   "cell_type": "markdown",
   "id": "52ce6ff2-34ec-4ea4-8da5-758fb49ac4d7",
   "metadata": {
    "tags": []
   },
   "source": [
    "## Create lag features \n",
    "In this section lag features are created to increase the models performance with former soil drying examples.\n",
    "\n",
    "### TODO: Omit lag features that are shorter than current dataframe or series."
   ]
  },
  {
   "cell_type": "code",
   "execution_count": null,
   "id": "2dac762e-720d-4a33-93b7-c805b6a367ed",
   "metadata": {
    "tags": []
   },
   "outputs": [],
   "source": [
    "j=1\n",
    "for cut_sub_df in cut_sub_dfs:\n",
    "    print(\"Start time of df\",j,\":\",cut_sub_df.index[0].time(), \"Length: \",len(cut_sub_df))\n",
    "    j+=1\n",
    "print(\"Should be aligned with:\",cut_sub_dfs[len(cut_sub_dfs)-1].index[0].time())"
   ]
  },
  {
   "cell_type": "code",
   "execution_count": null,
   "id": "dd0edd6c-4c9b-4538-98ba-f7d062f1e480",
   "metadata": {
    "tags": []
   },
   "outputs": [],
   "source": [
    "# Always take the last period and enhance with formerly recorded data\n",
    "def create_lags():\n",
    "    lag_periods = len(cut_sub_dfs)\n",
    "    # copy last df initially to df_lag\n",
    "    df_lag = cut_sub_dfs[lag_periods-1]\n",
    "    timestamp_to_align = cut_sub_dfs[lag_periods-1].index[0].time()\n",
    "\n",
    "    print(\"Timestamp to align older dfs with: \",timestamp_to_align)\n",
    "    \n",
    "    # cut previous recorded dfs according to timestamp_to_align\n",
    "    j = 0\n",
    "    for cut_sub_df in cut_sub_dfs[:-1]:\n",
    "        i = 0\n",
    "        for index, row in cut_sub_df.iterrows():\n",
    "            #print(i,index.time())\n",
    "            if (timestamp_to_align == index.time()):\n",
    "                print(\"Found match:\",index.time(), \"Present in dataframe: \",j,\"At the index:\",i)\n",
    "                # drop rows in current dataframe that are before\n",
    "                cut_sub_dfs[j] = cut_sub_df.iloc[i:]\n",
    "                print(\"Should be the same like:\",cut_sub_dfs[j].index[0].time())\n",
    "                break\n",
    "            i+=1\n",
    "        \n",
    "        # rename and append previous soil drying examples to df_lag\n",
    "        for col in cut_sub_dfs[j].columns:\n",
    "            new_col_name = col + \"_lag_\" + str(j + 1)\n",
    "            append_col = cut_sub_dfs[j].rename(columns={col: new_col_name})\n",
    "            append_col = append_col.reset_index(drop=True)\n",
    "            #print(append_col)\n",
    "            \n",
    "            # append it to df_lag:\n",
    "            #df_lag = df_lag.join(append_col[new_col_name])#.reset_index(drop=True))    #n investigate merge()\n",
    "            #df_lag = pd.concat([df_lag, append_col[new_col_name]], axis=1)\n",
    "            #df_lag = pd.concat([df_lag, append_col[new_col_name]], axis = 1)\n",
    "            \n",
    "            # Concatenate the smaller dataframe with the larger dataframe horizontally\n",
    "            #merged_df = pd.concat([small_df, large_df], axis=1)\n",
    "\n",
    "            # Alternatively, you can use merge to join the dataframes on a common column\n",
    "            merged_df = df_lag.merge(append_col[new_col_name], left_index=True, right_on='numerical_index_column')\n",
    "\n",
    "            #print(\"This is one:\",append_col[new_col_name])\n",
    "            \n",
    "        j+=1\n",
    "    \n",
    "    return df_lag\n",
    "\n",
    "# Call create_lags\n",
    "df_lag = create_lags()\n",
    "\n",
    "#print(df_lag.dtypes)\n",
    "\n",
    "# Plot correlation heatmap of missingness\n",
    "msno.matrix(df_lag)\n",
    "df_lag.to_csv('df_lag_my.csv', index=True)"
   ]
  },
  {
   "cell_type": "code",
   "execution_count": null,
   "id": "653dad52-b33d-4422-ad94-480b722f5f28",
   "metadata": {
    "tags": []
   },
   "outputs": [],
   "source": [
    "# always take the last period and enhance with formerly recorded data\n",
    "def create_lags():\n",
    "    df_lag = pd.DataFrame()\n",
    "    lag_periods = len(cut_sub_dfs)\n",
    "    \n",
    "    for cut_sub_df in cut_sub_dfs:\n",
    "        # an index does not have access to the dt object -> copy index to new column\n",
    "        cut_sub_df[\"TIME_COPY\"] = cut_sub_df.index\n",
    "        cut_sub_df[\"TIME_COPY\"] = pd.to_datetime(cut_sub_df[\"TIME_COPY\"])\n",
    "\n",
    "    last_df = cut_sub_dfs[lag_periods - 1]\n",
    "    df_lag = last_df.copy()\n",
    "\n",
    "    for index, cut_sub_df in enumerate(cut_sub_dfs[:lag_periods - 1]):\n",
    "        aligned_df = pd.DataFrame(index=last_df.index)\n",
    "        aligned_df = aligned_df.reindex(last_df.index, method='nearest')\n",
    "\n",
    "        for column in cut_sub_df.columns:\n",
    "            aligned_df[column] = cut_sub_df[column].reindex(last_df.index, method='nearest')\n",
    "\n",
    "        df_lag = pd.concat([df_lag, aligned_df], axis=1)\n",
    "\n",
    "    return df_lag\n",
    "\n",
    "# call create_lags\n",
    "df_lag = create_lags()\n",
    "\n",
    "# Plot correlation heatmap of missingness\n",
    "msno.matrix(df_lag)\n",
    "print(df_lag.iloc[0:3])\n",
    "df_lag.to_csv('df_lag.csv', index=True)"
   ]
  },
  {
   "cell_type": "code",
   "execution_count": null,
   "id": "99c2609a-b47a-4d7f-ace2-a095f8143b7b",
   "metadata": {
    "tags": []
   },
   "outputs": [],
   "source": [
    "# always take the last period and enhance with formerly recorded data\n",
    "def create_lags():\n",
    "    df_lag = pd.DataFrame()\n",
    "    lag_periods = len(cut_sub_dfs)\n",
    "    first_timestamp = []\n",
    "    time_differences = []\n",
    "\n",
    "    # iterate through dfs to get to know first timestamps of individual series\n",
    "    for cut_sub_df in cut_sub_dfs:\n",
    "        #append timestamps to array \n",
    "        first_timestamp.append(cut_sub_df.index[0])\n",
    "    print(first_timestamp)\n",
    "\n",
    "    for index, value in enumerate(first_timestamps):\n",
    "        \n",
    "    return df_lag\n",
    "    \n",
    "df_lag = create_lags()\n"
   ]
  },
  {
   "cell_type": "markdown",
   "id": "c00f6a4a",
   "metadata": {},
   "source": [
    "## Setup\n",
    "This function initializes the training environment and creates the transformation pipeline. Setup function must be called before executing any other function in PyCaret. `Setup` has only one required parameter i.e. `data`. All the other parameters are optional."
   ]
  },
  {
   "cell_type": "code",
   "execution_count": null,
   "id": "d2f16891-2c0e-489b-a11b-87ab229fc5f6",
   "metadata": {
    "tags": []
   },
   "outputs": [],
   "source": [
    "cut_sub_dfs[2].head()"
   ]
  },
  {
   "cell_type": "markdown",
   "id": "3c583864",
   "metadata": {},
   "source": [
    "Once the setup has been successfully executed it shows the information grid containing experiment level information. \n",
    "\n",
    "- **Session id:**  A pseudo-random number distributed as a seed in all functions for later reproducibility. If no `session_id` is passed, a random number is automatically generated that is distributed to all functions.<br/>\n",
    "<br/>\n",
    "- **Approach:**  Univariate or multivariate. <br/>\n",
    "<br/>\n",
    "- **Exogenous Variables:**  Exogeneous variables to be used in model. <br/>\n",
    "<br/>\n",
    "- **Original data shape:**  Shape of the original data prior to any transformations. <br/>\n",
    "<br/>\n",
    "- **Transformed train set shape :**  Shape of transformed train set <br/>\n",
    "<br/>\n",
    "- **Transformed test set shape :**  Shape of transformed test set <br/>\n",
    "<br/>"
   ]
  },
  {
   "cell_type": "markdown",
   "id": "ada19398",
   "metadata": {},
   "source": [
    "PyCaret has two set of API's that you can work with. (1) Functional (as seen above) and (2) Object Oriented API.\n",
    "\n",
    "With Object Oriented API instead of executing functions directly you will import a class and execute methods of class."
   ]
  },
  {
   "cell_type": "code",
   "execution_count": null,
   "id": "023a11c5-504a-4ad1-a4d0-dfa122d3e870",
   "metadata": {
    "tags": []
   },
   "outputs": [],
   "source": [
    "# Create a Lasso model with alpha=1.0 and a Ridge model with alpha=1.0\n",
    "#lasso_model = create_model('lasso', alpha=1.0, data=data, session_id=1235)\n",
    "#ridge_model = create_model('ridge', alpha=1.0, data=data, session_id=1234)\n",
    "\n",
    "# Compare all available classification models, including the Lasso and Ridge models\n",
    "#models = compare_models(models=[lasso_model, ridge_model], data=train_data, sort='Accuracy', n_select=3, fold=5, round=4)"
   ]
  },
  {
   "cell_type": "code",
   "execution_count": null,
   "id": "1aafda0e-e214-4937-b7b1-a59f4185928c",
   "metadata": {},
   "outputs": [],
   "source": [
    "# import TSForecastingExperiment and init the class\n",
    "#from pycaret.regression import *\n",
    "from pycaret.time_series import *\n",
    "exp=[]\n",
    "\n",
    "for i in range(len(cut_sub_dfs)):\n",
    "    exp.append(TSForecastingExperiment())\n",
    "    \n",
    "    # check the type of exp\n",
    "    type(exp[i])\n",
    "    \n",
    "    # init setup on exp\n",
    "    exp[i].setup(\n",
    "        cut_sub_dfs[i], \n",
    "        target = 'rolling_mean_grouped_soil', \n",
    "        enforce_exogenous = False, \n",
    "        fold_strategy='sliding', \n",
    "        fh = 48, \n",
    "        session_id = 123, \n",
    "        fold = 3,\n",
    "        use_gpu = False, # with GPU 3x longer times for compare_model() function\n",
    "        ignore_features = ['orig_index', 'gradient']\n",
    "        #numeric_imputation_exogenous = 'mean'\n",
    "    )"
   ]
  },
  {
   "cell_type": "code",
   "execution_count": null,
   "id": "2d338b8a-5c07-4508-b1af-9b4549b5995f",
   "metadata": {
    "tags": []
   },
   "outputs": [],
   "source": [
    "# show available models\n",
    "for i in range(len(cut_sub_dfs)):\n",
    "    print(exp[i].models())"
   ]
  },
  {
   "cell_type": "markdown",
   "id": "77213120",
   "metadata": {},
   "source": [
    "You can use any of the two method i.e. Functional or OOP and even switch back and forth between two set of API's. The choice of method will not impact the results and has been tested for consistency."
   ]
  },
  {
   "cell_type": "markdown",
   "id": "b86fdf15",
   "metadata": {},
   "source": [
    "## Check Stats\n",
    "The `check_stats` function is used to get summary statistics and run statistical tests on the original data or model residuals."
   ]
  },
  {
   "cell_type": "code",
   "execution_count": null,
   "id": "f449e9eb",
   "metadata": {},
   "outputs": [],
   "source": [
    "# check statistical tests on original data\n",
    "for i in range(len(cut_sub_dfs)):\n",
    "    print(\"This is the\", i, \"part of the data:\")\n",
    "    print(exp[i].check_stats())"
   ]
  },
  {
   "cell_type": "markdown",
   "id": "f98dd435",
   "metadata": {},
   "source": [
    "## Compare Models\n",
    "\n",
    "This function trains and evaluates the performance of all the estimators available in the model library using cross-validation. The output of this function is a scoring grid with average cross-validated scores. Metrics evaluated during CV can be accessed using the `get_metrics` function. Custom metrics can be added or removed using `add_metric` and `remove_metric` function."
   ]
  },
  {
   "cell_type": "code",
   "execution_count": null,
   "id": "65a19df4",
   "metadata": {},
   "outputs": [],
   "source": [
    "# compare baseline models\n",
    "best = []\n",
    "for i in range(len(cut_sub_dfs)):\n",
    "    print(\"This is for the\", i+1, \"part of the dataset: \")\n",
    "    best.append(exp[i].compare_models(\n",
    "        n_select = 8, \n",
    "        fold = 3, \n",
    "        sort = 'R2',# \n",
    "        verbose = 1, \n",
    "        exclude = ['lar_cds_dt', 'lr_cds_dt', 'auto_arima', 'arima'],\n",
    "        #include=['lr_cds_dt', 'br_cds_dt', 'ridge_cds_dt', \n",
    "        #         'huber_cds_dt', 'knn_cds_dt', 'catboost_cds_dt']\n",
    "    ))"
   ]
  },
  {
   "cell_type": "code",
   "execution_count": null,
   "id": "13a85241-5399-43a6-88db-dd5b4b98af15",
   "metadata": {
    "tags": []
   },
   "outputs": [],
   "source": [
    "for i in range(len(best)):\n",
    "    print(\"\\n The best model, for cut_sub_dfs[\", i,\"] is:\")\n",
    "    print(best[i][0])"
   ]
  },
  {
   "cell_type": "markdown",
   "id": "340de1e2",
   "metadata": {},
   "source": [
    "Notice that the output between functional and OOP API is consistent. Rest of the functions in this notebook will only be shown using functional API only. \n",
    "\n",
    "___"
   ]
  },
  {
   "cell_type": "markdown",
   "id": "6a77ec0c",
   "metadata": {},
   "source": [
    "## Analyze Model"
   ]
  },
  {
   "cell_type": "markdown",
   "id": "595ea108",
   "metadata": {},
   "source": [
    "You can use the `plot_model` function to analyzes the performance of a trained model on the test set. It may require re-training the model in certain cases."
   ]
  },
  {
   "cell_type": "code",
   "execution_count": null,
   "id": "0ec7fad6",
   "metadata": {},
   "outputs": [],
   "source": [
    "# plot forecast\n",
    "for i in range(len(exp)):\n",
    "    exp[i].plot_model(best[i], plot = 'forecast')"
   ]
  },
  {
   "cell_type": "code",
   "execution_count": null,
   "id": "05d4059d-b44a-40e0-bbf0-1e27dc675030",
   "metadata": {},
   "outputs": [],
   "source": [
    "# plot forecast for 36 months in future\n",
    "for i in range(len(exp)):\n",
    "    print(\"For the dataset:\",i)\n",
    "    exp[i].plot_model(best[i], plot = 'forecast', data_kwargs = {'fh' : 500})"
   ]
  },
  {
   "cell_type": "code",
   "execution_count": null,
   "id": "00eeab0c-cc91-4c69-8e3d-231047f8a846",
   "metadata": {},
   "outputs": [],
   "source": [
    "# plot forecast for 36 months in future\n",
    "for j in range(len(best[0])):\n",
    "    print(\"This is the \", j,  \". best model\")\n",
    "    for i in range(len(exp)):\n",
    "        print(\"For the dataset:\",i)\n",
    "        exp[i].plot_model(best[i][j], plot = 'forecast', data_kwargs = {'fh' : 500})"
   ]
  },
  {
   "cell_type": "code",
   "execution_count": null,
   "id": "7f4e098b-6189-4a9d-870f-08a2268d0628",
   "metadata": {},
   "outputs": [],
   "source": [
    "# residuals plot\n",
    "for i in range(len(exp)):\n",
    "    exp[i].plot_model(best[i], plot = 'residuals')"
   ]
  },
  {
   "cell_type": "code",
   "execution_count": null,
   "id": "a0107c65-1b8a-49b5-ad2b-eaeb6e821d5e",
   "metadata": {},
   "outputs": [],
   "source": [
    "# features plot\n",
    "for i in range(len(exp)):\n",
    "    exp[i].plot_model(best[i], plot = 'feature')"
   ]
  },
  {
   "cell_type": "code",
   "execution_count": null,
   "id": "da718984",
   "metadata": {},
   "outputs": [],
   "source": [
    "# check docstring to see available plots \n",
    "#help(plot_model)"
   ]
  },
  {
   "cell_type": "markdown",
   "id": "6bd66179",
   "metadata": {},
   "source": [
    "An alternate to `plot_model` function is `evaluate_model`. It can only be used in Notebook since it uses ipywidget."
   ]
  },
  {
   "cell_type": "markdown",
   "id": "954cbeff",
   "metadata": {},
   "source": [
    "## Prediction\n",
    "The `predict_model` function returns `y_pred`. When data is `None` (default), it uses `fh` as defined during the `setup` function. "
   ]
  },
  {
   "cell_type": "code",
   "execution_count": null,
   "id": "87c1a007",
   "metadata": {},
   "outputs": [],
   "source": [
    "# predict on test set\n",
    "holdout_pred = []\n",
    "for i in range(len(exp)):\n",
    "    holdout_pred.append(exp[i].predict_model(best[i][0]))"
   ]
  },
  {
   "cell_type": "code",
   "execution_count": null,
   "id": "5c01ac77",
   "metadata": {},
   "outputs": [],
   "source": [
    "# show predictions df\n",
    "for i in range(len(holdout_pred)):\n",
    "    print(holdout_pred[i].head(30))"
   ]
  },
  {
   "cell_type": "code",
   "execution_count": null,
   "id": "766ed344",
   "metadata": {},
   "outputs": [],
   "source": [
    "# generate forecast for 36 period in future\n",
    "for i in range(len(exp)):\n",
    "    print(exp[i].predict_model(best[i][0], fh = 36))"
   ]
  },
  {
   "cell_type": "markdown",
   "id": "e4384735",
   "metadata": {},
   "source": [
    "## Save Model"
   ]
  },
  {
   "cell_type": "markdown",
   "id": "cd63f053",
   "metadata": {},
   "source": [
    "Finally, you can save the entire pipeline on disk for later use, using pycaret's `save_model` function."
   ]
  },
  {
   "cell_type": "code",
   "execution_count": null,
   "id": "4181de41",
   "metadata": {},
   "outputs": [],
   "source": [
    "# save pipeline\n",
    "for i in range(len(exp)):\n",
    "    exp[i].save_model(best[i][0], 'my_weather_SPLIT_pipeline_TS_' + str(i))"
   ]
  },
  {
   "cell_type": "code",
   "execution_count": null,
   "id": "40ed5152",
   "metadata": {},
   "outputs": [],
   "source": [
    "# load pipeline\n",
    "loaded_best_pipeline = []\n",
    "for i in range(len(exp)): # TODO: exp will not work if it is not set before, use OS later\n",
    "    loaded_best_pipeline.append(load_model('my_weather_SPLIT_pipeline_TS_' + str(i)))\n",
    "    loaded_best_pipeline"
   ]
  },
  {
   "cell_type": "markdown",
   "id": "b2c7d62e",
   "metadata": {},
   "source": [
    "# 👇 Detailed function-by-function overview"
   ]
  },
  {
   "cell_type": "markdown",
   "id": "e05937f5",
   "metadata": {},
   "source": [
    "## ✅ Setup\n",
    "This function initializes the training environment and creates the transformation pipeline. Setup function must be called before executing any other function in PyCaret. `Setup` has only one required parameter i.e. `data`. All the other parameters are optional."
   ]
  },
  {
   "cell_type": "markdown",
   "id": "924d198b",
   "metadata": {},
   "source": [
    "To access all the variables created by the setup function such as transformed dataset, random_state, etc. you can use `get_config` method."
   ]
  },
  {
   "cell_type": "code",
   "execution_count": null,
   "id": "76128b08",
   "metadata": {},
   "outputs": [],
   "source": [
    "# check all available config\n",
    "exp[0].get_config('memory')"
   ]
  },
  {
   "cell_type": "code",
   "execution_count": null,
   "id": "dbc43292",
   "metadata": {},
   "outputs": [],
   "source": [
    "# lets access y_train_transformed\n",
    "exp[0].get_config('y_train_transformed')"
   ]
  },
  {
   "cell_type": "code",
   "execution_count": null,
   "id": "ef9cd061",
   "metadata": {},
   "outputs": [],
   "source": [
    "# another example: let's access seed\n",
    "#print(\"The current seed is: {}\".format(exp[0].get_config('seed')))\n",
    "\n",
    "# now lets change it using set_config\n",
    "#set_config('seed', 786)\n",
    "#print(\"The new seed is: {}\".format(get_config('seed')))"
   ]
  },
  {
   "cell_type": "markdown",
   "id": "7afbe41d",
   "metadata": {},
   "source": [
    "All the preprocessing configurations and experiment settings/parameters are passed into the `setup` function. To see all available parameters, check the docstring:"
   ]
  },
  {
   "cell_type": "code",
   "execution_count": null,
   "id": "2885a14f",
   "metadata": {},
   "outputs": [],
   "source": [
    "# help(setup)"
   ]
  },
  {
   "cell_type": "markdown",
   "id": "f8b75e77",
   "metadata": {},
   "source": [
    "## ✅  Check Stats\n",
    "The `check_stats` function is used to get summary statistics and run statistical tests on the original data or model residuals."
   ]
  },
  {
   "cell_type": "code",
   "execution_count": null,
   "id": "a5990dc3",
   "metadata": {},
   "outputs": [],
   "source": [
    "# check stats on original data, swap index of exp to see stats-> otherwise use print->ugly\n",
    "exp[0].check_stats()"
   ]
  },
  {
   "cell_type": "markdown",
   "id": "d5378836",
   "metadata": {},
   "source": [
    "## ✅ Tune Model\n",
    "\n",
    "The `tune_model` function tunes the hyperparameters of the model. The output of this function is a scoring grid with cross-validated scores by fold. The best model is selected based on the metric defined in optimize parameter. Metrics evaluated during cross-validation can be accessed using the `get_metrics` function. Custom metrics can be added or removed using `add_metric` and `remove_metric` function."
   ]
  },
  {
   "cell_type": "code",
   "execution_count": null,
   "id": "402597f2",
   "metadata": {},
   "outputs": [],
   "source": [
    "# train a dt model with default params\n",
    "#dt = create_model('dt_cds_dt')\n",
    "\n",
    "best[0]"
   ]
  },
  {
   "cell_type": "code",
   "execution_count": null,
   "id": "354e8092-540a-41a3-ad56-5b48e9495960",
   "metadata": {},
   "outputs": [],
   "source": [
    "best[0][6].__module__"
   ]
  },
  {
   "cell_type": "code",
   "execution_count": null,
   "id": "e3e9052d-e844-4b9c-a6c2-045a84059151",
   "metadata": {},
   "outputs": [],
   "source": [
    "# tune hyperparameters of best without grid\n",
    "def tune_all_without_grid(best):\n",
    "    for j in range(len(exp)):\n",
    "        tuned_best_models = []\n",
    "        for i in range(len(best[j])):\n",
    "            if re.search(r\"^pycaret\", best[j][i].__module__):\n",
    "                print(\"This is for DataFrame\", j, \"This is for the\",i,\".best model:\",best[j][i])\n",
    "                tuned_best_models.append(exp[j].tune_model(best[j][i])) #TODO: Problem: not all estimators allow tuning without grid\n",
    "            else:\n",
    "                print(\"Cannot tune without grid:\",best[j][i])\n",
    "        tuned_best_models_array.append(tuned_best_models)\n",
    "    return tuned_best_models_array\n",
    "        \n",
    "tuned_best_models_array = tune_all_without_grid(best)"
   ]
  },
  {
   "cell_type": "markdown",
   "id": "805b66b9",
   "metadata": {},
   "source": [
    "Metric to optimize can be defined in `optimize` parameter (default = 'MASE'). Also, a custom tuned grid can be passed with `custom_grid` parameter. "
   ]
  },
  {
   "cell_type": "code",
   "execution_count": null,
   "id": "cca8e640",
   "metadata": {},
   "outputs": [],
   "source": [
    "for j in range(len(exp)):\n",
    "    print(\"Dataset: \",j+1,\"\\n------------\")\n",
    "    for i in range(len(tuned_best_models_array[j])):\n",
    "        print(i,\". :\",tuned_best_models_array[j][i])"
   ]
  },
  {
   "cell_type": "code",
   "execution_count": null,
   "id": "a95f6548-e861-418b-9d57-e27036fa0acb",
   "metadata": {
    "tags": []
   },
   "outputs": [],
   "source": [
    "current = best[1][0]\n",
    "print(str(current.regressor), type(str(current.regressor)))\n",
    "print(current.get_params().keys())\n",
    "print(type(current).__name__)\n",
    "print(type(current).__name__.split('.')[-1])\n",
    "exp[0].models(internal = True)"
   ]
  },
  {
   "cell_type": "code",
   "execution_count": null,
   "id": "3629ce4b-474f-4b0a-b69b-a6954f6e9a46",
   "metadata": {
    "tags": []
   },
   "outputs": [],
   "source": [
    "for model in best[2]:\n",
    "    column_reference = data.columns[0]\n",
    "    print(model.__class__.__name__, column_reference)"
   ]
  },
  {
   "cell_type": "code",
   "execution_count": null,
   "id": "31e050ff",
   "metadata": {},
   "outputs": [],
   "source": [
    "# define tuning grid -> no grid for model defined, TODO: come back later\n",
    "#grid = {'regressor__max_depth' : [None, 2, 4, 6, 8, 10, 12]}\n",
    "#sp = {'regressor__max_depth' : [None, 2, 4, 6, 8, 10, 12]}\n",
    "# define the custom grid\n",
    "param_grid_linear = {\n",
    "    'degree': [1, 2, 3],\n",
    "    'deseasonal_model': ['multiplicative', 'additive'],\n",
    "    #'fe_target_rr': [True, False],\n",
    "    #'regressor__copy_X': [True, False],\n",
    "    #'regressor__fit_intercept': [True, False],\n",
    "    'regressor__n_jobs': [-1, 1, 2],\n",
    "    #'regressor__normalize': [True, False],\n",
    "    'regressor__positive': [True, False],\n",
    "    'sp': [1, 2, 3],\n",
    "    'window_length': [10, 20, 30]\n",
    "}\n",
    "\n",
    "param_grid_knn = {\n",
    "    'n_neighbors': [3, 5, 7],\n",
    "    'weights': ['uniform', 'distance'],\n",
    "    'algorithm': ['auto', 'ball_tree', 'kd_tree', 'brute'],\n",
    "    'leaf_size': [10, 20, 30, 40, 50],\n",
    "    'p': [1, 2]\n",
    "}\n",
    "\n",
    "params_grid = {\n",
    "    'naive_bayes': {\n",
    "        'alpha': [0.1, 0.5, 1.0],\n",
    "        'fit_prior': [True, False]\n",
    "    },\n",
    "    'linear_regression': {\n",
    "        'fit_intercept': [True, False],\n",
    "        'normalize': [True, False]\n",
    "    },\n",
    "    'ridge': {\n",
    "        'alpha': [0.1, 0.5, 1.0],\n",
    "        'fit_intercept': [True, False],\n",
    "        'normalize': [True, False],\n",
    "        'solver': ['auto', 'svd', 'cholesky', 'lsqr', 'sparse_cg', 'sag', 'saga']\n",
    "    },\n",
    "    'lasso': {\n",
    "        'alpha': [0.1, 0.5, 1.0],\n",
    "        'fit_intercept': [True, False],\n",
    "        'normalize': [True, False],\n",
    "        'selection': ['cyclic', 'random']\n",
    "    },\n",
    "    'elastic_net': {\n",
    "        'alpha': [0.1, 0.5, 1.0],\n",
    "        'l1_ratio': [0.1, 0.5, 0.9],\n",
    "        'fit_intercept': [True, False],\n",
    "        'normalize': [True, False],\n",
    "        'selection': ['cyclic', 'random']\n",
    "    },\n",
    "    'knn': {\n",
    "        'n_neighbors': [3, 5, 7, 9],\n",
    "        'weights': ['uniform', 'distance'],\n",
    "        'algorithm': ['auto', 'ball_tree', 'kd_tree', 'brute'],\n",
    "        'leaf_size': [15, 20, 30, 40]\n",
    "    },\n",
    "    'decision_tree': {\n",
    "        'criterion': ['gini', 'entropy'],\n",
    "        'splitter': ['best', 'random'],\n",
    "        'max_depth': [None, 5, 10, 20],\n",
    "        'min_samples_split': [2, 5, 10],\n",
    "        'min_samples_leaf': [1, 2, 4]\n",
    "    },\n",
    "    'random_forest': {\n",
    "        'n_estimators': [10, 50, 100],\n",
    "        'criterion': ['gini', 'entropy'],\n",
    "        'max_depth': [None, 5, 10, 20],\n",
    "        'min_samples_split': [2, 5, 10],\n",
    "        'min_samples_leaf': [1, 2, 4],\n",
    "        'bootstrap': [True, False]\n",
    "    },\n",
    "    'gradient_boosting': {\n",
    "        'n_estimators': [10, 50, 100],\n",
    "        'learning_rate': [0.01, 0.1, 1],\n",
    "        'max_depth': [3, 5, 10],\n",
    "        'min_samples_split': [2, 5, 10],\n",
    "        'min_samples_leaf': [1, 2, 4],\n",
    "        'subsample': [0.5, 0.7, 1],\n",
    "        'max_features': ['auto', 'sqrt', 'log2']\n",
    "    },\n",
    "    'support_vector': {\n",
    "        'C': [0.1, 0.5, 1.0],\n",
    "        'kernel': ['linear', 'poly', 'rbf', 'sigmoid'],\n",
    "        'degree': [2, 3, 4],\n",
    "        'gamma': ['scale', 'auto']\n",
    "    }\n",
    "}\n",
    "\n",
    "# tune model with custom grid and metric = MAE\n",
    "tuned_best_models_grid_all = []\n",
    "for i in range(len(exp)):\n",
    "    print(\"This is for Dataset number: \",i+1)\n",
    "    for j in range(len(best[i])):\n",
    "        tuned_best_models_grid_exp = []\n",
    "        print(\"This is for the\",j+1,\". best model:\",best[i][0])\n",
    "        for param in params_grid:\n",
    "            if param ==\n",
    "        \n",
    "        \n",
    "        \n",
    "        if str(best[i][j].regressor) == \"LinearRegression(n_jobs=-1)\":\n",
    "            tuned_best_models_grid_exp.append(exp[i].tune_model(best[i][j], custom_grid = param_grid_linear, optimize = 'MAE'))\n",
    "        elif str(best[i][j].regressor) == \"KNeighborsRegressor(n_jobs=-1)\":\n",
    "            tuned_best_models_grid_exp.append(exp[i].tune_model(best[i][j], custom_grid = param_grid_knn, optimize = 'MAE'))\n",
    "    tuned_best_models_grid_all.append(tuned_best_models_grid_exp)"
   ]
  },
  {
   "cell_type": "code",
   "execution_count": null,
   "id": "a19788f5",
   "metadata": {},
   "outputs": [],
   "source": [
    "# see tuned_dt params\n",
    "for i in range(len(best_models)):\n",
    "    print(tuned_best_models_grid[i])"
   ]
  },
  {
   "cell_type": "code",
   "execution_count": null,
   "id": "6cca514b",
   "metadata": {},
   "outputs": [],
   "source": [
    "# to access the tuner object you can set return_tuner = True\n",
    "tuners = []\n",
    "tuned_best_models_tuner = []\n",
    "\n",
    "for i in range(len(best_models)):\n",
    "    tuned_model, tuner = tune_model(best_models[i], custom_grid = param_grid, return_tuner=True) #tuned_best_models_grid[i] does not work\n",
    "    tuned_best_models_tuner.append(tuned_model)\n",
    "    tuners.append(tuner)    "
   ]
  },
  {
   "cell_type": "code",
   "execution_count": null,
   "id": "80cbb4a6",
   "metadata": {},
   "outputs": [],
   "source": [
    "# model object\n",
    "for i in range(len(tuned_best_models_tuner)):\n",
    "    tuned_best_models_tuner[i]"
   ]
  },
  {
   "cell_type": "code",
   "execution_count": null,
   "id": "7d5e49ca",
   "metadata": {},
   "outputs": [],
   "source": [
    "# tuner object\n",
    "for i in range(len(best_models)):\n",
    "    tuner[i]"
   ]
  },
  {
   "cell_type": "markdown",
   "id": "a1e2875b",
   "metadata": {},
   "source": [
    "For more details on all available `search_library` and `search_algorithm` please check the docstring. Some other parameters that you might find very useful in `tune_model` are:\n",
    "\n",
    "- choose_better\n",
    "- custom_scorer\n",
    "- n_iter\n",
    "- search_algorithm\n",
    "- optimize\n",
    "\n",
    "You can check the docstring of the function for more info."
   ]
  },
  {
   "cell_type": "code",
   "execution_count": null,
   "id": "94f9c86e",
   "metadata": {},
   "outputs": [],
   "source": [
    "# help(tune_model)"
   ]
  },
  {
   "cell_type": "markdown",
   "id": "ea8a9a4e",
   "metadata": {},
   "source": [
    "## ✅ Blend Models"
   ]
  },
  {
   "cell_type": "code",
   "execution_count": null,
   "id": "92599ef3-90d7-4957-a8d2-f4f2ee7f8d73",
   "metadata": {},
   "outputs": [],
   "source": [
    "len(tuned_best_models_grid)"
   ]
  },
  {
   "cell_type": "markdown",
   "id": "2ede29c4",
   "metadata": {},
   "source": [
    "This function trains a `EnsembleForecaster` for select models passed in the estimator_list parameter. The output of this function is a scoring grid with CV scores by fold. Metrics evaluated during CV can be accessed using the `get_metrics` function. Custom metrics can be added or removed using `add_metric` and `remove_metric` function."
   ]
  },
  {
   "cell_type": "code",
   "execution_count": null,
   "id": "61a7a1c5",
   "metadata": {},
   "outputs": [],
   "source": [
    "# top 3 models based on mae\n",
    "for i in range(len(best)):\n",
    "    print(tuned_best_models_grid[i])"
   ]
  },
  {
   "cell_type": "code",
   "execution_count": null,
   "id": "04f65f2f",
   "metadata": {},
   "outputs": [],
   "source": [
    "# blend top 3 models\n",
    "blended_model = []\n",
    "for i in range(len(best_models)):\n",
    "    print(tuned_best_models_grid[i])\n",
    "    blended_model.append(blend_models(best_models))"
   ]
  },
  {
   "cell_type": "markdown",
   "id": "9e788c9c",
   "metadata": {},
   "source": [
    "Some other parameters that you might find very useful in `blend_models` are:\n",
    "\n",
    "- choose_better\n",
    "- method\n",
    "- weights\n",
    "- fit_kwargs\n",
    "- optimize\n",
    "\n",
    "You can check the docstring of the function for more info."
   ]
  },
  {
   "cell_type": "code",
   "execution_count": null,
   "id": "99b549a6",
   "metadata": {},
   "outputs": [],
   "source": [
    "# help(blend_models)"
   ]
  },
  {
   "cell_type": "markdown",
   "id": "279a3127",
   "metadata": {},
   "source": [
    "## ✅ Plot Model"
   ]
  },
  {
   "cell_type": "markdown",
   "id": "862bd3e9",
   "metadata": {},
   "source": [
    "This function analyzes the performance of a trained model on the hold-out set. It may require re-training the model in certain cases."
   ]
  },
  {
   "cell_type": "code",
   "execution_count": null,
   "id": "9940106d-5ead-46cf-a487-2db924b47a8d",
   "metadata": {
    "tags": []
   },
   "outputs": [],
   "source": [
    "blended_model[0][0]"
   ]
  },
  {
   "cell_type": "code",
   "execution_count": null,
   "id": "28fbe362-2fd3-40c1-b421-3a845f9f1bc4",
   "metadata": {},
   "outputs": [],
   "source": [
    "# extend forecast horizon"
   ]
  },
  {
   "cell_type": "code",
   "execution_count": null,
   "id": "9c8da9b4",
   "metadata": {},
   "outputs": [],
   "source": [
    "# plot forecast\n",
    "for i in range(len(best_models)):\n",
    "    exp[i].plot_model(blended_model[i][0], plot = 'forecast', data_kwargs = {'fh' : 500}) #exp[i].plot_model(best[i], plot = 'forecast', data_kwargs = {'fh' : 500})"
   ]
  },
  {
   "cell_type": "code",
   "execution_count": null,
   "id": "10475c5c-f310-421e-a8ab-e30ace015cfb",
   "metadata": {
    "tags": []
   },
   "outputs": [],
   "source": [
    "future_df = exp[0].predict_model(best[0], fh=144)\n",
    "print(future_df)"
   ]
  },
  {
   "cell_type": "code",
   "execution_count": null,
   "id": "4761f77f-27da-4acc-b423-7bc42c8b11bd",
   "metadata": {
    "tags": []
   },
   "outputs": [],
   "source": [
    "cut_sub_dfs[0]['Time'][len(cut_sub_dfs[0])-1]"
   ]
  },
  {
   "cell_type": "code",
   "execution_count": null,
   "id": "139c8b8a-1241-463f-9ef7-12b547e239a7",
   "metadata": {
    "tags": []
   },
   "outputs": [],
   "source": [
    "cut_sub_dfs[0].tail()"
   ]
  },
  {
   "cell_type": "code",
   "execution_count": null,
   "id": "5b432cb4-f1ba-4c2d-a0d9-eb6394e8517d",
   "metadata": {
    "tags": []
   },
   "outputs": [],
   "source": [
    "len(cut_sub_dfs)"
   ]
  },
  {
   "cell_type": "code",
   "execution_count": null,
   "id": "bb5f25ce-2805-43ba-aad0-a784d415349a",
   "metadata": {
    "tags": []
   },
   "outputs": [],
   "source": [
    "# TODO: for loop\n",
    "all_dates = []\n",
    "for i in range(len(cut_sub_dfs)):\n",
    "    end = cut_sub_dfs[i]['Time'][len(cut_sub_dfs[i])-1]\n",
    "    #print(\"end before adding: \", end)\n",
    "    end=end+pd.Timedelta(days=2)\n",
    "    #print(\"end after adding: \", end)\n",
    "    all_dates.append(pd.date_range(start=cut_sub_dfs[i]['Time'][0], end=end, freq='10T')) #end= cut_sub_dfs[1]['Time'][len(cut_sub_dfs[1])-1]\n",
    "    print(\"Dataframe\",i,\":\",all_dates[i])"
   ]
  },
  {
   "cell_type": "code",
   "execution_count": null,
   "id": "d406e44e-977d-4887-924e-a4358a7a8694",
   "metadata": {
    "tags": []
   },
   "outputs": [],
   "source": [
    "# create new data (only dates)\n",
    "new_data = []\n",
    "for i in range(len(cut_sub_dfs)):\n",
    "    new_data.append(pd.DataFrame())\n",
    "    new_data[i]['Time'] = all_dates[i]\n",
    "    new_data[i]['hour'] = [i.hour for i in new_data[i]['Time']]\n",
    "    new_data[i]['minute'] = [i.minute for i in new_data[i]['Time']]\n",
    "    new_data[i]['date'] = [i.day for i in new_data[i]['Time']]\n",
    "    new_data[i]['month'] = [i.month for i in new_data[i]['Time']]\n",
    "    \n",
    "    print(\"Dataframe\",i,\":\")\n",
    "    print(new_data[i].head(1))"
   ]
  },
  {
   "cell_type": "code",
   "execution_count": null,
   "id": "f6b1d0c9-ba1b-4d6a-b270-860fec2e6962",
   "metadata": {
    "tags": []
   },
   "outputs": [],
   "source": [
    "new_data[0].head()"
   ]
  },
  {
   "cell_type": "code",
   "execution_count": null,
   "id": "6efa9488-572b-40a5-919f-3ba8553c33d9",
   "metadata": {
    "tags": []
   },
   "outputs": [],
   "source": [
    "future_df = []\n",
    "for i in range(len(cut_sub_dfs)):\n",
    "    future_df.append(exp[i].predict_model(best_models[i], X=new_data[i]))"
   ]
  },
  {
   "cell_type": "code",
   "execution_count": null,
   "id": "c5e3a4d9-77b1-4adb-962a-f3c13eb23bd8",
   "metadata": {
    "tags": []
   },
   "outputs": [],
   "source": [
    "for i in range(len(cut_sub_dfs)):\n",
    "    future_df[i].plot()"
   ]
  },
  {
   "cell_type": "code",
   "execution_count": null,
   "id": "a750d486",
   "metadata": {},
   "outputs": [],
   "source": [
    "# plot acf\n",
    "# for certain plots you don't need a trained model\n",
    "plot_model(plot = 'acf')"
   ]
  },
  {
   "cell_type": "code",
   "execution_count": null,
   "id": "b18d34a5",
   "metadata": {},
   "outputs": [],
   "source": [
    "# plot diagnostics\n",
    "# for certain plots you don't need a trained model\n",
    "plot_model(plot = 'diagnostics')"
   ]
  },
  {
   "cell_type": "markdown",
   "id": "2fef279d",
   "metadata": {},
   "source": [
    "Some other parameters that you might find very useful in `plot_model` are:\n",
    "\n",
    "- fig_kwargs\n",
    "- data_kwargs\n",
    "- display_format\n",
    "- return_fig\n",
    "- return_data\n",
    "- save\n",
    "\n",
    "You can check the docstring of the function for more info."
   ]
  },
  {
   "cell_type": "code",
   "execution_count": null,
   "id": "54b09b8e",
   "metadata": {},
   "outputs": [],
   "source": [
    "# help(plot_model)"
   ]
  },
  {
   "cell_type": "markdown",
   "id": "e27c212b",
   "metadata": {},
   "source": [
    "## ✅ Finalize Model\n",
    "This function trains a given model on the entire dataset including the hold-out set."
   ]
  },
  {
   "cell_type": "code",
   "execution_count": null,
   "id": "65225684",
   "metadata": {},
   "outputs": [],
   "source": [
    "final_best = finalize_model(best) #TODO: for loop"
   ]
  },
  {
   "cell_type": "code",
   "execution_count": null,
   "id": "80d17fec",
   "metadata": {},
   "outputs": [],
   "source": [
    "final_best"
   ]
  },
  {
   "cell_type": "markdown",
   "id": "ed00202c",
   "metadata": {},
   "source": [
    "## ✅ Deploy Model\n",
    "This function deploys the entire ML pipeline on the cloud.\n",
    "\n",
    "**AWS:**  When deploying model on AWS S3, environment variables must be configured using the command-line interface. To configure AWS environment variables, type `aws configure` in terminal. The following information is required which can be generated using the Identity and Access Management (IAM) portal of your amazon console account:\n",
    "\n",
    "- AWS Access Key ID\n",
    "- AWS Secret Key Access\n",
    "- Default Region Name (can be seen under Global settings on your AWS console)\n",
    "- Default output format (must be left blank)\n",
    "\n",
    "**GCP:** To deploy a model on Google Cloud Platform ('gcp'), the project must be created using the command-line or GCP console. Once the project is created, you must create a service account and download the service account key as a JSON file to set environment variables in your local environment. Learn more about it: https://cloud.google.com/docs/authentication/production\n",
    "\n",
    "**Azure:** To deploy a model on Microsoft Azure ('azure'), environment variables for the connection string must be set in your local environment. Go to settings of storage account on Azure portal to access the connection string required.\n",
    "AZURE_STORAGE_CONNECTION_STRING (required as environment variable)\n",
    "Learn more about it: https://docs.microsoft.com/en-us/azure/storage/blobs/storage-quickstart-blobs-python?toc=%2Fpython%2Fazure%2FTOC.json"
   ]
  },
  {
   "cell_type": "code",
   "execution_count": null,
   "id": "40b20a18",
   "metadata": {},
   "outputs": [],
   "source": [
    "# deploy model on aws s3\n",
    "# deploy_model(best, model_name = 'my_first_platform_on_aws',\n",
    "#             platform = 'aws', authentication = {'bucket' : 'pycaret-test'})"
   ]
  },
  {
   "cell_type": "code",
   "execution_count": null,
   "id": "9e236516",
   "metadata": {},
   "outputs": [],
   "source": [
    "# load model from aws s3\n",
    "# loaded_from_aws = load_model(model_name = 'my_first_platform_on_aws', platform = 'aws',\n",
    "#                              authentication = {'bucket' : 'pycaret-test'})\n",
    "\n",
    "# loaded_from_aws"
   ]
  },
  {
   "cell_type": "markdown",
   "id": "e169ae86",
   "metadata": {},
   "source": [
    "## ✅ Save / Load Model\n",
    "This function saves the transformation pipeline and a trained model object into the current working directory as a pickle file for later use."
   ]
  },
  {
   "cell_type": "code",
   "execution_count": null,
   "id": "bc5cf24a",
   "metadata": {},
   "outputs": [],
   "source": [
    "# save model\n",
    "for i in range(len(best_models)):\n",
    "    save_model(best_models[i], 'my_first_SPLIT_model' + str(i))"
   ]
  },
  {
   "cell_type": "code",
   "execution_count": null,
   "id": "e8478d34",
   "metadata": {},
   "outputs": [],
   "source": [
    "# load model\n",
    "for i in range(len(best_models)): # will not work need to know how many models->use os TODO\n",
    "    loaded_from_disk = load_model('my_first_SPILT_model'+str(i))\n",
    "    loaded_from_disk"
   ]
  },
  {
   "cell_type": "markdown",
   "id": "de5eee8c",
   "metadata": {},
   "source": [
    "## ✅ Save / Load Experiment\n",
    "This function saves all the experiment variables on disk, allowing to later resume without rerunning the setup function."
   ]
  },
  {
   "cell_type": "code",
   "execution_count": null,
   "id": "6a3c61b6",
   "metadata": {},
   "outputs": [],
   "source": [
    "# save experiment\n",
    "save_experiment('my_SPLIT_experiment')"
   ]
  },
  {
   "cell_type": "code",
   "execution_count": null,
   "id": "83252c09",
   "metadata": {
    "tags": []
   },
   "outputs": [],
   "source": [
    "# load experiment from disk\n",
    "exp_from_disk = load_experiment('my_SPLIT_experiment', data=data)"
   ]
  }
 ],
 "metadata": {
  "kernelspec": {
   "display_name": "Python 3 (ipykernel)",
   "language": "python",
   "name": "python3"
  },
  "language_info": {
   "codemirror_mode": {
    "name": "ipython",
    "version": 3
   },
   "file_extension": ".py",
   "mimetype": "text/x-python",
   "name": "python",
   "nbconvert_exporter": "python",
   "pygments_lexer": "ipython3",
   "version": "3.7.16"
  }
 },
 "nbformat": 4,
 "nbformat_minor": 5
}
