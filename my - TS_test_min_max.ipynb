{
 "cells": [
  {
   "cell_type": "markdown",
   "id": "81e0620e",
   "metadata": {},
   "source": [
    "Last updated: 16 Feb 2023\n",
    "\n",
    "# 👋 PyCaret Time Series Forecasting Tutorial\n",
    "\n",
    "PyCaret is an open-source, low-code machine learning library in Python that automates machine learning workflows. It is an end-to-end machine learning and model management tool that exponentially speeds up the experiment cycle and makes you more productive.\n",
    "\n",
    "Compared with the other open-source machine learning libraries, PyCaret is an alternate low-code library that can be used to replace hundreds of lines of code with a few lines only. This makes experiments exponentially fast and efficient. PyCaret is essentially a Python wrapper around several machine learning libraries and frameworks, such as scikit-learn, XGBoost, LightGBM, CatBoost, spaCy, Optuna, Hyperopt, Ray, and a few more.\n",
    "\n",
    "The design and simplicity of PyCaret are inspired by the emerging role of citizen data scientists, a term first used by Gartner. Citizen Data Scientists are power users who can perform both simple and moderately sophisticated analytical tasks that would previously have required more technical expertise.\n"
   ]
  },
  {
   "cell_type": "markdown",
   "id": "8116e19d",
   "metadata": {},
   "source": [
    "# 💻 Installation\n",
    "\n",
    "PyCaret is tested and supported on the following 64-bit systems:\n",
    "- Python 3.7 – 3.10\n",
    "- Python 3.9 for Ubuntu only\n",
    "- Ubuntu 16.04 or later\n",
    "- Windows 7 or later\n",
    "\n",
    "You can install PyCaret with Python's pip package manager:\n",
    "\n",
    "`pip install pycaret`\n",
    "\n",
    "PyCaret's default installation will not install all the extra dependencies automatically. For that you will have to install the full version:\n",
    "\n",
    "`pip install pycaret[full]`\n",
    "\n",
    "or depending on your use-case you may install one of the following variant:\n",
    "\n",
    "- `pip install pycaret[analysis]`\n",
    "- `pip install pycaret[models]`\n",
    "- `pip install pycaret[tuner]`\n",
    "- `pip install pycaret[mlops]`\n",
    "- `pip install pycaret[parallel]`\n",
    "- `pip install pycaret[test]`"
   ]
  },
  {
   "cell_type": "code",
   "execution_count": null,
   "id": "2ec31ad1-c094-47e9-921b-4f31332d85e2",
   "metadata": {},
   "outputs": [],
   "source": [
    "#TODO:add day of year "
   ]
  },
  {
   "cell_type": "code",
   "execution_count": null,
   "id": "d7142a33",
   "metadata": {
    "tags": []
   },
   "outputs": [],
   "source": [
    "# install pycaret\n",
    "#!pip install pycaret[full]\n",
    "# check installed version\n",
    "import pycaret \n",
    "pycaret.__version__"
   ]
  },
  {
   "cell_type": "markdown",
   "id": "fb66e98d",
   "metadata": {},
   "source": [
    "# 🚀 Quick start"
   ]
  },
  {
   "cell_type": "markdown",
   "id": "00347d44",
   "metadata": {},
   "source": [
    "PyCaret's time series forecasting module is now available. The module currently is suitable for univariate / multivariate time series forecasting tasks. The API of time series module is consistent with other modules of PyCaret.\n",
    "\n",
    "It comes built-in with preprocessing capabilities and over 30 algorithms comprising of statistical / time-series methods as well as machine learning based models. In addition to the model training, this module has lot of other capabilities such as automated hyperparameter tuning, ensembling, model analysis, model packaging and deployment capabilities. \n",
    "\n",
    "A typical workflow in PyCaret consist of following 5 steps in this order:\n",
    "\n",
    "### **Setup** ➡️ **Compare Models** ➡️ **Analyze Model** ➡️ **Prediction** ➡️ **Save Model** <br/>"
   ]
  },
  {
   "cell_type": "code",
   "execution_count": null,
   "id": "1b09f8df",
   "metadata": {
    "tags": []
   },
   "outputs": [],
   "source": [
    "# import pandas module\n",
    "import pandas as pd\n",
    " \n",
    "# creating a data frame\n",
    "data = pd.read_csv(\"binned_removed.csv\",header=0)\n",
    "data.head()\n",
    "\n",
    "# mean of one column\n",
    "data_mean = data[\"638de53168f31919048f189d, 63932c6e68f319085df375b5; B2_solar_x2_03, Soil_tension\"].mean()\n",
    "print(data_mean)"
   ]
  },
  {
   "cell_type": "code",
   "execution_count": null,
   "id": "2530c17c",
   "metadata": {
    "tags": []
   },
   "outputs": [],
   "source": [
    "# plot the dataset\n",
    "data.plot(figsize = (20,10))"
   ]
  },
  {
   "cell_type": "code",
   "execution_count": null,
   "id": "8351e32f-88cb-41ea-9476-1d3f526403f7",
   "metadata": {
    "tags": []
   },
   "outputs": [],
   "source": [
    "# Show if there are any missing values inside the data\n",
    "data.isna().any()"
   ]
  },
  {
   "cell_type": "code",
   "execution_count": null,
   "id": "d44d9c28-9ada-43e7-b94a-727265ce441c",
   "metadata": {
    "tags": []
   },
   "outputs": [],
   "source": [
    "import missingno as msno \n",
    "# Plot correlation heatmap of missingness\n",
    "msno.matrix(data);"
   ]
  },
  {
   "cell_type": "code",
   "execution_count": null,
   "id": "edc0d0d2-0440-4426-9cdd-022f70a4cc8f",
   "metadata": {
    "tags": []
   },
   "outputs": [],
   "source": [
    "msno.heatmap(data);"
   ]
  },
  {
   "cell_type": "code",
   "execution_count": null,
   "id": "5358f5ae-f4a6-47cd-be61-da1e5e69b594",
   "metadata": {
    "tags": []
   },
   "outputs": [],
   "source": [
    "msno.dendrogram(data)"
   ]
  },
  {
   "cell_type": "code",
   "execution_count": null,
   "id": "afabdbac-37e2-44cc-bcfd-02154e935833",
   "metadata": {
    "tags": []
   },
   "outputs": [],
   "source": [
    "# Get length cols\n",
    "len(data.columns)\n",
    "data.head()"
   ]
  },
  {
   "cell_type": "code",
   "execution_count": null,
   "id": "ead22039-ccc2-47f6-adc8-040aa6b45e3b",
   "metadata": {
    "tags": []
   },
   "outputs": [],
   "source": [
    "#impute data\n",
    "from sklearn.impute import KNNImputer\n",
    "\n",
    "# Copy the data\n",
    "data = data.copy(deep=True)\n",
    "\n",
    "#data_knn_imputed = data_knn_imputed.drop(['Time'], axis=1)\n",
    "\n",
    "# Init the transformer\n",
    "knn_imp = KNNImputer(n_neighbors=10)\n",
    "\n",
    "# Fit/transform\n",
    "data.iloc[:,1:8] = knn_imp.fit_transform(data.iloc[:,1:8])\n",
    "\n",
    "# Plot correlation heatmap of missingness\n",
    "msno.matrix(data)"
   ]
  },
  {
   "cell_type": "code",
   "execution_count": null,
   "id": "a50f0130-91b9-4af2-b90f-33aebd128b63",
   "metadata": {
    "tags": []
   },
   "outputs": [],
   "source": [
    "data.tail()"
   ]
  },
  {
   "cell_type": "code",
   "execution_count": null,
   "id": "cc0f8465-cd66-48e5-a0bf-6ba53396ca85",
   "metadata": {
    "tags": []
   },
   "outputs": [],
   "source": [
    "# Show if there are any missing values inside the data\n",
    "data.isna().any()"
   ]
  },
  {
   "cell_type": "code",
   "execution_count": null,
   "id": "dbe6bc73-1d0e-4bf1-8d1d-20eadc143abb",
   "metadata": {
    "tags": []
   },
   "outputs": [],
   "source": [
    "data.plot(subplots=True,figsize=(20,50))"
   ]
  },
  {
   "cell_type": "code",
   "execution_count": null,
   "id": "4ea36a4c-4a77-478d-9e7a-569ae907911e",
   "metadata": {
    "tags": []
   },
   "outputs": [],
   "source": [
    "for col in data:\n",
    "    if col == 'Time':\n",
    "        print('This is Time')\n",
    "        continue\n",
    "    else:\n",
    "        data[col] = data[col].rolling(window=15, win_type='gaussian').mean(std=15)"
   ]
  },
  {
   "cell_type": "code",
   "execution_count": null,
   "id": "029d5bce-3f56-4611-a48a-85da55f8e889",
   "metadata": {},
   "outputs": [],
   "source": [
    "data.plot(subplots=True,figsize=(20,50))"
   ]
  },
  {
   "cell_type": "code",
   "execution_count": null,
   "id": "758329ab-39d4-45db-8fd8-a97dc4b76278",
   "metadata": {
    "tags": []
   },
   "outputs": [],
   "source": [
    "data.isna().any()"
   ]
  },
  {
   "cell_type": "code",
   "execution_count": null,
   "id": "fa03c36c-8b58-489d-bd1e-3cc0ce5b86b8",
   "metadata": {
    "tags": []
   },
   "outputs": [],
   "source": [
    "# create average cols\n",
    "data['grouped_soil'] = data[['638de53168f31919048f189d, 63932c6e68f319085df375b5; B2_solar_x2_03, Soil_tension', '638de57568f31919048f189f, 63932c3668f319085df375ab; B4_solar_x1_03, Soil_tension']].mean(axis=1)\n",
    "data['grouped_resistance'] = data[['638de53168f31919048f189d, 63932c6e68f319085df375b7; B2_solar_x2_03, Resistance', '638de56a68f31919048f189e, 63932ce468f319085df375cb; B3_solar_x1_02, Resistance', '638de57568f31919048f189f, 63932c3668f319085df375ad; B4_solar_x1_03, Resistance']].mean(axis=1)\n",
    "data['grouped_soil_temp'] = data[['638de53168f31919048f189d, 63932c6e68f319085df375b9; B2_solar_x2_03, Soil_temperature', '638de57568f31919048f189f, 63932c3668f319085df375af; B4_solar_x1_03, Soil_temperature']].mean(axis=1)\n"
   ]
  },
  {
   "cell_type": "code",
   "execution_count": null,
   "id": "e530a9ad-4421-492e-bcce-6092bf4a8ed7",
   "metadata": {
    "tags": []
   },
   "outputs": [],
   "source": [
    "data.dtypes"
   ]
  },
  {
   "cell_type": "code",
   "execution_count": null,
   "id": "0710c24b-7c8e-4a92-8065-04de09c535d1",
   "metadata": {
    "tags": []
   },
   "outputs": [],
   "source": [
    "data['Time'] = data['Time'].str[:-9]\n",
    "data.head()"
   ]
  },
  {
   "cell_type": "code",
   "execution_count": null,
   "id": "4be0c2df-054d-4bb8-9684-4d64ed051542",
   "metadata": {},
   "outputs": [],
   "source": [
    "data['Time']=pd.to_datetime(data['Time'])\n",
    "\n",
    "data.head()"
   ]
  },
  {
   "cell_type": "code",
   "execution_count": null,
   "id": "2e790dbe-59be-4563-9b29-5639cf3adadb",
   "metadata": {
    "tags": []
   },
   "outputs": [],
   "source": [
    "data.dtypes"
   ]
  },
  {
   "cell_type": "code",
   "execution_count": null,
   "id": "6c79ab46-d3ca-454a-90dc-85264772fb86",
   "metadata": {
    "tags": []
   },
   "outputs": [],
   "source": [
    "## Create Features\n",
    "## create rolling mean: introduces NaN again -> later just cut off\n",
    "data['rolling_mean_grouped_soil'] = data['grouped_soil'].rolling(window=5, win_type='gaussian').mean(std=5)\n",
    "data['rolling_mean_grouped_soil_temp'] = data['grouped_soil_temp'].rolling(window=5, win_type='gaussian').mean(std=5)\n",
    "\n",
    "data['hour'] = data['Time'].dt.hour\n",
    "data['minute'] = data['Time'].dt.minute\n",
    "data['date'] = data['Time'].dt.day\n",
    "data['month'] = data['Time'].dt.month\n",
    "\n",
    "#data['Time'] = data.index"
   ]
  },
  {
   "cell_type": "code",
   "execution_count": null,
   "id": "a01e597d-1411-4f39-95e5-0affc818fa0c",
   "metadata": {
    "tags": []
   },
   "outputs": [],
   "source": [
    "# feature scaling\n",
    "data.describe()\n",
    "\n",
    "# Min-Max Normalization\n",
    "df = data.drop(['Time','rolling_mean_grouped_soil', 'hour', 'minute', 'date', 'month'], axis=1)\n",
    "df_norm = (df-df.min())/(df.max()-df.min())\n",
    "df_norm = pd.concat([df_norm, data['Time'],data['hour'], data['minute'], data['date'], data['month'], data.rolling_mean_grouped_soil], 1)\n",
    "data = df_norm"
   ]
  },
  {
   "cell_type": "code",
   "execution_count": null,
   "id": "6aa9e9d9-e352-4ecd-a7d5-d44f1dad9cef",
   "metadata": {
    "tags": []
   },
   "outputs": [],
   "source": [
    "data = data[['Time', 'hour', 'minute', 'date', 'month', 'grouped_soil', 'grouped_resistance', 'grouped_soil_temp', 'rolling_mean_grouped_soil', 'rolling_mean_grouped_soil_temp', '638de53168f31919048f189d, 63932c6e68f319085df375b5; B2_solar_x2_03, Soil_tension', '638de53168f31919048f189d, 63932c6e68f319085df375b7; B2_solar_x2_03, Resistance', '638de53168f31919048f189d, 63932c6e68f319085df375b9; B2_solar_x2_03, Soil_temperature', '638de56a68f31919048f189e, 63932ce468f319085df375cb; B3_solar_x1_02, Resistance', '638de57568f31919048f189f, 63932c3668f319085df375ab; B4_solar_x1_03, Soil_tension', '638de57568f31919048f189f, 63932c3668f319085df375ad; B4_solar_x1_03, Resistance', '638de57568f31919048f189f, 63932c3668f319085df375af; B4_solar_x1_03, Soil_temperature']]\n",
    "\n",
    "# drop those values without rolling_mean\n",
    "data = data[18:]\n",
    "\n",
    "# reset changed index(due to drop)\n",
    "data = data.reset_index()\n",
    "\n",
    "data = data.drop(['index'],axis=1)"
   ]
  },
  {
   "cell_type": "code",
   "execution_count": null,
   "id": "dfe89884-e3ee-4342-8499-756a9b276668",
   "metadata": {
    "tags": []
   },
   "outputs": [],
   "source": [
    "print(data.iloc[0])\n",
    "\n",
    "data.head(10)"
   ]
  },
  {
   "cell_type": "code",
   "execution_count": null,
   "id": "5121f3ec-4f84-4b36-be58-04672f4b227c",
   "metadata": {
    "tags": []
   },
   "outputs": [],
   "source": [
    "data.dtypes"
   ]
  },
  {
   "cell_type": "code",
   "execution_count": null,
   "id": "62596422-0cc7-4340-9baf-5c4b5eeccfb8",
   "metadata": {
    "tags": []
   },
   "outputs": [],
   "source": [
    "data_plot = data.drop(['hour','minute','date','month','grouped_soil','grouped_resistance','grouped_soil_temp','638de53168f31919048f189d, 63932c6e68f319085df375b5; B2_solar_x2_03, Soil_tension','638de53168f31919048f189d, 63932c6e68f319085df375b7; B2_solar_x2_03, Resistance','638de53168f31919048f189d, 63932c6e68f319085df375b9; B2_solar_x2_03, Soil_temperature','638de56a68f31919048f189e, 63932ce468f319085df375cb; B3_solar_x1_02, Resistance','638de57568f31919048f189f, 63932c3668f319085df375ab; B4_solar_x1_03, Soil_tension','638de57568f31919048f189f, 63932c3668f319085df375ad; B4_solar_x1_03, Resistance','638de57568f31919048f189f, 63932c3668f319085df375af; B4_solar_x1_03, Soil_temperature'], axis=1)\n",
    "data_plot.tail(20)"
   ]
  },
  {
   "cell_type": "code",
   "execution_count": null,
   "id": "0228501b-c8c7-447f-b91f-ab92fc77d4c9",
   "metadata": {
    "tags": []
   },
   "outputs": [],
   "source": [
    "data_plot.set_index('Time').plot(figsize = (20,10))"
   ]
  },
  {
   "cell_type": "code",
   "execution_count": null,
   "id": "17eb8af1-7250-4919-b366-560be03c28e9",
   "metadata": {},
   "outputs": [],
   "source": [
    "# Split dataset into train and test set\n",
    "def split_data(data, split_date):\n",
    "    return data[data['Time'] <= split_date].copy(), \\\n",
    "           data[data['Time'] >  split_date].copy()"
   ]
  },
  {
   "cell_type": "code",
   "execution_count": null,
   "id": "c3b07c5c-34fa-4c36-a9c4-0f35768c560a",
   "metadata": {},
   "outputs": [],
   "source": [
    "import matplotlib.pyplot as plt\n",
    "train, test = split_data(data, pd.to_datetime('2023-03-08 15:30')) # splitting the data for training before 15th June\n",
    "\n",
    "plt.figure(figsize=(20,10))\n",
    "plt.xlabel('Time')\n",
    "plt.ylabel('rolling_mean_grouped_soil')\n",
    "plt.plot(train.index,train['rolling_mean_grouped_soil'],label='train')\n",
    "plt.plot(test.index,test['rolling_mean_grouped_soil'],label='test')\n",
    "plt.legend()\n",
    "plt.show()"
   ]
  },
  {
   "cell_type": "code",
   "execution_count": null,
   "id": "5d0ab77a-3ba2-49f8-91b4-5c4eef4c67ea",
   "metadata": {
    "tags": []
   },
   "outputs": [],
   "source": [
    "import numpy as np\n",
    "# calculate slope of \"rolling_mean_grouped_soil\"\n",
    "f = data.rolling_mean_grouped_soil\n",
    "data['gradient'] = np.gradient(f)\n",
    "#data.iloc[3270:3330]"
   ]
  },
  {
   "cell_type": "code",
   "execution_count": null,
   "id": "ea342d5f-72c3-4dd9-bf5c-d8c15709dfa8",
   "metadata": {
    "tags": []
   },
   "outputs": [],
   "source": [
    "# create dataframe with downward slope\n",
    "neg_slope = pd.DataFrame({\"index\":[],\n",
    "                         \"rolling_mean_grouped_soil\":[],\n",
    "                         \"gradient\":[]}\n",
    "                        )\n",
    "\n",
    "for index, row in data.iterrows():\n",
    "    \n",
    "    if row['gradient'] < -0.07: #TODO: slope will change according to input values, find appropriate means to represent!!!!\n",
    "        #print(index, row['rolling_mean_grouped_soil'], row['gradient'])\n",
    "        current_series = pd.Series([int(round(index,0)), row['rolling_mean_grouped_soil'], row['gradient']], index=['index', 'rolling_mean_grouped_soil', 'gradient']).to_frame().T\n",
    "        neg_slope = neg_slope.append(current_series)\n",
    "len(neg_slope)       "
   ]
  },
  {
   "cell_type": "code",
   "execution_count": null,
   "id": "240a63a8-0c68-4e78-9de2-4ddebb95f5f2",
   "metadata": {
    "tags": []
   },
   "outputs": [],
   "source": [
    "# dont ask, I love pandas^^\n",
    "neg_slope_2 = pd.DataFrame({'index':[], 'rolling_mean_grouped_soil':[], 'gradient': []})\n",
    "neg_slope_2 = pd.concat([neg_slope_2, neg_slope], ignore_index=True)\n",
    "neg_slope = neg_slope_2"
   ]
  },
  {
   "cell_type": "code",
   "execution_count": null,
   "id": "f213032f-010c-4879-a0f8-58b18a497a26",
   "metadata": {
    "tags": []
   },
   "outputs": [],
   "source": [
    "def delete_nonconsecutive_rows(df, column_name, min_consecutive):\n",
    "    arr = df[column_name].to_numpy()\n",
    "    i = 0\n",
    "    while i < len(arr) - 1:\n",
    "        if arr[i+1] == arr[i] + 1:\n",
    "            start_index = i\n",
    "            while i < len(arr) - 1 and arr[i+1] == arr[i] + 1:\n",
    "                i += 1\n",
    "            end_index = i\n",
    "            if end_index - start_index + 1 < min_consecutive:\n",
    "                df = df.drop(range(start_index, end_index+1))\n",
    "        i += 1\n",
    "    return df\n",
    "\n",
    "neg_slope = delete_nonconsecutive_rows(neg_slope, 'index', 5)\n",
    "print(neg_slope)"
   ]
  },
  {
   "cell_type": "code",
   "execution_count": null,
   "id": "e3624527-d2b7-403b-a4e4-4db2dd1f1e84",
   "metadata": {
    "tags": []
   },
   "outputs": [],
   "source": [
    "# visualize areas with downward slope\n",
    "ax = data_plot.drop(['Time'], axis=1).plot()"
   ]
  },
  {
   "cell_type": "code",
   "execution_count": null,
   "id": "c1002845-8572-4f69-8658-11610df68d14",
   "metadata": {
    "tags": []
   },
   "outputs": [],
   "source": [
    "# Create visual representation of irrigation times\n",
    "def highlight(data_plot,ax):\n",
    "    for index, row in neg_slope.iterrows():\n",
    "        current_index = int(row['index'])\n",
    "        #print(current_index)\n",
    "        ax.axvspan(current_index-10, current_index+10, facecolor='pink', edgecolor='none', alpha=.5)\n",
    "        \n",
    "highlight(data_plot, ax)\n",
    "\n",
    "ax.figure.suptitle(\"\"\"Irrigation times highlighted\\n\\n\"\"\", fontweight =\"bold\") \n",
    "#ax.figure(figsize=(20,10))\n",
    "ax.figure.savefig('irrigation_times.png', dpi=400)"
   ]
  },
  {
   "cell_type": "code",
   "execution_count": null,
   "id": "a5f76f27-193d-4646-949d-f587cb034289",
   "metadata": {
    "tags": []
   },
   "outputs": [],
   "source": [
    "neg_slope_indices = neg_slope['index'].to_numpy()\n",
    "print(neg_slope_indices)"
   ]
  },
  {
   "cell_type": "code",
   "execution_count": null,
   "id": "01e34d0f-11ef-4532-b9c7-66a1a9c25974",
   "metadata": {
    "tags": []
   },
   "outputs": [],
   "source": [
    "print(neg_slope_indices.astype(np.int32))\n",
    "print(type(neg_slope_indices[0]))"
   ]
  },
  {
   "cell_type": "code",
   "execution_count": null,
   "id": "a29338a3-5af2-4602-b09a-5522d881c393",
   "metadata": {
    "tags": []
   },
   "outputs": [],
   "source": [
    "# Convert each element to an integer\n",
    "# Creating a NumPy ndarray with a specific datatype\n",
    "neg_slope_int_indices = np.array([], dtype=np.int32)\n",
    "print(type(neg_slope_int_indices))\n",
    "\n",
    "for i in range(len(neg_slope_indices)):\n",
    "    np.append(neg_slope_int_indices,int(neg_slope_indices[i]),axis=None)\n",
    "\n",
    "print(neg_slope_indices)"
   ]
  },
  {
   "cell_type": "code",
   "execution_count": null,
   "id": "af534b4a-614f-49b6-a534-e1408ac1dbb0",
   "metadata": {
    "tags": []
   },
   "outputs": [],
   "source": [
    "print(type(neg_slope_indices[0]))\n",
    "print(neg_slope_indices[0])"
   ]
  },
  {
   "cell_type": "code",
   "execution_count": null,
   "id": "6d4e4cd9-5484-4837-8d35-4a465d8bdd09",
   "metadata": {
    "tags": []
   },
   "outputs": [],
   "source": [
    "def create_split_tuples(df, indices_to_omit):\n",
    "    # Sort the indices in ascending order\n",
    "    indices_to_omit = sorted(indices_to_omit)\n",
    "\n",
    "    # Create a list of index ranges to remove\n",
    "    ranges_to_remove = []\n",
    "    start_idx = None\n",
    "    for idx in indices_to_omit:\n",
    "        if start_idx is None:\n",
    "            start_idx = idx\n",
    "        elif idx == start_idx + 1:\n",
    "            start_idx = idx\n",
    "        else:\n",
    "            ranges_to_remove.append((int(start_idx), int(idx-1)))\n",
    "            start_idx = idx\n",
    "    if start_idx is not None:\n",
    "        ranges_to_remove.append((int(start_idx), df.index.max()))\n",
    "        \n",
    "    print(\"Irrigation times to be omitted: \", ranges_to_remove)\n",
    "    print(\"type: \", type(ranges_to_remove[0][0]))\n",
    "\n",
    "    return ranges_to_remove\n",
    "\n",
    "tuples_to_remove = create_split_tuples(data, neg_slope_indices)"
   ]
  },
  {
   "cell_type": "code",
   "execution_count": null,
   "id": "44f6de7f-265c-4343-80a0-4850a2be8a55",
   "metadata": {
    "tags": []
   },
   "outputs": [],
   "source": [
    "def split_dataframe(df, index_ranges):\n",
    "    dfs = []\n",
    "    for i, (start, end) in enumerate(index_ranges):\n",
    "        if index_ranges[i][1]-index_ranges[i][0] < 50:\n",
    "            continue\n",
    "        else:\n",
    "            dfs.append(df.iloc[index_ranges[i][0]:index_ranges[i][1]])\n",
    "    return dfs\n",
    "\n",
    "sub_dfs = split_dataframe(data, tuples_to_remove) "
   ]
  },
  {
   "cell_type": "code",
   "execution_count": null,
   "id": "ac06da8e-5e14-4471-9d8b-35a45f883fc8",
   "metadata": {
    "tags": []
   },
   "outputs": [],
   "source": [
    "# print dataframes\n",
    "print(\"There are \", len(sub_dfs), \" dataframes now.\")\n",
    "for sub_df in sub_dfs:\n",
    "    print(sub_df.head(1))\n",
    "    print(len(sub_df))\n",
    "    sub_df.drop(['Time', 'hour', 'minute', 'date', 'month'], axis=1).plot()"
   ]
  },
  {
   "cell_type": "code",
   "execution_count": null,
   "id": "cdaa8089-0b91-403f-8086-4cf5ad79e9ef",
   "metadata": {
    "tags": []
   },
   "outputs": [],
   "source": [
    "# find global max and min in all sub_dfs and cut them from min to max \n",
    "# => train data will start with min and end with max \n",
    "cut_sub_dfs = []\n",
    "for i in range(len(sub_dfs)):\n",
    "    # reset \"new\" index\n",
    "    sub_dfs[i] = sub_dfs[i].reset_index()\n",
    "    \n",
    "    # index\n",
    "    global_min_index = sub_dfs[i]['rolling_mean_grouped_soil'].idxmin()\n",
    "    global_max_index = sub_dfs[i]['rolling_mean_grouped_soil'].idxmax()\n",
    "    # value\n",
    "    global_min = sub_dfs[i]['rolling_mean_grouped_soil'].min()\n",
    "    global_max = sub_dfs[i]['rolling_mean_grouped_soil'].max()\n",
    "    \n",
    "    print(i,\": \",global_min_index, \"value:\", global_min, global_max_index, \"value:\", global_max, \"length:\", global_max_index-global_min_index)\n",
    "    print(i,\": \",global_min_index, \"value:\", sub_dfs[i]['rolling_mean_grouped_soil'][global_min_index], global_max_index, \"value:\", sub_dfs[i]['rolling_mean_grouped_soil'][global_max_index], \"length:\", global_max_index-global_min_index)\n",
    "    \n",
    "    \n",
    "    cut_sub_dfs.append(sub_dfs[i].iloc[global_min_index:global_max_index])\n",
    "#sub_dfs[1].drop(['Time'],axis=1).plot()"
   ]
  },
  {
   "cell_type": "code",
   "execution_count": null,
   "id": "e714e975-56e3-4bb2-9fc6-6f35539b5644",
   "metadata": {
    "tags": []
   },
   "outputs": [],
   "source": [
    "for df in cut_sub_dfs:\n",
    "    df.drop(['Time', 'hour', 'minute', 'date', 'month', 'orig_index'],axis=1).plot()"
   ]
  },
  {
   "cell_type": "code",
   "execution_count": null,
   "id": "5289bce7-bb72-407b-b0e2-18ec760be4e9",
   "metadata": {
    "tags": []
   },
   "outputs": [],
   "source": [
    "#from scipy.signal import argrelextrema\n",
    "#\n",
    "#for df in cut_sub_dfs:\n",
    "#    # Find local maxima and minima\n",
    "#    df['min'] = df.iloc[argrelextrema(df['rolling_mean_grouped_soil'].values, np.less_equal, order=2)[0]]['rolling_mean_grouped_soil']\n",
    "#    df['max'] = df.iloc[argrelextrema(df['rolling_mean_grouped_soil'].values, np.greater_equal, order=2)[0]]['rolling_mean_grouped_soil']\n",
    "#\n",
    "#    # Plot data and local extrema\n",
    "#    plt.plot(df['rolling_mean_grouped_soil'])\n",
    "#    plt.scatter(df.index, df['min'], c='r')\n",
    "#    plt.scatter(df.index, df['max'], c='g')\n",
    "#    plt.show()"
   ]
  },
  {
   "cell_type": "code",
   "execution_count": null,
   "id": "2bdec2c6-14d2-42ac-a09c-82b49351fcb1",
   "metadata": {},
   "outputs": [],
   "source": [
    "for i in range(len(cut_sub_dfs)):\n",
    "    # clean dataframe\n",
    "    cut_sub_dfs[i] = cut_sub_dfs[i].reset_index()\n",
    "    cut_sub_dfs[i] = cut_sub_dfs[i].drop(['level_0'], axis=1)\n",
    "    cut_sub_dfs[i] = cut_sub_dfs[i].rename(columns={'index':'orig_index'})"
   ]
  },
  {
   "cell_type": "code",
   "execution_count": null,
   "id": "e2437a3e-e731-4e14-88c3-4814abeff6da",
   "metadata": {
    "tags": []
   },
   "outputs": [],
   "source": [
    "i = 1\n",
    "for df in cut_sub_dfs:\n",
    "    print(\"Dataframe: \",i)\n",
    "    i+=1\n",
    "    print(df.iloc[:1])\n",
    "    #df.drop(['orig_index', 'Time', 'hour', 'minute', 'date', 'month', 'gradient'],axis=1).plot()"
   ]
  },
  {
   "cell_type": "code",
   "execution_count": null,
   "id": "cd8685e5-8cbd-45da-8acd-dbbc01a6c541",
   "metadata": {
    "tags": []
   },
   "outputs": [],
   "source": [
    "# save all dataframes to one and rename\n",
    "df_comb = pd.DataFrame()\n",
    "for i in range(len(cut_sub_dfs)):\n",
    "    # copy elements to one df_comb\n",
    "    \n",
    "    df_comb = pd.concat([df_comb, cut_sub_dfs[i]['orig_index']], axis=1)\n",
    "    df_comb = pd.concat([df_comb, cut_sub_dfs[i]['rolling_mean_grouped_soil']], axis=1)\n",
    "    \n",
    "    df_comb = df_comb.rename(columns={'orig_index':'orig_index_' + str(i)})\n",
    "    df_comb = df_comb.rename(columns={'rolling_mean_grouped_soil':'rolling_mean_grouped_soil_' + str(i)})\n",
    "    \n",
    "df_comb.head()"
   ]
  },
  {
   "cell_type": "code",
   "execution_count": null,
   "id": "c8b07f89-ad30-4920-8b44-817f4f49f205",
   "metadata": {
    "tags": []
   },
   "outputs": [],
   "source": [
    "# series are not of same length => visualized here!\n",
    "df_comb.drop(['orig_index_0', 'orig_index_1', 'orig_index_2', 'orig_index_3'],axis=1).plot()"
   ]
  },
  {
   "cell_type": "markdown",
   "id": "c00f6a4a",
   "metadata": {},
   "source": [
    "## Setup\n",
    "This function initializes the training environment and creates the transformation pipeline. Setup function must be called before executing any other function in PyCaret. `Setup` has only one required parameter i.e. `data`. All the other parameters are optional."
   ]
  },
  {
   "cell_type": "code",
   "execution_count": null,
   "id": "d2f16891-2c0e-489b-a11b-87ab229fc5f6",
   "metadata": {
    "tags": []
   },
   "outputs": [],
   "source": [
    "cut_sub_dfs[0].head()"
   ]
  },
  {
   "cell_type": "code",
   "execution_count": null,
   "id": "97f2c6c6",
   "metadata": {
    "tags": []
   },
   "outputs": [],
   "source": [
    "# import pycaret time series and init setup\n",
    "from pycaret.time_series import *\n",
    "\n",
    "s=[]\n",
    "for i in range(len(cut_sub_dfs)):\n",
    "    s.append(setup(\n",
    "              cut_sub_dfs[i], \n",
    "              target = 'rolling_mean_grouped_soil',#+str(i), \n",
    "              #enforce_exogenous = False, \n",
    "              fh = 50,\n",
    "              session_id = 123,\n",
    "              #date_features=['Time'],\n",
    "              #numeric_features=['grouped_soil', 'grouped_resistance', 'grouped_soil_temp', 'rolling_mean_grouped_soil',\n",
    "              #                  'rolling_mean_grouped_soil_temp', \n",
    "              #                  '638de53168f31919048f189d, 63932c6e68f319085df375b5; B2_solar_x2_03, Soil_tension', \n",
    "              #                  '638de53168f31919048f189d, 63932c6e68f319085df375b7; B2_solar_x2_03, Resistance', \n",
    "              #                  '638de53168f31919048f189d, 63932c6e68f319085df375b9; B2_solar_x2_03, Soil_temperature', \n",
    "              #                  '638de56a68f31919048f189e, 63932ce468f319085df375cb; B3_solar_x1_02, Resistance', \n",
    "              #                  '638de57568f31919048f189f, 63932c3668f319085df375ab; B4_solar_x1_03, Soil_tension', \n",
    "              #                  '638de57568f31919048f189f, 63932c3668f319085df375ad; B4_solar_x1_03, Resistance', \n",
    "              #                  '638de57568f31919048f189f, 63932c3668f319085df375af; B4_solar_x1_03, Soil_temperature'],\n",
    "              ignore_features = ['Time', 'orig_index', 'gradient'],\n",
    "              fold=3\n",
    "              #data_split_time=datetime.datetime(2023, 3, 1, 0, 0)\n",
    "              #numeric_imputation_exogenous = 'mean'\n",
    "    ))"
   ]
  },
  {
   "cell_type": "markdown",
   "id": "3c583864",
   "metadata": {},
   "source": [
    "Once the setup has been successfully executed it shows the information grid containing experiment level information. \n",
    "\n",
    "- **Session id:**  A pseudo-random number distributed as a seed in all functions for later reproducibility. If no `session_id` is passed, a random number is automatically generated that is distributed to all functions.<br/>\n",
    "<br/>\n",
    "- **Approach:**  Univariate or multivariate. <br/>\n",
    "<br/>\n",
    "- **Exogenous Variables:**  Exogeneous variables to be used in model. <br/>\n",
    "<br/>\n",
    "- **Original data shape:**  Shape of the original data prior to any transformations. <br/>\n",
    "<br/>\n",
    "- **Transformed train set shape :**  Shape of transformed train set <br/>\n",
    "<br/>\n",
    "- **Transformed test set shape :**  Shape of transformed test set <br/>\n",
    "<br/>"
   ]
  },
  {
   "cell_type": "markdown",
   "id": "ada19398",
   "metadata": {},
   "source": [
    "PyCaret has two set of API's that you can work with. (1) Functional (as seen above) and (2) Object Oriented API.\n",
    "\n",
    "With Object Oriented API instead of executing functions directly you will import a class and execute methods of class."
   ]
  },
  {
   "cell_type": "code",
   "execution_count": null,
   "id": "023a11c5-504a-4ad1-a4d0-dfa122d3e870",
   "metadata": {
    "tags": []
   },
   "outputs": [],
   "source": [
    "# Create a Lasso model with alpha=1.0 and a Ridge model with alpha=1.0\n",
    "#lasso_model = create_model('lasso', alpha=1.0, data=data, session_id=1235)\n",
    "#ridge_model = create_model('ridge', alpha=1.0, data=data, session_id=1234)\n",
    "\n",
    "# Compare all available classification models, including the Lasso and Ridge models\n",
    "#models = compare_models(models=[lasso_model, ridge_model], data=train_data, sort='Accuracy', n_select=3, fold=5, round=4)"
   ]
  },
  {
   "cell_type": "code",
   "execution_count": null,
   "id": "f05b8590",
   "metadata": {},
   "outputs": [],
   "source": [
    "# import TSForecastingExperiment and init the class\n",
    "#from pycaret.regression import *\n",
    "from pycaret.time_series import *\n",
    "exp=[]\n",
    "for i in range(len(cut_sub_dfs)):\n",
    "    exp.append(TSForecastingExperiment())\n",
    "    \n",
    "    # check the type of exp\n",
    "    type(exp[i])\n",
    "    \n",
    "    # init setup on exp\n",
    "    exp[i].setup(\n",
    "        cut_sub_dfs[i], \n",
    "        target = 'rolling_mean_grouped_soil', \n",
    "        enforce_exogenous = False, \n",
    "        fold_strategy='sliding', \n",
    "        fh = 72, \n",
    "        session_id = 123, \n",
    "        fold = 3,\n",
    "        ignore_features = ['Time', 'orig_index', 'gradient']\n",
    "        #numeric_imputation_exogenous = 'mean'\n",
    "    )"
   ]
  },
  {
   "cell_type": "code",
   "execution_count": null,
   "id": "2d338b8a-5c07-4508-b1af-9b4549b5995f",
   "metadata": {
    "tags": []
   },
   "outputs": [],
   "source": [
    "# show available models\n",
    "for i in range(len(cut_sub_dfs)):\n",
    "    print(exp[i].models())"
   ]
  },
  {
   "cell_type": "markdown",
   "id": "77213120",
   "metadata": {},
   "source": [
    "You can use any of the two method i.e. Functional or OOP and even switch back and forth between two set of API's. The choice of method will not impact the results and has been tested for consistency."
   ]
  },
  {
   "cell_type": "markdown",
   "id": "b86fdf15",
   "metadata": {},
   "source": [
    "## Check Stats\n",
    "The `check_stats` function is used to get summary statistics and run statistical tests on the original data or model residuals."
   ]
  },
  {
   "cell_type": "code",
   "execution_count": null,
   "id": "f449e9eb",
   "metadata": {},
   "outputs": [],
   "source": [
    "# check statistical tests on original data\n",
    "for i in range(len(cut_sub_dfs)):\n",
    "    print(\"This is the\", i, \"part of the data:\")\n",
    "    print(exp[i].check_stats())"
   ]
  },
  {
   "cell_type": "markdown",
   "id": "f98dd435",
   "metadata": {},
   "source": [
    "## Compare Models\n",
    "\n",
    "This function trains and evaluates the performance of all the estimators available in the model library using cross-validation. The output of this function is a scoring grid with average cross-validated scores. Metrics evaluated during CV can be accessed using the `get_metrics` function. Custom metrics can be added or removed using `add_metric` and `remove_metric` function."
   ]
  },
  {
   "cell_type": "code",
   "execution_count": null,
   "id": "65a19df4",
   "metadata": {},
   "outputs": [],
   "source": [
    "# compare baseline models\n",
    "best = []\n",
    "for i in range(len(cut_sub_dfs)):\n",
    "    print(\"This is for the\", i, \"part of the dataset: \")\n",
    "    best.append(exp[i].compare_models(\n",
    "        n_select = 5, \n",
    "        fold = 3, \n",
    "        sort = 'R2',# \n",
    "        verbose = 1, \n",
    "        #exclude=['lar_cds_dt','auto_arima','arima'],\n",
    "        include=['lr_cds_dt', 'br_cds_dt', 'ridge_cds_dt', \n",
    "                 'huber_cds_dt', 'knn_cds_dt', 'catboost_cds_dt']\n",
    "    ))"
   ]
  },
  {
   "cell_type": "code",
   "execution_count": null,
   "id": "13a85241-5399-43a6-88db-dd5b4b98af15",
   "metadata": {
    "tags": []
   },
   "outputs": [],
   "source": [
    "for i in range(len(best)):\n",
    "    print(\"\\n The best model, for cut_sub_dfs[\", i,\"] is:\")\n",
    "    print(best[i][0])"
   ]
  },
  {
   "cell_type": "code",
   "execution_count": null,
   "id": "87477aa4",
   "metadata": {},
   "outputs": [],
   "source": [
    "# compare models using OOP -> just skip\n",
    "#best_oop = []\n",
    "#for i in range(len(cut_sub_dfs)):\n",
    "#    best_oop.append(exp[i].compare_models(\n",
    "#        #n_select = 3, \n",
    "#        fold = 3, \n",
    "#        sort = 'R2', \n",
    "#        verbose = 1, \n",
    "#        include=['lr_cds_dt', 'br_cds_dt', 'ridge_cds_dt', \n",
    "#                 'huber_cds_dt', 'auto_arima', 'knn_cds_dt', 'catboost_cds_dt']\n",
    "#    ))"
   ]
  },
  {
   "cell_type": "markdown",
   "id": "340de1e2",
   "metadata": {},
   "source": [
    "Notice that the output between functional and OOP API is consistent. Rest of the functions in this notebook will only be shown using functional API only. \n",
    "\n",
    "___"
   ]
  },
  {
   "cell_type": "markdown",
   "id": "6a77ec0c",
   "metadata": {},
   "source": [
    "## Analyze Model"
   ]
  },
  {
   "cell_type": "markdown",
   "id": "595ea108",
   "metadata": {},
   "source": [
    "You can use the `plot_model` function to analyzes the performance of a trained model on the test set. It may require re-training the model in certain cases."
   ]
  },
  {
   "cell_type": "code",
   "execution_count": null,
   "id": "0ec7fad6",
   "metadata": {},
   "outputs": [],
   "source": [
    "# plot forecast\n",
    "for i in range(len(exp)):\n",
    "    exp[i].plot_model(best[i], plot = 'forecast')"
   ]
  },
  {
   "cell_type": "code",
   "execution_count": null,
   "id": "6c5be2b7",
   "metadata": {},
   "outputs": [],
   "source": [
    "# plot forecast for 36 months in future\n",
    "for j in range(len(best[0])):\n",
    "    print(\"This is the \", j,  \". best model\")\n",
    "    for i in range(len(exp)):\n",
    "        print(\"For the dataset:\",i)\n",
    "        exp[i].plot_model(best[i][j], plot = 'forecast', data_kwargs = {'fh' : 500})"
   ]
  },
  {
   "cell_type": "code",
   "execution_count": null,
   "id": "9fc4b9b1",
   "metadata": {},
   "outputs": [],
   "source": [
    "# residuals plot\n",
    "for i in range(len(exp)):\n",
    "    exp[i].plot_model(best[i], plot = 'residuals')"
   ]
  },
  {
   "cell_type": "code",
   "execution_count": null,
   "id": "da718984",
   "metadata": {},
   "outputs": [],
   "source": [
    "# check docstring to see available plots \n",
    "#help(plot_model)"
   ]
  },
  {
   "cell_type": "markdown",
   "id": "6bd66179",
   "metadata": {},
   "source": [
    "An alternate to `plot_model` function is `evaluate_model`. It can only be used in Notebook since it uses ipywidget."
   ]
  },
  {
   "cell_type": "markdown",
   "id": "954cbeff",
   "metadata": {},
   "source": [
    "## Prediction\n",
    "The `predict_model` function returns `y_pred`. When data is `None` (default), it uses `fh` as defined during the `setup` function. "
   ]
  },
  {
   "cell_type": "code",
   "execution_count": null,
   "id": "87c1a007",
   "metadata": {},
   "outputs": [],
   "source": [
    "# predict on test set\n",
    "holdout_pred = []\n",
    "for i in range(len(exp)):\n",
    "    holdout_pred.append(exp[i].predict_model(best[i][0]))"
   ]
  },
  {
   "cell_type": "code",
   "execution_count": null,
   "id": "5c01ac77",
   "metadata": {},
   "outputs": [],
   "source": [
    "# show predictions df\n",
    "for i in range(len(holdout_pred)):\n",
    "    print(holdout_pred[i].head(30))"
   ]
  },
  {
   "cell_type": "code",
   "execution_count": null,
   "id": "766ed344",
   "metadata": {},
   "outputs": [],
   "source": [
    "# generate forecast for 36 period in future\n",
    "for i in range(len(exp)):\n",
    "    print(exp[i].predict_model(best[i][0], fh = 36))"
   ]
  },
  {
   "cell_type": "markdown",
   "id": "e4384735",
   "metadata": {},
   "source": [
    "## Save Model"
   ]
  },
  {
   "cell_type": "markdown",
   "id": "cd63f053",
   "metadata": {},
   "source": [
    "Finally, you can save the entire pipeline on disk for later use, using pycaret's `save_model` function."
   ]
  },
  {
   "cell_type": "code",
   "execution_count": null,
   "id": "4181de41",
   "metadata": {},
   "outputs": [],
   "source": [
    "# save pipeline\n",
    "for i in range(len(exp)):\n",
    "    exp[i].save_model(best[i][0], 'my_first_SPLIT_pipeline_TS_' + str(i))"
   ]
  },
  {
   "cell_type": "code",
   "execution_count": null,
   "id": "40ed5152",
   "metadata": {},
   "outputs": [],
   "source": [
    "# load pipeline\n",
    "loaded_best_pipeline = []\n",
    "for i in range(len(exp)): # TODO: exp will not work if it is not set before, use OS later\n",
    "    loaded_best_pipeline.append(load_model('my_first_SPLIT_pipeline_TS_' + str(i)))\n",
    "    loaded_best_pipeline"
   ]
  },
  {
   "cell_type": "markdown",
   "id": "b2c7d62e",
   "metadata": {},
   "source": [
    "# 👇 Detailed function-by-function overview"
   ]
  },
  {
   "cell_type": "markdown",
   "id": "e05937f5",
   "metadata": {},
   "source": [
    "## ✅ Setup\n",
    "This function initializes the training environment and creates the transformation pipeline. Setup function must be called before executing any other function in PyCaret. `Setup` has only one required parameter i.e. `data`. All the other parameters are optional."
   ]
  },
  {
   "cell_type": "code",
   "execution_count": null,
   "id": "24e503be",
   "metadata": {},
   "outputs": [],
   "source": [
    "s2 = []\n",
    "for i in range(len(cut_sub_dfs)):\n",
    "    s2.append(setup(\n",
    "        cut_sub_dfs[i], \n",
    "        target = 'rolling_mean_grouped_soil', \n",
    "        fh = 50, \n",
    "        session_id = 123, \n",
    "        use_gpu = True, \n",
    "        ignore_features = ['Time', 'orig_index', 'gradient'],\n",
    "        fold=3\n",
    "    ))"
   ]
  },
  {
   "cell_type": "markdown",
   "id": "924d198b",
   "metadata": {},
   "source": [
    "To access all the variables created by the setup function such as transformed dataset, random_state, etc. you can use `get_config` method."
   ]
  },
  {
   "cell_type": "code",
   "execution_count": null,
   "id": "76128b08",
   "metadata": {},
   "outputs": [],
   "source": [
    "# check all available config\n",
    "get_config()"
   ]
  },
  {
   "cell_type": "code",
   "execution_count": null,
   "id": "dbc43292",
   "metadata": {},
   "outputs": [],
   "source": [
    "# lets access y_train_transformed\n",
    "get_config('y_train_transformed')"
   ]
  },
  {
   "cell_type": "code",
   "execution_count": null,
   "id": "ef9cd061",
   "metadata": {},
   "outputs": [],
   "source": [
    "# another example: let's access seed\n",
    "print(\"The current seed is: {}\".format(get_config('seed')))\n",
    "\n",
    "# now lets change it using set_config\n",
    "set_config('seed', 786)\n",
    "print(\"The new seed is: {}\".format(get_config('seed')))"
   ]
  },
  {
   "cell_type": "markdown",
   "id": "7afbe41d",
   "metadata": {},
   "source": [
    "All the preprocessing configurations and experiment settings/parameters are passed into the `setup` function. To see all available parameters, check the docstring:"
   ]
  },
  {
   "cell_type": "code",
   "execution_count": null,
   "id": "2885a14f",
   "metadata": {},
   "outputs": [],
   "source": [
    "# help(setup)"
   ]
  },
  {
   "cell_type": "code",
   "execution_count": null,
   "id": "34ae0fce",
   "metadata": {},
   "outputs": [],
   "source": [
    "# init setup fold_strategy = expanding\n",
    "s3 = []\n",
    "for i in range(len(cut_sub_dfs)):\n",
    "    s3.append(setup(\n",
    "        cut_sub_dfs[i], \n",
    "        target = 'rolling_mean_grouped_soil', \n",
    "        #use_gpu = True, \n",
    "        fh = 50, \n",
    "        session_id = 123,\n",
    "        fold_strategy = 'expanding', \n",
    "        numeric_imputation_target = 'drift', \n",
    "        ignore_features = ['Time', 'orig_index', 'gradient']\n",
    "    ))"
   ]
  },
  {
   "cell_type": "markdown",
   "id": "36b8b803",
   "metadata": {},
   "source": [
    "## ✅ Compare Models\n",
    "This function trains and evaluates the performance of all estimators available in the model library using cross-validation. The output of this function is a scoring grid with average cross-validated scores. Metrics evaluated during CV can be accessed using the `get_metrics` function. Custom metrics can be added or removed using `add_metric` and `remove_metric` function."
   ]
  },
  {
   "cell_type": "code",
   "execution_count": null,
   "id": "a3350418",
   "metadata": {},
   "outputs": [],
   "source": [
    "best_comp = []\n",
    "for i in range(len(s3)):\n",
    "    best_comp.append(s3[i].compare_models(include=['lr_cds_dt', 'br_cds_dt', 'ridge_cds_dt', \n",
    "                 'huber_cds_dt', 'auto_arima', 'knn_cds_dt', 'catboost_cds_dt']))"
   ]
  },
  {
   "cell_type": "code",
   "execution_count": null,
   "id": "23a12933-b0c7-4f4e-8b59-f2c10a76309d",
   "metadata": {
    "tags": []
   },
   "outputs": [],
   "source": [
    "# compare the ones without turbo => same models, useless\n",
    "#best_comp_no_turbo = []\n",
    "#for i in range(len(s3)):\n",
    "#    best_comp_no_turbo.append(s3[i].compare_models(turbo=False))"
   ]
  },
  {
   "cell_type": "markdown",
   "id": "cd18dcf6",
   "metadata": {},
   "source": [
    "`compare_models` by default uses all the estimators in model library (all except models with `Turbo=False`) . To see all available models you can use the function `models()`"
   ]
  },
  {
   "cell_type": "code",
   "execution_count": null,
   "id": "432e93d7",
   "metadata": {},
   "outputs": [],
   "source": [
    "# check available models\n",
    "models()"
   ]
  },
  {
   "cell_type": "markdown",
   "id": "f588f54b",
   "metadata": {},
   "source": [
    "You can use the `include` and `exclude` parameter in the `compare_models` to train only select model or exclude specific models from training by passing the model id's in `exclude` parameter."
   ]
  },
  {
   "cell_type": "code",
   "execution_count": null,
   "id": "f2a7e578",
   "metadata": {},
   "outputs": [],
   "source": [
    "#compare_ts_models = compare_models(include = ['ets', 'arima', 'theta', 'naive', 'snaive', 'grand_means', 'polytrend'])"
   ]
  },
  {
   "cell_type": "code",
   "execution_count": null,
   "id": "c15a467e",
   "metadata": {},
   "outputs": [],
   "source": [
    "#compare_ts_models"
   ]
  },
  {
   "cell_type": "markdown",
   "id": "af9ae6cd",
   "metadata": {},
   "source": [
    "The function above has return trained model object as an output. The scoring grid is only displayed and not returned. If you need access to the scoring grid you can use `pull` function to access the dataframe."
   ]
  },
  {
   "cell_type": "code",
   "execution_count": null,
   "id": "fc529e25",
   "metadata": {},
   "outputs": [],
   "source": [
    "#compare_ts_models_results = pull()\n",
    "#compare_ts_models_results"
   ]
  },
  {
   "cell_type": "markdown",
   "id": "05a72fc2",
   "metadata": {},
   "source": [
    "By default `compare_models` return the single best performing model based on the metric defined in the `sort` parameter. Let's change our code to return 3 top models based on `MAE`."
   ]
  },
  {
   "cell_type": "code",
   "execution_count": null,
   "id": "1066dd07",
   "metadata": {},
   "outputs": [],
   "source": [
    "best_mae_models_top3 = []\n",
    "for i in range(len(s3)):\n",
    "    best_mae_models_top3.append(s3[i].compare_models(sort = 'MAE', n_select = 3,include=['lr_cds_dt', 'br_cds_dt', 'ridge_cds_dt', \n",
    "                 'huber_cds_dt', 'auto_arima', 'knn_cds_dt', 'catboost_cds_dt']))"
   ]
  },
  {
   "cell_type": "code",
   "execution_count": null,
   "id": "aa259708",
   "metadata": {},
   "outputs": [],
   "source": [
    "# list of top 3 models by MAE\n",
    "for i in range(len(best_mae_models_top3)):\n",
    "    print(\"This is model\",i,\":\")\n",
    "    print(best_mae_models_top3[i])"
   ]
  },
  {
   "cell_type": "markdown",
   "id": "1d91d27e",
   "metadata": {},
   "source": [
    "Some other parameters that you might find very useful in `compare_models` are:\n",
    "\n",
    "- fold\n",
    "- cross_validation\n",
    "- budget_time\n",
    "- errors\n",
    "- parallel\n",
    "- engine\n",
    "\n",
    "You can check the docstring of the function for more info."
   ]
  },
  {
   "cell_type": "code",
   "execution_count": null,
   "id": "f0c49e0b",
   "metadata": {},
   "outputs": [],
   "source": [
    "# help(compare_models)"
   ]
  },
  {
   "cell_type": "markdown",
   "id": "f8b75e77",
   "metadata": {},
   "source": [
    "## ✅  Check Stats\n",
    "The `check_stats` function is used to get summary statistics and run statistical tests on the original data or model residuals."
   ]
  },
  {
   "cell_type": "code",
   "execution_count": null,
   "id": "a5990dc3",
   "metadata": {},
   "outputs": [],
   "source": [
    "# check stats on original data, swap index of exp to see stats-> otherwise use print->ugly\n",
    "s3[0].check_stats()"
   ]
  },
  {
   "cell_type": "code",
   "execution_count": null,
   "id": "4aae2067",
   "metadata": {},
   "outputs": [],
   "source": [
    "# check_stats on residuals of best model\n",
    "for i in range(len(s3)):\n",
    "    s3[i].check_stats(estimator = best_mae_models_top3[i][0])"
   ]
  },
  {
   "cell_type": "markdown",
   "id": "9e6c47cb",
   "metadata": {},
   "source": [
    "## ✅ Experiment Logging\n",
    "PyCaret integrates with many different type of experiment loggers (default = 'mlflow'). To turn on experiment tracking in PyCaret you can set `log_experiment` and `experiment_name` parameter. It will automatically track all the metrics, hyperparameters, and artifacts based on the defined logger."
   ]
  },
  {
   "cell_type": "code",
   "execution_count": null,
   "id": "1af63fd0",
   "metadata": {},
   "outputs": [],
   "source": [
    "# from pycaret.time_series import *\n",
    "# s = setup(data, fh = 3, session_id = 123, log_experiment='mlflow', experiment_name='airline_experiment')"
   ]
  },
  {
   "cell_type": "code",
   "execution_count": null,
   "id": "42cd6120",
   "metadata": {},
   "outputs": [],
   "source": [
    "# compare models\n",
    "# best = compare_models()"
   ]
  },
  {
   "cell_type": "code",
   "execution_count": null,
   "id": "adc82ce5",
   "metadata": {},
   "outputs": [],
   "source": [
    "# start mlflow server on localhost:5000\n",
    "# !mlflow ui"
   ]
  },
  {
   "cell_type": "markdown",
   "id": "a06f9df7",
   "metadata": {},
   "source": [
    "By default PyCaret uses `MLFlow` logger that can be changed using `log_experiment` parameter. Following loggers are available:\n",
    "    \n",
    "    - mlflow\n",
    "    - wandb\n",
    "    - comet_ml\n",
    "    - dagshub\n",
    "    \n",
    "Other logging related parameters that you may find useful are:\n",
    "\n",
    "- experiment_custom_tags\n",
    "- log_plots\n",
    "- log_data\n",
    "- log_profile\n",
    "\n",
    "For more information check out the docstring of the `setup` function."
   ]
  },
  {
   "cell_type": "code",
   "execution_count": null,
   "id": "2f8b6aa1",
   "metadata": {},
   "outputs": [],
   "source": [
    "# help(setup)"
   ]
  },
  {
   "cell_type": "markdown",
   "id": "6ce0b555",
   "metadata": {},
   "source": [
    "## ✅ Create Model\n",
    "This function trains and evaluates the performance of a given estimator using cross-validation. The output of this function is a scoring grid with CV scores by fold. Metrics evaluated during CV can be accessed using the `get_metrics` function. Custom metrics can be added or removed using `add_metric` and `remove_metric` function. All the available models can be accessed using the models function."
   ]
  },
  {
   "cell_type": "code",
   "execution_count": null,
   "id": "837cebfa",
   "metadata": {},
   "outputs": [],
   "source": [
    "# check all the available models\n",
    "models()"
   ]
  },
  {
   "cell_type": "code",
   "execution_count": null,
   "id": "9ee40198-3fb8-45f0-adea-5962a39419f4",
   "metadata": {
    "tags": []
   },
   "outputs": [],
   "source": [
    "exp[0]"
   ]
  },
  {
   "cell_type": "code",
   "execution_count": null,
   "id": "9abc19a4-3e60-40cc-8351-9775a3fb57ee",
   "metadata": {},
   "outputs": [],
   "source": [
    "# train ets with default fold=3\n",
    "best_models_mae = []\n",
    "for i in range(len(s3)):\n",
    "    print(\"Best model: \",i,\": \",best_mae_models_top3[i][0])\n",
    "    best_models_mae.append(exp[i].create_model(best_mae_models_top3[i][0], fold=3))"
   ]
  },
  {
   "cell_type": "markdown",
   "id": "074b4572",
   "metadata": {},
   "source": [
    "The function above has return trained model object as an output. The scoring grid is only displayed and not returned. If you need access to the scoring grid you can use `pull` function to access the dataframe."
   ]
  },
  {
   "cell_type": "code",
   "execution_count": null,
   "id": "fe277e1b",
   "metadata": {},
   "outputs": [],
   "source": [
    "for i in range(len(best_models_mae)):\n",
    "    ets_results = exp[i].pull()\n",
    "    print(\"Model \",i,\":\",type(ets_results))\n",
    "    print(ets_results)"
   ]
  },
  {
   "cell_type": "code",
   "execution_count": null,
   "id": "148a74c4",
   "metadata": {},
   "outputs": [],
   "source": [
    "# train theta model with fold=5\n",
    "#theta = create_model('theta', fold=5)"
   ]
  },
  {
   "cell_type": "code",
   "execution_count": null,
   "id": "5a8906a8",
   "metadata": {},
   "outputs": [],
   "source": [
    "# train theta with specific model parameters\n",
    "#create_model('theta', deseasonalize = False, fold=5)"
   ]
  },
  {
   "cell_type": "markdown",
   "id": "08634e9e",
   "metadata": {},
   "source": [
    "Some other parameters that you might find very useful in `create_model` are:\n",
    "\n",
    "- cross_validation\n",
    "- engine\n",
    "- fit_kwargs\n",
    "\n",
    "You can check the docstring of the function for more info."
   ]
  },
  {
   "cell_type": "code",
   "execution_count": null,
   "id": "3fb32c74",
   "metadata": {},
   "outputs": [],
   "source": [
    "# help(create_model)"
   ]
  },
  {
   "cell_type": "markdown",
   "id": "d5378836",
   "metadata": {},
   "source": [
    "## ✅ Tune Model\n",
    "\n",
    "The `tune_model` function tunes the hyperparameters of the model. The output of this function is a scoring grid with cross-validated scores by fold. The best model is selected based on the metric defined in optimize parameter. Metrics evaluated during cross-validation can be accessed using the `get_metrics` function. Custom metrics can be added or removed using `add_metric` and `remove_metric` function."
   ]
  },
  {
   "cell_type": "code",
   "execution_count": null,
   "id": "402597f2",
   "metadata": {},
   "outputs": [],
   "source": [
    "# train a dt model with default params\n",
    "#dt = create_model('dt_cds_dt')"
   ]
  },
  {
   "cell_type": "code",
   "execution_count": null,
   "id": "90dc451d",
   "metadata": {},
   "outputs": [],
   "source": [
    "# tune hyperparameters of dt\n",
    "tuned_best_models = []\n",
    "for i in range(len(best_models_mae)):\n",
    "    print(\"This is for the\",i,\"model:\",best_models_mae[i])\n",
    "    tuned_best_models = tune_model(best_models_mae[i])"
   ]
  },
  {
   "cell_type": "markdown",
   "id": "805b66b9",
   "metadata": {},
   "source": [
    "Metric to optimize can be defined in `optimize` parameter (default = 'MASE'). Also, a custom tuned grid can be passed with `custom_grid` parameter. "
   ]
  },
  {
   "cell_type": "code",
   "execution_count": null,
   "id": "cca8e640",
   "metadata": {},
   "outputs": [],
   "source": [
    "for i in range(len(best_models_mae)):\n",
    "    print(tuned_best_models[i])"
   ]
  },
  {
   "cell_type": "code",
   "execution_count": null,
   "id": "68c101e7-6b61-49b6-8619-978bf326fcc1",
   "metadata": {
    "tags": []
   },
   "outputs": [],
   "source": [
    "current = best[1][0]\n",
    "print(str(current.regressor), type(str(current.regressor)))\n",
    "current.get_params().keys()\n"
   ]
  },
  {
   "cell_type": "code",
   "execution_count": null,
   "id": "31e050ff",
   "metadata": {},
   "outputs": [],
   "source": [
    "# define tuning grid -> no grid for model defined, TODO: come back later\n",
    "#grid = {'regressor__max_depth' : [None, 2, 4, 6, 8, 10, 12]}\n",
    "#sp = {'regressor__max_depth' : [None, 2, 4, 6, 8, 10, 12]}\n",
    "# define the custom grid\n",
    "param_grid_linear = {\n",
    "    'degree': [1, 2, 3],\n",
    "    'deseasonal_model': ['multiplicative', 'additive'],\n",
    "    #'fe_target_rr': [True, False],\n",
    "    #'regressor__copy_X': [True, False],\n",
    "    #'regressor__fit_intercept': [True, False],\n",
    "    'regressor__n_jobs': [-1, 1, 2],\n",
    "    #'regressor__normalize': [True, False],\n",
    "    'regressor__positive': [True, False],\n",
    "    'sp': [1, 2, 3],\n",
    "    'window_length': [10, 20, 30]\n",
    "}\n",
    "\n",
    "param_grid_knn = {\n",
    "    'n_neighbors': [3, 5, 7],\n",
    "    'weights': ['uniform', 'distance'],\n",
    "    'algorithm': ['auto', 'ball_tree', 'kd_tree', 'brute'],\n",
    "    'leaf_size': [10, 20, 30, 40, 50],\n",
    "    'p': [1, 2]\n",
    "}\n",
    "\n",
    "# tune model with custom grid and metric = MAE\n",
    "tuned_best_models_grid = []\n",
    "for i in range(len(exp)):\n",
    "    print(\"This is for the\",i,\"model:\",best[i][0])\n",
    "    if str(best[i][0].regressor) == \"LinearRegression(n_jobs=-1)\":\n",
    "        tuned_best_models_grid.append(exp[i].tune_model(best[i][0], custom_grid = param_grid_linear, optimize = 'MAE'))\n",
    "    elif str(best[i][0].regressor) == \"KNeighborsRegressor(n_jobs=-1)\":\n",
    "        tuned_best_models_grid.append(exp[i].tune_model(best[i][0], custom_grid = param_grid_knn, optimize = 'MAE'))"
   ]
  },
  {
   "cell_type": "code",
   "execution_count": null,
   "id": "a19788f5",
   "metadata": {},
   "outputs": [],
   "source": [
    "# see tuned_dt params\n",
    "for i in range(len(best_models)):\n",
    "    print(tuned_best_models_grid[i])"
   ]
  },
  {
   "cell_type": "code",
   "execution_count": null,
   "id": "6cca514b",
   "metadata": {},
   "outputs": [],
   "source": [
    "# to access the tuner object you can set return_tuner = True\n",
    "tuners = []\n",
    "tuned_best_models_tuner = []\n",
    "\n",
    "for i in range(len(best_models)):\n",
    "    tuned_model, tuner = tune_model(best_models[i], custom_grid = param_grid, return_tuner=True) #tuned_best_models_grid[i] does not work\n",
    "    tuned_best_models_tuner.append(tuned_model)\n",
    "    tuners.append(tuner)    "
   ]
  },
  {
   "cell_type": "code",
   "execution_count": null,
   "id": "80cbb4a6",
   "metadata": {},
   "outputs": [],
   "source": [
    "# model object\n",
    "for i in range(len(tuned_best_models_tuner)):\n",
    "    tuned_best_models_tuner[i]"
   ]
  },
  {
   "cell_type": "code",
   "execution_count": null,
   "id": "7d5e49ca",
   "metadata": {},
   "outputs": [],
   "source": [
    "# tuner object\n",
    "for i in range(len(best_models)):\n",
    "    tuner[i]"
   ]
  },
  {
   "cell_type": "markdown",
   "id": "a1e2875b",
   "metadata": {},
   "source": [
    "For more details on all available `search_library` and `search_algorithm` please check the docstring. Some other parameters that you might find very useful in `tune_model` are:\n",
    "\n",
    "- choose_better\n",
    "- custom_scorer\n",
    "- n_iter\n",
    "- search_algorithm\n",
    "- optimize\n",
    "\n",
    "You can check the docstring of the function for more info."
   ]
  },
  {
   "cell_type": "code",
   "execution_count": null,
   "id": "94f9c86e",
   "metadata": {},
   "outputs": [],
   "source": [
    "# help(tune_model)"
   ]
  },
  {
   "cell_type": "markdown",
   "id": "ea8a9a4e",
   "metadata": {},
   "source": [
    "## ✅ Blend Models"
   ]
  },
  {
   "cell_type": "code",
   "execution_count": null,
   "id": "92599ef3-90d7-4957-a8d2-f4f2ee7f8d73",
   "metadata": {},
   "outputs": [],
   "source": [
    "len(tuned_best_models_grid)"
   ]
  },
  {
   "cell_type": "markdown",
   "id": "2ede29c4",
   "metadata": {},
   "source": [
    "This function trains a `EnsembleForecaster` for select models passed in the estimator_list parameter. The output of this function is a scoring grid with CV scores by fold. Metrics evaluated during CV can be accessed using the `get_metrics` function. Custom metrics can be added or removed using `add_metric` and `remove_metric` function."
   ]
  },
  {
   "cell_type": "code",
   "execution_count": null,
   "id": "61a7a1c5",
   "metadata": {},
   "outputs": [],
   "source": [
    "# top 3 models based on mae\n",
    "for i in range(len(best)):\n",
    "    print(tuned_best_models_grid[i])"
   ]
  },
  {
   "cell_type": "code",
   "execution_count": null,
   "id": "04f65f2f",
   "metadata": {},
   "outputs": [],
   "source": [
    "# blend top 3 models\n",
    "blended_model = []\n",
    "for i in range(len(best_models)):\n",
    "    print(tuned_best_models_grid[i])\n",
    "    blended_model.append(blend_models(best_models))"
   ]
  },
  {
   "cell_type": "markdown",
   "id": "9e788c9c",
   "metadata": {},
   "source": [
    "Some other parameters that you might find very useful in `blend_models` are:\n",
    "\n",
    "- choose_better\n",
    "- method\n",
    "- weights\n",
    "- fit_kwargs\n",
    "- optimize\n",
    "\n",
    "You can check the docstring of the function for more info."
   ]
  },
  {
   "cell_type": "code",
   "execution_count": null,
   "id": "99b549a6",
   "metadata": {},
   "outputs": [],
   "source": [
    "# help(blend_models)"
   ]
  },
  {
   "cell_type": "markdown",
   "id": "279a3127",
   "metadata": {},
   "source": [
    "## ✅ Plot Model"
   ]
  },
  {
   "cell_type": "markdown",
   "id": "862bd3e9",
   "metadata": {},
   "source": [
    "This function analyzes the performance of a trained model on the hold-out set. It may require re-training the model in certain cases."
   ]
  },
  {
   "cell_type": "code",
   "execution_count": null,
   "id": "9940106d-5ead-46cf-a487-2db924b47a8d",
   "metadata": {
    "tags": []
   },
   "outputs": [],
   "source": [
    "blended_model[0][0]"
   ]
  },
  {
   "cell_type": "code",
   "execution_count": null,
   "id": "28fbe362-2fd3-40c1-b421-3a845f9f1bc4",
   "metadata": {},
   "outputs": [],
   "source": [
    "# extend forecast horizon"
   ]
  },
  {
   "cell_type": "code",
   "execution_count": null,
   "id": "9c8da9b4",
   "metadata": {},
   "outputs": [],
   "source": [
    "# plot forecast\n",
    "for i in range(len(best_models)):\n",
    "    exp[i].plot_model(blended_model[i][0], plot = 'forecast', data_kwargs = {'fh' : 500}) #exp[i].plot_model(best[i], plot = 'forecast', data_kwargs = {'fh' : 500})"
   ]
  },
  {
   "cell_type": "code",
   "execution_count": null,
   "id": "10475c5c-f310-421e-a8ab-e30ace015cfb",
   "metadata": {
    "tags": []
   },
   "outputs": [],
   "source": [
    "future_df = exp[0].predict_model(best[0], fh=144)\n",
    "print(future_df)"
   ]
  },
  {
   "cell_type": "code",
   "execution_count": null,
   "id": "4761f77f-27da-4acc-b423-7bc42c8b11bd",
   "metadata": {
    "tags": []
   },
   "outputs": [],
   "source": [
    "cut_sub_dfs[0]['Time'][len(cut_sub_dfs[0])-1]"
   ]
  },
  {
   "cell_type": "code",
   "execution_count": null,
   "id": "139c8b8a-1241-463f-9ef7-12b547e239a7",
   "metadata": {
    "tags": []
   },
   "outputs": [],
   "source": [
    "cut_sub_dfs[0].tail()"
   ]
  },
  {
   "cell_type": "code",
   "execution_count": null,
   "id": "5b432cb4-f1ba-4c2d-a0d9-eb6394e8517d",
   "metadata": {
    "tags": []
   },
   "outputs": [],
   "source": [
    "len(cut_sub_dfs)"
   ]
  },
  {
   "cell_type": "code",
   "execution_count": null,
   "id": "bb5f25ce-2805-43ba-aad0-a784d415349a",
   "metadata": {
    "tags": []
   },
   "outputs": [],
   "source": [
    "# TODO: for loop\n",
    "all_dates = []\n",
    "for i in range(len(cut_sub_dfs)):\n",
    "    end = cut_sub_dfs[i]['Time'][len(cut_sub_dfs[i])-1]\n",
    "    #print(\"end before adding: \", end)\n",
    "    end=end+pd.Timedelta(days=2)\n",
    "    #print(\"end after adding: \", end)\n",
    "    all_dates.append(pd.date_range(start=cut_sub_dfs[i]['Time'][0], end=end, freq='10T')) #end= cut_sub_dfs[1]['Time'][len(cut_sub_dfs[1])-1]\n",
    "    print(\"Dataframe\",i,\":\",all_dates[i])"
   ]
  },
  {
   "cell_type": "code",
   "execution_count": null,
   "id": "d406e44e-977d-4887-924e-a4358a7a8694",
   "metadata": {
    "tags": []
   },
   "outputs": [],
   "source": [
    "# create new data (only dates)\n",
    "new_data = []\n",
    "for i in range(len(cut_sub_dfs)):\n",
    "    new_data.append(pd.DataFrame())\n",
    "    new_data[i]['Time'] = all_dates[i]\n",
    "    new_data[i]['hour'] = [i.hour for i in new_data[i]['Time']]\n",
    "    new_data[i]['minute'] = [i.minute for i in new_data[i]['Time']]\n",
    "    new_data[i]['date'] = [i.day for i in new_data[i]['Time']]\n",
    "    new_data[i]['month'] = [i.month for i in new_data[i]['Time']]\n",
    "    \n",
    "    print(\"Dataframe\",i,\":\")\n",
    "    print(new_data[i].head(1))"
   ]
  },
  {
   "cell_type": "code",
   "execution_count": null,
   "id": "f6b1d0c9-ba1b-4d6a-b270-860fec2e6962",
   "metadata": {
    "tags": []
   },
   "outputs": [],
   "source": [
    "new_data[0].head()"
   ]
  },
  {
   "cell_type": "code",
   "execution_count": null,
   "id": "6efa9488-572b-40a5-919f-3ba8553c33d9",
   "metadata": {
    "tags": []
   },
   "outputs": [],
   "source": [
    "future_df = []\n",
    "for i in range(len(cut_sub_dfs)):\n",
    "    future_df.append(exp[i].predict_model(best_models[i], X=new_data[i]))"
   ]
  },
  {
   "cell_type": "code",
   "execution_count": null,
   "id": "c5e3a4d9-77b1-4adb-962a-f3c13eb23bd8",
   "metadata": {
    "tags": []
   },
   "outputs": [],
   "source": [
    "for i in range(len(cut_sub_dfs)):\n",
    "    future_df[i].plot()"
   ]
  },
  {
   "cell_type": "code",
   "execution_count": null,
   "id": "a750d486",
   "metadata": {},
   "outputs": [],
   "source": [
    "# plot acf\n",
    "# for certain plots you don't need a trained model\n",
    "plot_model(plot = 'acf')"
   ]
  },
  {
   "cell_type": "code",
   "execution_count": null,
   "id": "b18d34a5",
   "metadata": {},
   "outputs": [],
   "source": [
    "# plot diagnostics\n",
    "# for certain plots you don't need a trained model\n",
    "plot_model(plot = 'diagnostics')"
   ]
  },
  {
   "cell_type": "markdown",
   "id": "2fef279d",
   "metadata": {},
   "source": [
    "Some other parameters that you might find very useful in `plot_model` are:\n",
    "\n",
    "- fig_kwargs\n",
    "- data_kwargs\n",
    "- display_format\n",
    "- return_fig\n",
    "- return_data\n",
    "- save\n",
    "\n",
    "You can check the docstring of the function for more info."
   ]
  },
  {
   "cell_type": "code",
   "execution_count": null,
   "id": "54b09b8e",
   "metadata": {},
   "outputs": [],
   "source": [
    "# help(plot_model)"
   ]
  },
  {
   "cell_type": "markdown",
   "id": "e27c212b",
   "metadata": {},
   "source": [
    "## ✅ Finalize Model\n",
    "This function trains a given model on the entire dataset including the hold-out set."
   ]
  },
  {
   "cell_type": "code",
   "execution_count": null,
   "id": "65225684",
   "metadata": {},
   "outputs": [],
   "source": [
    "final_best = finalize_model(best) #TODO: for loop"
   ]
  },
  {
   "cell_type": "code",
   "execution_count": null,
   "id": "80d17fec",
   "metadata": {},
   "outputs": [],
   "source": [
    "final_best"
   ]
  },
  {
   "cell_type": "markdown",
   "id": "ed00202c",
   "metadata": {},
   "source": [
    "## ✅ Deploy Model\n",
    "This function deploys the entire ML pipeline on the cloud.\n",
    "\n",
    "**AWS:**  When deploying model on AWS S3, environment variables must be configured using the command-line interface. To configure AWS environment variables, type `aws configure` in terminal. The following information is required which can be generated using the Identity and Access Management (IAM) portal of your amazon console account:\n",
    "\n",
    "- AWS Access Key ID\n",
    "- AWS Secret Key Access\n",
    "- Default Region Name (can be seen under Global settings on your AWS console)\n",
    "- Default output format (must be left blank)\n",
    "\n",
    "**GCP:** To deploy a model on Google Cloud Platform ('gcp'), the project must be created using the command-line or GCP console. Once the project is created, you must create a service account and download the service account key as a JSON file to set environment variables in your local environment. Learn more about it: https://cloud.google.com/docs/authentication/production\n",
    "\n",
    "**Azure:** To deploy a model on Microsoft Azure ('azure'), environment variables for the connection string must be set in your local environment. Go to settings of storage account on Azure portal to access the connection string required.\n",
    "AZURE_STORAGE_CONNECTION_STRING (required as environment variable)\n",
    "Learn more about it: https://docs.microsoft.com/en-us/azure/storage/blobs/storage-quickstart-blobs-python?toc=%2Fpython%2Fazure%2FTOC.json"
   ]
  },
  {
   "cell_type": "code",
   "execution_count": null,
   "id": "40b20a18",
   "metadata": {},
   "outputs": [],
   "source": [
    "# deploy model on aws s3\n",
    "# deploy_model(best, model_name = 'my_first_platform_on_aws',\n",
    "#             platform = 'aws', authentication = {'bucket' : 'pycaret-test'})"
   ]
  },
  {
   "cell_type": "code",
   "execution_count": null,
   "id": "9e236516",
   "metadata": {},
   "outputs": [],
   "source": [
    "# load model from aws s3\n",
    "# loaded_from_aws = load_model(model_name = 'my_first_platform_on_aws', platform = 'aws',\n",
    "#                              authentication = {'bucket' : 'pycaret-test'})\n",
    "\n",
    "# loaded_from_aws"
   ]
  },
  {
   "cell_type": "markdown",
   "id": "e169ae86",
   "metadata": {},
   "source": [
    "## ✅ Save / Load Model\n",
    "This function saves the transformation pipeline and a trained model object into the current working directory as a pickle file for later use."
   ]
  },
  {
   "cell_type": "code",
   "execution_count": null,
   "id": "bc5cf24a",
   "metadata": {},
   "outputs": [],
   "source": [
    "# save model\n",
    "for i in range(len(best_models)):\n",
    "    save_model(best_models[i], 'my_first_SPLIT_model' + str(i))"
   ]
  },
  {
   "cell_type": "code",
   "execution_count": null,
   "id": "e8478d34",
   "metadata": {},
   "outputs": [],
   "source": [
    "# load model\n",
    "for i in range(len(best_models)): # will not work need to know how many models->use os TODO\n",
    "    loaded_from_disk = load_model('my_first_SPILT_model'+str(i))\n",
    "    loaded_from_disk"
   ]
  },
  {
   "cell_type": "markdown",
   "id": "de5eee8c",
   "metadata": {},
   "source": [
    "## ✅ Save / Load Experiment\n",
    "This function saves all the experiment variables on disk, allowing to later resume without rerunning the setup function."
   ]
  },
  {
   "cell_type": "code",
   "execution_count": null,
   "id": "6a3c61b6",
   "metadata": {},
   "outputs": [],
   "source": [
    "# save experiment\n",
    "save_experiment('my_SPLIT_experiment')"
   ]
  },
  {
   "cell_type": "code",
   "execution_count": null,
   "id": "83252c09",
   "metadata": {
    "tags": []
   },
   "outputs": [],
   "source": [
    "# load experiment from disk\n",
    "exp_from_disk = load_experiment('my_SPLIT_experiment', data=data)"
   ]
  }
 ],
 "metadata": {
  "kernelspec": {
   "display_name": "Python 3 (ipykernel)",
   "language": "python",
   "name": "python3"
  },
  "language_info": {
   "codemirror_mode": {
    "name": "ipython",
    "version": 3
   },
   "file_extension": ".py",
   "mimetype": "text/x-python",
   "name": "python",
   "nbconvert_exporter": "python",
   "pygments_lexer": "ipython3",
   "version": "3.7.16"
  }
 },
 "nbformat": 4,
 "nbformat_minor": 5
}
