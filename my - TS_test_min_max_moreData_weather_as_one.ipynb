{
 "cells": [
  {
   "cell_type": "markdown",
   "id": "81e0620e",
   "metadata": {},
   "source": [
    "Last updated: 16 Feb 2023\n",
    "\n",
    "# 👋 PyCaret Time Series Forecasting Tutorial\n",
    "\n",
    "PyCaret is an open-source, low-code machine learning library in Python that automates machine learning workflows. It is an end-to-end machine learning and model management tool that exponentially speeds up the experiment cycle and makes you more productive.\n",
    "\n",
    "Compared with the other open-source machine learning libraries, PyCaret is an alternate low-code library that can be used to replace hundreds of lines of code with a few lines only. This makes experiments exponentially fast and efficient. PyCaret is essentially a Python wrapper around several machine learning libraries and frameworks, such as scikit-learn, XGBoost, LightGBM, CatBoost, spaCy, Optuna, Hyperopt, Ray, and a few more.\n",
    "\n",
    "The design and simplicity of PyCaret are inspired by the emerging role of citizen data scientists, a term first used by Gartner. Citizen Data Scientists are power users who can perform both simple and moderately sophisticated analytical tasks that would previously have required more technical expertise.\n"
   ]
  },
  {
   "cell_type": "markdown",
   "id": "8116e19d",
   "metadata": {},
   "source": [
    "# 💻 Installation\n",
    "\n",
    "PyCaret is tested and supported on the following 64-bit systems:\n",
    "- Python 3.7 – 3.10\n",
    "- Python 3.9 for Ubuntu only\n",
    "- Ubuntu 16.04 or later\n",
    "- Windows 7 or later\n",
    "\n",
    "You can install PyCaret with Python's pip package manager:\n",
    "\n",
    "`pip install pycaret`\n",
    "\n",
    "PyCaret's default installation will not install all the extra dependencies automatically. For that you will have to install the full version:\n",
    "\n",
    "`pip install pycaret[full]`\n",
    "\n",
    "or depending on your use-case you may install one of the following variant:\n",
    "\n",
    "- `pip install pycaret[analysis]`\n",
    "- `pip install pycaret[models]`\n",
    "- `pip install pycaret[tuner]`\n",
    "- `pip install pycaret[mlops]`\n",
    "- `pip install pycaret[parallel]`\n",
    "- `pip install pycaret[test]`"
   ]
  },
  {
   "cell_type": "code",
   "execution_count": null,
   "id": "d7142a33",
   "metadata": {
    "tags": []
   },
   "outputs": [],
   "source": [
    "# install pycaret\n",
    "#!pip install pycaret[full]\n",
    "# check installed version\n",
    "import pycaret \n",
    "pycaret.__version__"
   ]
  },
  {
   "cell_type": "markdown",
   "id": "fb66e98d",
   "metadata": {},
   "source": [
    "# 🚀 Quick start"
   ]
  },
  {
   "cell_type": "markdown",
   "id": "00347d44",
   "metadata": {},
   "source": [
    "PyCaret's time series forecasting module is now available. The module currently is suitable for univariate / multivariate time series forecasting tasks. The API of time series module is consistent with other modules of PyCaret.\n",
    "\n",
    "It comes built-in with preprocessing capabilities and over 30 algorithms comprising of statistical / time-series methods as well as machine learning based models. In addition to the model training, this module has lot of other capabilities such as automated hyperparameter tuning, ensembling, model analysis, model packaging and deployment capabilities. \n",
    "\n",
    "A typical workflow in PyCaret consist of following 5 steps in this order:\n",
    "\n",
    "### **Setup** ➡️ **Compare Models** ➡️ **Analyze Model** ➡️ **Prediction** ➡️ **Save Model** <br/>"
   ]
  },
  {
   "cell_type": "code",
   "execution_count": null,
   "id": "1b09f8df",
   "metadata": {
    "tags": []
   },
   "outputs": [],
   "source": [
    "# import pandas module\n",
    "import pandas as pd\n",
    "import re\n",
    "import numpy as np\n",
    "\n",
    "# global variables\n",
    "Soil_humi = []\n",
    "Resistance = []\n",
    "Soil_temp = []\n",
    "total_amount = 0\n",
    "rolling_mean_window_data = 15\n",
    "rolling_mean_window_grouped = 5\n",
    "min_length_df = 400 #was 50\n",
    "slope_irrigation = -0.07\n",
    "\n",
    "# creating a data frame\n",
    "data = pd.read_csv(\"binned_removed_new.csv\",header=0)\n",
    "data.head()\n",
    "\n",
    "# create array with sensors strings\n",
    "for col in data.columns:\n",
    "    if re.findall(r\"SoilHumiditySensor$\", col):\n",
    "        Soil_humi.append(col)\n",
    "    elif re.findall(r\"\\/ $\", col):\n",
    "        Resistance.append(col)\n",
    "    elif re.findall(r\"SoilThermometer$\", col):\n",
    "        Soil_temp.append(col)\n",
    "\n",
    "# print them to check\n",
    "for i in range(len(Soil_humi)):\n",
    "    total_amount += 1\n",
    "    print(Soil_humi[i])\n",
    "for i in range(len(Resistance)):\n",
    "    total_amount += 1\n",
    "    print(Resistance[i])\n",
    "for i in range(len(Soil_temp)):\n",
    "    total_amount += 1\n",
    "    print(Soil_temp[i])\n",
    "    \n",
    "print(\"Total amount of values: \", total_amount)"
   ]
  },
  {
   "cell_type": "code",
   "execution_count": null,
   "id": "2530c17c",
   "metadata": {
    "tags": []
   },
   "outputs": [],
   "source": [
    "# plot the dataset\n",
    "data.plot(figsize = (20,10))"
   ]
  },
  {
   "cell_type": "code",
   "execution_count": null,
   "id": "f7217e90-7617-4cf8-a938-85bd97f898da",
   "metadata": {
    "tags": []
   },
   "outputs": [],
   "source": [
    "# Show if there are any missing values inside the data\n",
    "data.isna().any()"
   ]
  },
  {
   "cell_type": "code",
   "execution_count": null,
   "id": "94d6986e-ed3a-49c2-be74-5ad5cf0e79af",
   "metadata": {
    "tags": []
   },
   "outputs": [],
   "source": [
    "data.tail()"
   ]
  },
  {
   "cell_type": "code",
   "execution_count": null,
   "id": "98f5b027-a1a1-4c36-bcfa-39c53b687f04",
   "metadata": {
    "tags": []
   },
   "outputs": [],
   "source": [
    "# creating a data frame\n",
    "data_weather = pd.read_csv(\"april_weather.csv\", header=0, sep=\";\")\n",
    "data_weather.head()"
   ]
  },
  {
   "cell_type": "code",
   "execution_count": null,
   "id": "91ef8cc7-225b-43da-b986-79bb4cb8541d",
   "metadata": {
    "tags": []
   },
   "outputs": [],
   "source": [
    "# Create a sample DataFrame with a datetime column\n",
    "df = pd.DataFrame({'datetime': ['01/04/2023 00:03:43', '01/04/2023 00:08:43', '01/04/2023 02:05:47']})\n",
    "\n",
    "print(\"before: \\n\", df, \"\\n\", df.dtypes, \"\\n\")\n",
    "\n",
    "# Convert the datetime column to a datetime object\n",
    "df['datetime'] = pd.to_datetime(df['datetime'], format='%d/%m/%Y %H:%M:%S')\n",
    "\n",
    "print(\"After datetime, before ISO:  \\n\", df, \"\\n\", df.dtypes, \"\\n\")\n",
    "\n",
    "# Format the datetime object as an ISO time string\n",
    "df['datetime_iso'] = df['datetime'].dt.strftime('%Y-%m-%dT%H:%M:%S')\n",
    "\n",
    "# Print the resulting DataFrame\n",
    "print(\"After ISO:  \\n\", df, \"\\n\", df.dtypes, \"\\n\")"
   ]
  },
  {
   "cell_type": "code",
   "execution_count": null,
   "id": "eecc26c9-9aac-49f9-b351-0c63c5fbbeea",
   "metadata": {
    "tags": []
   },
   "outputs": [],
   "source": [
    "#print(\"before: \\n\", data_weather, \"\\n\", data_weather.dtypes, \"\\n\")\n",
    "# convert the timestamp column to a datetime object\n",
    "#data_weather['Heure'] = pd.to_datetime(data_weather['Heure'])\n",
    "\n",
    "# Convert the datetime column to a datetime object\n",
    "data_weather['Heure'] = pd.to_datetime(data_weather['Heure'], format=' %d/%m/%Y %H:%M:%S')#, errors='coerce')\n",
    "#print(\"After datetime, before ISO:  \\n\", data_weather, \"\\n\", data_weather.dtypes, \"\\n\")\n",
    "\n",
    "# Format the datetime object as an ISO time string\n",
    "data_weather['Heure'] = data_weather['Heure'].dt.strftime('%Y-%m-%dT%H:%M:%S')\n",
    "\n",
    "# Print the resulting DataFrame\n",
    "#data_weather.head()\n",
    "#print(\"After ISO:  \\n\", data_weather, \"\\n\", data_weather.dtypes, \"\\n\")"
   ]
  },
  {
   "cell_type": "code",
   "execution_count": null,
   "id": "55f621d8-c642-48df-95bf-681e4b8262f9",
   "metadata": {
    "tags": []
   },
   "outputs": [],
   "source": [
    "# Drop useless\n",
    "data_weather = data_weather.drop(['Température intérieure(°C)', 'Humidité intérieure(%)', 'Intervalle', 'NO.'], axis=1)"
   ]
  },
  {
   "cell_type": "code",
   "execution_count": null,
   "id": "5f1f1ae8-cc50-48c2-8e78-b0c292e9690e",
   "metadata": {
    "tags": []
   },
   "outputs": [],
   "source": [
    "data_weather = data_weather.rename(columns={'Heure':'Time'})\n",
    "data_weather.head(20)"
   ]
  },
  {
   "cell_type": "code",
   "execution_count": null,
   "id": "b0c9e55c-5247-4090-ac3e-ed9abe8fa196",
   "metadata": {
    "tags": []
   },
   "outputs": [],
   "source": [
    "data_weather['Time'] = pd.to_datetime(data_weather['Time'])\n",
    "data_weather.dtypes"
   ]
  },
  {
   "cell_type": "code",
   "execution_count": null,
   "id": "d3a0ffce-864c-4ab4-b561-24ff68d0578d",
   "metadata": {
    "tags": []
   },
   "outputs": [],
   "source": [
    "# set the index of the DataFrame to the timestamp column\n",
    "data_weather = data_weather.set_index('Time')"
   ]
  },
  {
   "cell_type": "code",
   "execution_count": null,
   "id": "75c16261-f2d0-49f7-b57c-0c638318278a",
   "metadata": {},
   "outputs": [],
   "source": [
    "data_weather.head()"
   ]
  },
  {
   "cell_type": "code",
   "execution_count": null,
   "id": "215e5eef-7fbb-4170-bb99-6aef1d11584e",
   "metadata": {
    "tags": []
   },
   "outputs": [],
   "source": [
    "#ref_dtype = 'float64'\n",
    "# iterate through the columns and compare their data types to the reference data type\n",
    "#for col in data_weather.columns:\n",
    "#    print(\"This is :\",col)\n",
    "#    if data_weather[col].dtype == 'datetime64[ns]':\n",
    "#        data_weather[col] = data_weather[col].resample('10T').ffill()\n",
    "#    if data_weather[col].dtype == ref_dtype:\n",
    "#        data_weather[col] = data_weather[col].resample('10T').mean()\n",
    "#    else:\n",
    "#        data_weather[col] = data_weather[col].resample('10T').ffill()"
   ]
  },
  {
   "cell_type": "code",
   "execution_count": null,
   "id": "61f3ec81-155d-4a19-a4be-fa5806a2fe86",
   "metadata": {
    "tags": []
   },
   "outputs": [],
   "source": [
    "data_weather_re = data_weather.resample('10T').fillna(method = 'bfill') #TODO: fill with mean!!!!!!!!!!!!!!!!!!!!!!!!!!!!!!!!!!!!!!!!!!!\n",
    "data_weather_re.index"
   ]
  },
  {
   "cell_type": "code",
   "execution_count": null,
   "id": "5ba5e273-c6f8-47c3-9e22-1b92b756e1a3",
   "metadata": {
    "tags": []
   },
   "outputs": [],
   "source": [
    "data_weather_re.head(10)"
   ]
  },
  {
   "cell_type": "code",
   "execution_count": null,
   "id": "0b8fa13a-1832-4e24-8925-aeff7410787c",
   "metadata": {
    "tags": []
   },
   "outputs": [],
   "source": [
    "data['Time'] = data['Time'].str[:-9]\n",
    "data['Time']=pd.to_datetime(data['Time'])\n",
    "data = data.set_index('Time')"
   ]
  },
  {
   "cell_type": "code",
   "execution_count": null,
   "id": "34009ce3-322d-475d-9fde-65ef9a33e02d",
   "metadata": {
    "tags": []
   },
   "outputs": [],
   "source": [
    "data.head()"
   ]
  },
  {
   "cell_type": "code",
   "execution_count": null,
   "id": "13f67814-de43-4c06-ac1d-b4c90cb1f8d9",
   "metadata": {
    "tags": []
   },
   "outputs": [],
   "source": [
    "# concatenate the DataFrames vertically\n",
    "#data_comb = pd.concat([data, data_weather_re], axis=0)\n",
    "data_comb = pd.merge(data, data_weather_re, left_index=True, right_index=True, how='outer')\n",
    "\n",
    "# print the resulting DataFrame\n",
    "data_comb.tail(10)"
   ]
  },
  {
   "cell_type": "code",
   "execution_count": null,
   "id": "d44d9c28-9ada-43e7-b94a-727265ce441c",
   "metadata": {
    "tags": []
   },
   "outputs": [],
   "source": [
    "import missingno as msno \n",
    "# Plot correlation heatmap of missingness\n",
    "msno.matrix(data_comb)"
   ]
  },
  {
   "cell_type": "code",
   "execution_count": null,
   "id": "cc29efc8-178f-49a3-9e93-0984963c2da8",
   "metadata": {
    "tags": []
   },
   "outputs": [],
   "source": [
    "# Select the rows between two dates\n",
    "start_date = str(data_weather_re.index[0])\n",
    "end_date = str(data_weather_re.index[-1])\n",
    "data_comb_cut = data_comb.loc[start_date:end_date]\n",
    "\n",
    "data = data_comb_cut"
   ]
  },
  {
   "cell_type": "code",
   "execution_count": null,
   "id": "4973d43b-baba-4c30-bb4c-179d38b53f7d",
   "metadata": {
    "tags": []
   },
   "outputs": [],
   "source": [
    "msno.matrix(data)"
   ]
  },
  {
   "cell_type": "code",
   "execution_count": null,
   "id": "f6e1a34c-e5b1-4b4a-846e-c42953275cf2",
   "metadata": {
    "tags": []
   },
   "outputs": [],
   "source": [
    "data.head()"
   ]
  },
  {
   "cell_type": "code",
   "execution_count": null,
   "id": "ab61c9f8-8455-45d4-816a-81ef33bd077d",
   "metadata": {
    "tags": []
   },
   "outputs": [],
   "source": [
    "# Convert wind direction to integer\n",
    "directions = [\" N\", \" NNE\", \" NE\", \" ENE\", \" E\", \" ESE\", \" SE\", \" SSE\", \" S\", \" SSW\", \" SW\", \" WSW\", \" W\", \" WNW\", \" NW\", \" NNW\"]\n",
    "target_col = 'Direction du vent'\n",
    "\n",
    "for index, value in data[target_col].iteritems():\n",
    "    # Calculate wind direction in degrees -> TODO : convert to int and round\n",
    "    if value == \" ---\":\n",
    "        data[target_col][index] = np.nan\n",
    "    else:\n",
    "        data[target_col][index] = directions.index(value) * 22.5\n",
    "        \n",
    "data[target_col] = data[target_col].astype(\"float64\")"
   ]
  },
  {
   "cell_type": "code",
   "execution_count": null,
   "id": "3f2209e5-2a1f-40d6-b821-4d3750d08289",
   "metadata": {
    "tags": []
   },
   "outputs": [],
   "source": [
    "data.dtypes"
   ]
  },
  {
   "cell_type": "code",
   "execution_count": null,
   "id": "e57b9653-aa84-4087-9be4-c15d7fd2923e",
   "metadata": {
    "tags": []
   },
   "outputs": [],
   "source": [
    "ref_dtype = 'float64'\n",
    "obj_dtype = 'object'\n",
    "\n",
    "for col in data.columns:\n",
    "    if data[col].dtype == ref_dtype:\n",
    "        data[col] = data[col].rolling(window=rolling_mean_window_data, win_type='gaussian').mean(std=rolling_mean_window_data)\n",
    "    elif data[col].dtype == obj_dtype:\n",
    "        data[col] = pd.to_numeric(data[col], errors='coerce')\n",
    "        \n",
    "    print(\"This is :\",col, \"it has the following dtype: \", data[col].dtype)"
   ]
  },
  {
   "cell_type": "code",
   "execution_count": null,
   "id": "cdabe27b-a3ac-4910-aa61-9b60e4a7293f",
   "metadata": {
    "tags": []
   },
   "outputs": [],
   "source": [
    "msno.heatmap(data)"
   ]
  },
  {
   "cell_type": "code",
   "execution_count": null,
   "id": "5358f5ae-f4a6-47cd-be61-da1e5e69b594",
   "metadata": {
    "tags": []
   },
   "outputs": [],
   "source": [
    "msno.dendrogram(data)"
   ]
  },
  {
   "cell_type": "code",
   "execution_count": null,
   "id": "17f0f316-4576-4861-9ac7-ee71d96ed515",
   "metadata": {
    "tags": []
   },
   "outputs": [],
   "source": [
    "data.isna().any()"
   ]
  },
  {
   "cell_type": "code",
   "execution_count": null,
   "id": "2db03c04-ab33-4f8a-9df5-ba159e42100d",
   "metadata": {
    "tags": []
   },
   "outputs": [],
   "source": [
    "data.plot(subplots=True, figsize=(20,50))"
   ]
  },
  {
   "cell_type": "markdown",
   "id": "c9b739d1-4852-4936-a4c5-861bd0893191",
   "metadata": {
    "tags": []
   },
   "source": [
    "We can use the following estimators:\n",
    "-----------------------------------\n",
    "LinearRegression: LinearRegression\n",
    "\n",
    "BayesianRidge: Regularized linear regression.\n",
    "\n",
    "DecisionTreeRegressor: Decision tree regression. => no\n",
    "\n",
    "ExtraTreesRegressor: Extremely randomized trees regression. => slow\n",
    "\n",
    "KNeighborsRegressor: k-Nearest Neighbors regression. => no\n",
    "\n",
    "RandomForestRegressor: Random forest regression. => slow\n",
    "\n",
    "Ridge: Linear least squares with l2 regularization. => best?\n",
    "\n",
    "SVR: Support vector regression. => slow, no"
   ]
  },
  {
   "cell_type": "code",
   "execution_count": null,
   "id": "b99003b5-9167-48bf-a0a4-1c9e4ba37685",
   "metadata": {
    "tags": []
   },
   "outputs": [],
   "source": [
    "# TODO: compare them with orig data\n",
    "from sklearn.experimental import enable_iterative_imputer\n",
    "from sklearn.impute import IterativeImputer\n",
    "from sklearn.linear_model import LinearRegression\n",
    "from sklearn.linear_model import BayesianRidge, Ridge\n",
    "from sklearn.tree import DecisionTreeRegressor\n",
    "from sklearn.ensemble import ExtraTreesRegressor, RandomForestRegressor\n",
    "from sklearn.neighbors import KNeighborsRegressor\n",
    "from sklearn.svm import SVR\n",
    "\n",
    "# Init the transformer\n",
    "reg_imp = IterativeImputer(estimator=Ridge())\n",
    "\n",
    "# Fit/transform\n",
    "data_imp = pd.DataFrame(reg_imp.fit_transform(data), columns=data.columns)"
   ]
  },
  {
   "cell_type": "code",
   "execution_count": null,
   "id": "7d15f3a8-57ca-486f-9099-115c4c50fa5f",
   "metadata": {
    "tags": []
   },
   "outputs": [],
   "source": [
    "data_imp.plot(subplots=True, figsize=(20,50))"
   ]
  },
  {
   "cell_type": "code",
   "execution_count": null,
   "id": "9ddc246a-803c-483a-9fc6-f7100d6325e0",
   "metadata": {
    "tags": []
   },
   "outputs": [],
   "source": [
    "data_imp.head()"
   ]
  },
  {
   "cell_type": "code",
   "execution_count": null,
   "id": "64ac8295-0ff2-44a2-beab-66dec720b838",
   "metadata": {
    "tags": []
   },
   "outputs": [],
   "source": [
    "def compare_dataframes(df1, df2):\n",
    "    # Verify column names\n",
    "    if not set(df1.columns) == set(df2.columns):\n",
    "        print(\"Column names are not the same in both dataframes.\")\n",
    "        return\n",
    "\n",
    "    # Find the common columns between the two dataframes\n",
    "    common_columns = df1.columns.intersection(df2.columns)\n",
    "\n",
    "    # Compare the available values in the common columns\n",
    "    for column in common_columns:\n",
    "        values1 = df1[column].dropna()\n",
    "        values2 = df2[column].dropna()\n",
    "\n",
    "        min_length = min(len(values1), len(values2))\n",
    "        values1 = values1[:min_length]\n",
    "        values2 = values2[:min_length]\n",
    "\n",
    "        diff = np.abs(values1.values - values2.values)\n",
    "        mae = np.mean(diff)\n",
    "        rmse = np.sqrt(np.mean(diff ** 2))\n",
    "        mpe = np.mean(diff / values1.values) * 100\n",
    "\n",
    "        print(f\"Column: {column}\")\n",
    "        print(f\"MAE: {mae:.2f}\")\n",
    "        print(f\"RMSE: {rmse:.2f}\")\n",
    "        print(f\"MPE: {mpe:.2f}%\")\n",
    "        print(\"df1 len:\",len(values1),\"df2 len:\",len(values2))\n",
    "        print()\n",
    "\n",
    "compare_dataframes(data, data_imp)"
   ]
  },
  {
   "cell_type": "code",
   "execution_count": null,
   "id": "2cf65a76-b6ff-4154-afe2-72de3053d456",
   "metadata": {
    "tags": []
   },
   "outputs": [],
   "source": [
    "data_imp.index = data.index\n",
    "data = data_imp"
   ]
  },
  {
   "cell_type": "code",
   "execution_count": null,
   "id": "d3685f0d-5f76-43f2-98ed-35291303c74b",
   "metadata": {
    "tags": []
   },
   "outputs": [],
   "source": [
    "data_imp.plot(subplots=True, figsize=(20,50))"
   ]
  },
  {
   "cell_type": "code",
   "execution_count": null,
   "id": "adea10eb-6fe6-495f-b5cd-085631fb5598",
   "metadata": {
    "tags": []
   },
   "outputs": [],
   "source": [
    "#impute data\n",
    "#from sklearn.impute import KNNImputer\n",
    "\n",
    "##data_knn_imputed = data_knn_imputed.drop(['Time'], axis=1)\n",
    "\n",
    "# Init the transformer\n",
    "#knn_imp = KNNImputer(n_neighbors=10)\n",
    "\n",
    "# Fit/transform\n",
    "#data_imp.iloc[:,0:len(data)] = knn_imp.fit_transform(data_imp.iloc[:,0:len(data)])"
   ]
  },
  {
   "cell_type": "code",
   "execution_count": null,
   "id": "12bf262a-3a46-4258-a88a-10b8ef98c579",
   "metadata": {
    "tags": []
   },
   "outputs": [],
   "source": [
    "#data_imp.plot(subplots=True, figsize=(20,50))"
   ]
  },
  {
   "cell_type": "code",
   "execution_count": null,
   "id": "a7d10cd6-1f4e-46a2-bdb6-03111e6fede3",
   "metadata": {
    "tags": []
   },
   "outputs": [],
   "source": [
    "# Plot correlation heatmap of missingness\n",
    "msno.matrix(data)"
   ]
  },
  {
   "cell_type": "code",
   "execution_count": null,
   "id": "cc0f8465-cd66-48e5-a0bf-6ba53396ca85",
   "metadata": {
    "tags": []
   },
   "outputs": [],
   "source": [
    "# Show if there are any missing values inside the data\n",
    "data.isna().any()"
   ]
  },
  {
   "cell_type": "code",
   "execution_count": null,
   "id": "fa03c36c-8b58-489d-bd1e-3cc0ce5b86b8",
   "metadata": {
    "tags": []
   },
   "outputs": [],
   "source": [
    "# create average cols\n",
    "data['grouped_soil'] = data[Soil_humi].mean(axis=1)\n",
    "data['grouped_resistance'] = data[Resistance].mean(axis=1)\n",
    "data['grouped_soil_temp'] = data[Soil_temp].mean(axis=1)"
   ]
  },
  {
   "cell_type": "code",
   "execution_count": null,
   "id": "e530a9ad-4421-492e-bcce-6092bf4a8ed7",
   "metadata": {
    "tags": []
   },
   "outputs": [],
   "source": [
    "data.index.dtype"
   ]
  },
  {
   "cell_type": "code",
   "execution_count": null,
   "id": "0710c24b-7c8e-4a92-8065-04de09c535d1",
   "metadata": {
    "tags": []
   },
   "outputs": [],
   "source": [
    "#data['Time'] = data['Time'].str[:-9]\n",
    "#data.head()"
   ]
  },
  {
   "cell_type": "code",
   "execution_count": null,
   "id": "4be0c2df-054d-4bb8-9684-4d64ed051542",
   "metadata": {},
   "outputs": [],
   "source": [
    "#data['Time']=pd.to_datetime(data['Time'])\n",
    "\n",
    "#data.head()"
   ]
  },
  {
   "cell_type": "code",
   "execution_count": null,
   "id": "6207af86-7cea-4153-a331-518a379d23fc",
   "metadata": {
    "tags": []
   },
   "outputs": [],
   "source": [
    "# after concat => need to convert to datetimeindex once more:\n",
    "#data.index=pd.to_datetime(data.index, format='%Y-%m-%d %H:%M:%S') #2023-04-01 00:50:00"
   ]
  },
  {
   "cell_type": "code",
   "execution_count": null,
   "id": "6c79ab46-d3ca-454a-90dc-85264772fb86",
   "metadata": {
    "tags": []
   },
   "outputs": [],
   "source": [
    "## Create Features\n",
    "## create rolling mean: introduces NaN again -> later just cut off\n",
    "data['rolling_mean_grouped_soil'] = data['grouped_soil'].rolling(window=rolling_mean_window_grouped, win_type='gaussian').mean(std=rolling_mean_window_grouped)\n",
    "data['rolling_mean_grouped_soil_temp'] = data['grouped_soil_temp'].rolling(window=rolling_mean_window_grouped, win_type='gaussian').mean(std=rolling_mean_window_grouped)\n",
    "\n",
    "data['hour'] = data.index.hour#.astype(\"float64\")\n",
    "data['minute'] = data.index.minute#.astype(\"float64\")\n",
    "data['date'] = data.index.day#.astype(\"float64\")\n",
    "data['month'] = data.index.month#.astype(\"float64\")\n",
    "data['day_of_year'] = data.index.dayofyear#.astype(\"float64\")"
   ]
  },
  {
   "cell_type": "code",
   "execution_count": null,
   "id": "fff372b7-4a62-4f7a-8e51-bf57b8f57a8d",
   "metadata": {
    "tags": []
   },
   "outputs": [],
   "source": [
    "# feature scaling\n",
    "data.dtypes"
   ]
  },
  {
   "cell_type": "code",
   "execution_count": null,
   "id": "a01e597d-1411-4f39-95e5-0affc818fa0c",
   "metadata": {
    "tags": []
   },
   "outputs": [],
   "source": [
    "# Min-Max Normalization\n",
    "df = data.drop(['rolling_mean_grouped_soil', 'hour', 'minute', 'date', 'month', 'day_of_year'], axis=1)\n",
    "index = data.index\n",
    "df_norm = pd.DataFrame()\n",
    "for col in df.columns:\n",
    "    print(\"Current col: \", col)\n",
    "    if df[col].dtype == ref_dtype:\n",
    "        print(\"Normalize:   \", col)\n",
    "        df_norm[col] = (df[col]-df[col].min())/(df[col].max()-df[col].min())\n",
    "df_norm = pd.concat([df_norm, data['hour'], data['minute'], data['date'], data['month'], data['day_of_year'], data.rolling_mean_grouped_soil], 1)\n",
    "data = df_norm"
   ]
  },
  {
   "cell_type": "code",
   "execution_count": null,
   "id": "619745fb-5dd1-45b7-9dd3-d01efd2c285d",
   "metadata": {
    "tags": []
   },
   "outputs": [],
   "source": [
    "data.dtypes"
   ]
  },
  {
   "cell_type": "code",
   "execution_count": null,
   "id": "86e9aee3-c86e-45e1-924d-5d3e7a688d0c",
   "metadata": {
    "tags": []
   },
   "outputs": [],
   "source": [
    "print(str(Soil_temp).replace(\"[\", \"\").replace(\"]\", \"\"))"
   ]
  },
  {
   "cell_type": "code",
   "execution_count": null,
   "id": "464bc5d7-334b-4ac4-902e-c9601e675aee",
   "metadata": {
    "tags": []
   },
   "outputs": [],
   "source": [
    "int(5/2 + 0.5)"
   ]
  },
  {
   "cell_type": "code",
   "execution_count": null,
   "id": "f7e9f109-f003-4538-aa58-c15c399b23fd",
   "metadata": {
    "tags": []
   },
   "outputs": [],
   "source": [
    "data.head()"
   ]
  },
  {
   "cell_type": "code",
   "execution_count": null,
   "id": "6aa9e9d9-e352-4ecd-a7d5-d44f1dad9cef",
   "metadata": {
    "tags": []
   },
   "outputs": [],
   "source": [
    "#data = data[['Time', 'hour', 'minute', 'date', 'month', 'grouped_soil', 'grouped_resistance', 'grouped_soil_temp', 'rolling_mean_grouped_soil', 'rolling_mean_grouped_soil_temp', \n",
    "#             str(Soil_humi).replace(\"[\", \"\").replace(\"]\", \"\").replace(\"\\\\\",\"\"),\n",
    "#             str(Resistance).replace(\"[\", \"\").replace(\"]\", \"\").replace(\"\\\\\",\"\"),\n",
    "#             str(Soil_temp).replace(\"[\", \"\").replace(\"]\", \"\").replace(\"\\\\\",\"\")\n",
    "#            ]]\n",
    "\n",
    "# drop those values without rolling_mean\n",
    "#data = data[rolling_mean_window_data+int(rolling_mean_window_grouped/2 + 0.5):]\n",
    "data = data[4:]\n",
    "\n",
    "# reset changed index(due to drop)\n",
    "#data = data.reset_index()\n",
    "\n",
    "#data = data.drop(['index'],axis=1)"
   ]
  },
  {
   "cell_type": "code",
   "execution_count": null,
   "id": "dfe89884-e3ee-4342-8499-756a9b276668",
   "metadata": {
    "tags": []
   },
   "outputs": [],
   "source": [
    "print(data.iloc[0])\n",
    "\n",
    "data.head(10)"
   ]
  },
  {
   "cell_type": "code",
   "execution_count": null,
   "id": "5121f3ec-4f84-4b36-be58-04672f4b227c",
   "metadata": {
    "tags": []
   },
   "outputs": [],
   "source": [
    "data.dtypes"
   ]
  },
  {
   "cell_type": "code",
   "execution_count": null,
   "id": "62596422-0cc7-4340-9baf-5c4b5eeccfb8",
   "metadata": {
    "tags": []
   },
   "outputs": [],
   "source": [
    "#data_plot = data.drop(['hour','minute','date','month','grouped_soil','grouped_resistance','grouped_soil_temp', Soil_humi, Resistance, Soil_temp], axis=1)\n",
    "#data_plot.tail(20)"
   ]
  },
  {
   "cell_type": "code",
   "execution_count": null,
   "id": "0228501b-c8c7-447f-b91f-ab92fc77d4c9",
   "metadata": {
    "tags": []
   },
   "outputs": [],
   "source": [
    "#data_plot.set_index('Time').plot(figsize = (20,10))"
   ]
  },
  {
   "cell_type": "code",
   "execution_count": null,
   "id": "17eb8af1-7250-4919-b366-560be03c28e9",
   "metadata": {},
   "outputs": [],
   "source": [
    "# Split dataset into train and test set\n",
    "def split_data(data, split_date):\n",
    "    return data[data.index <= split_date].copy(), \\\n",
    "           data[data.index >  split_date].copy()\n",
    "\n",
    "train, test = split_data(data, pd.to_datetime('2023-04-25 15:30')) # splitting the data for training before 15th June"
   ]
  },
  {
   "cell_type": "code",
   "execution_count": null,
   "id": "c3b07c5c-34fa-4c36-a9c4-0f35768c560a",
   "metadata": {},
   "outputs": [],
   "source": [
    "import matplotlib.pyplot as plt\n",
    "\n",
    "plt.figure(figsize=(20,10))\n",
    "plt.xlabel('Time')\n",
    "plt.ylabel('rolling_mean_grouped_soil')\n",
    "plt.plot(train.index,train['rolling_mean_grouped_soil'],label='train')\n",
    "plt.plot(test.index,test['rolling_mean_grouped_soil'],label='test')\n",
    "plt.legend()\n",
    "plt.show()"
   ]
  },
  {
   "cell_type": "markdown",
   "id": "c00f6a4a",
   "metadata": {},
   "source": [
    "## Setup\n",
    "This function initializes the training environment and creates the transformation pipeline. Setup function must be called before executing any other function in PyCaret. `Setup` has only one required parameter i.e. `data`. All the other parameters are optional."
   ]
  },
  {
   "cell_type": "markdown",
   "id": "3c583864",
   "metadata": {},
   "source": [
    "Once the setup has been successfully executed it shows the information grid containing experiment level information. \n",
    "\n",
    "- **Session id:**  A pseudo-random number distributed as a seed in all functions for later reproducibility. If no `session_id` is passed, a random number is automatically generated that is distributed to all functions.<br/>\n",
    "<br/>\n",
    "- **Approach:**  Univariate or multivariate. <br/>\n",
    "<br/>\n",
    "- **Exogenous Variables:**  Exogeneous variables to be used in model. <br/>\n",
    "<br/>\n",
    "- **Original data shape:**  Shape of the original data prior to any transformations. <br/>\n",
    "<br/>\n",
    "- **Transformed train set shape :**  Shape of transformed train set <br/>\n",
    "<br/>\n",
    "- **Transformed test set shape :**  Shape of transformed test set <br/>\n",
    "<br/>"
   ]
  },
  {
   "cell_type": "markdown",
   "id": "ada19398",
   "metadata": {},
   "source": [
    "PyCaret has two set of API's that you can work with. (1) Functional (as seen above) and (2) Object Oriented API.\n",
    "\n",
    "With Object Oriented API instead of executing functions directly you will import a class and execute methods of class."
   ]
  },
  {
   "cell_type": "code",
   "execution_count": null,
   "id": "9bab18f7-5396-4749-a921-4c7ed35f7fd2",
   "metadata": {},
   "outputs": [],
   "source": [
    "train.dtypes"
   ]
  },
  {
   "cell_type": "code",
   "execution_count": null,
   "id": "9dbfd65a-0e64-4911-b112-69e3e425efe1",
   "metadata": {},
   "outputs": [],
   "source": [
    "# import TSForecastingExperiment and init the class\n",
    "#from pycaret.regression import *\n",
    "from pycaret.time_series import *\n",
    "exp=TSForecastingExperiment()\n",
    "   \n",
    "# init setup on exp\n",
    "exp.setup(\n",
    "    train, \n",
    "    target = 'rolling_mean_grouped_soil', \n",
    "    enforce_exogenous = False, \n",
    "    fold_strategy='sliding', \n",
    "    fh = 200, \n",
    "    session_id = 123, \n",
    "    fold = 3,\n",
    "    ignore_features = ['orig_index', 'gradient',\n",
    "                       '638de53168f31919048f189d; 63932c6e68f319085df375b5 / B2_solar_x2_03; Soil_tension / SoilHumiditySensor','638de53168f31919048f189d; 63932c6e68f319085df375b7 / B2_solar_x2_03; Resistance / ',\n",
    "                       '638de53168f31919048f189d; 63932c6e68f319085df375b9 / B2_solar_x2_03; Soil_temperature / SoilThermometer', '638de56a68f31919048f189e; 63932ce468f319085df375c9 / B3_solar_x1_02; Soil_tension / SoilHumiditySensor',\n",
    "                       '638de56a68f31919048f189e; 63932ce468f319085df375cb / B3_solar_x1_02; Resistance / ', '638de57568f31919048f189f; 63932c3668f319085df375ab / B4_solar_x1_03; Soil_tension / SoilHumiditySensor',\n",
    "                       '638de57568f31919048f189f; 63932c3668f319085df375ad / B4_solar_x1_03; Resistance / ', '638de57568f31919048f189f; 63932c3668f319085df375af / B4_solar_x1_03; Soil_temperature / SoilThermometer']\n",
    ")"
   ]
  },
  {
   "cell_type": "code",
   "execution_count": null,
   "id": "2d338b8a-5c07-4508-b1af-9b4549b5995f",
   "metadata": {
    "tags": []
   },
   "outputs": [],
   "source": [
    "# show available models\n",
    "exp.models()"
   ]
  },
  {
   "cell_type": "markdown",
   "id": "77213120",
   "metadata": {},
   "source": [
    "You can use any of the two method i.e. Functional or OOP and even switch back and forth between two set of API's. The choice of method will not impact the results and has been tested for consistency."
   ]
  },
  {
   "cell_type": "markdown",
   "id": "b86fdf15",
   "metadata": {},
   "source": [
    "## Check Stats\n",
    "The `check_stats` function is used to get summary statistics and run statistical tests on the original data or model residuals."
   ]
  },
  {
   "cell_type": "code",
   "execution_count": null,
   "id": "f449e9eb",
   "metadata": {},
   "outputs": [],
   "source": [
    "# check statistical tests on original data\n",
    "exp.check_stats()"
   ]
  },
  {
   "cell_type": "markdown",
   "id": "f98dd435",
   "metadata": {},
   "source": [
    "## Compare Models\n",
    "\n",
    "This function trains and evaluates the performance of all the estimators available in the model library using cross-validation. The output of this function is a scoring grid with average cross-validated scores. Metrics evaluated during CV can be accessed using the `get_metrics` function. Custom metrics can be added or removed using `add_metric` and `remove_metric` function."
   ]
  },
  {
   "cell_type": "code",
   "execution_count": null,
   "id": "65a19df4",
   "metadata": {},
   "outputs": [],
   "source": [
    "# compare baseline models\n",
    "best= exp.compare_models(\n",
    "    n_select = 15, \n",
    "    fold = 3, \n",
    "    sort = 'R2',# \n",
    "    verbose = 1#, \n",
    "    #exclude=['lar_cds_dt','auto_arima','arima'],\n",
    "    #include=['lr_cds_dt', 'br_cds_dt', 'ridge_cds_dt', \n",
    "    #         'huber_cds_dt', 'knn_cds_dt', 'catboost_cds_dt']\n",
    ")"
   ]
  },
  {
   "cell_type": "code",
   "execution_count": null,
   "id": "13a85241-5399-43a6-88db-dd5b4b98af15",
   "metadata": {
    "tags": []
   },
   "outputs": [],
   "source": [
    "for i in range(len(best)):\n",
    "    print(\"\\n \", i, \". best model is:\")\n",
    "    print(best[i])"
   ]
  },
  {
   "cell_type": "markdown",
   "id": "6a77ec0c",
   "metadata": {},
   "source": [
    "## Analyze Model"
   ]
  },
  {
   "cell_type": "markdown",
   "id": "595ea108",
   "metadata": {},
   "source": [
    "You can use the `plot_model` function to analyzes the performance of a trained model on the test set. It may require re-training the model in certain cases."
   ]
  },
  {
   "cell_type": "code",
   "execution_count": null,
   "id": "0ec7fad6",
   "metadata": {},
   "outputs": [],
   "source": [
    "# plot forecast\n",
    "exp.plot_model(best, plot = 'forecast')"
   ]
  },
  {
   "cell_type": "code",
   "execution_count": null,
   "id": "6c5be2b7",
   "metadata": {},
   "outputs": [],
   "source": [
    "# plot forecast for 36 months in future\n",
    "for j in range(len(best)):\n",
    "    print(\"This is the \", j,  \". best model\")\n",
    "    exp.plot_model(best[j], plot = 'forecast', data_kwargs = {'fh' : 750})"
   ]
  },
  {
   "cell_type": "code",
   "execution_count": null,
   "id": "6593c1cc-e46e-4fb0-b1bf-d085155c63f8",
   "metadata": {},
   "outputs": [],
   "source": [
    "# residuals plot\n",
    "for i in range(len(best)):\n",
    "    exp.plot_model(best[i], plot = 'residuals')"
   ]
  },
  {
   "cell_type": "code",
   "execution_count": null,
   "id": "0d6a9ffc-781d-4493-af44-1bd4dfaf5341",
   "metadata": {},
   "outputs": [],
   "source": [
    "# feature plot\n",
    "#for i in range(len(best)):\n",
    "#    exp.plot_model(best[i], plot = 'feature')"
   ]
  },
  {
   "cell_type": "code",
   "execution_count": null,
   "id": "da718984",
   "metadata": {},
   "outputs": [],
   "source": [
    "# check docstring to see available plots \n",
    "#help(plot_model)"
   ]
  },
  {
   "cell_type": "markdown",
   "id": "6bd66179",
   "metadata": {},
   "source": [
    "An alternate to `plot_model` function is `evaluate_model`. It can only be used in Notebook since it uses ipywidget."
   ]
  },
  {
   "cell_type": "markdown",
   "id": "954cbeff",
   "metadata": {},
   "source": [
    "## Prediction\n",
    "The `predict_model` function returns `y_pred`. When data is `None` (default), it uses `fh` as defined during the `setup` function. "
   ]
  },
  {
   "cell_type": "code",
   "execution_count": null,
   "id": "87c1a007",
   "metadata": {},
   "outputs": [],
   "source": [
    "# predict on test set\n",
    "holdout_pred = []\n",
    "for i in range(len(best)):\n",
    "    holdout_pred.append(exp.predict_model(best[i]))"
   ]
  },
  {
   "cell_type": "code",
   "execution_count": null,
   "id": "5c01ac77",
   "metadata": {},
   "outputs": [],
   "source": [
    "# show predictions df\n",
    "for i in range(len(holdout_pred)):\n",
    "    print(holdout_pred[i].head(30))"
   ]
  },
  {
   "cell_type": "code",
   "execution_count": null,
   "id": "766ed344",
   "metadata": {},
   "outputs": [],
   "source": [
    "# generate forecast for 36 period in future\n",
    "for i in range(len(best)):\n",
    "    print(exp.predict_model(best[i], fh = 36))"
   ]
  },
  {
   "cell_type": "markdown",
   "id": "e4384735",
   "metadata": {},
   "source": [
    "## Save Model"
   ]
  },
  {
   "cell_type": "markdown",
   "id": "cd63f053",
   "metadata": {},
   "source": [
    "Finally, you can save the entire pipeline on disk for later use, using pycaret's `save_model` function."
   ]
  },
  {
   "cell_type": "code",
   "execution_count": null,
   "id": "4181de41",
   "metadata": {},
   "outputs": [],
   "source": [
    "# save pipeline\n",
    "for i in range(len(best)):\n",
    "    exp.save_model(best[i], 'my_first_pipeline_TS_' + str(i))"
   ]
  },
  {
   "cell_type": "code",
   "execution_count": null,
   "id": "40ed5152",
   "metadata": {},
   "outputs": [],
   "source": [
    "# load pipeline\n",
    "loaded_best_pipeline = []\n",
    "for i in range(len(best)): # TODO: exp will not work if it is not set before, use OS later\n",
    "    loaded_best_pipeline.append(load_model('my_first_pipeline_TS_' + str(i)))\n",
    "    loaded_best_pipeline"
   ]
  },
  {
   "cell_type": "markdown",
   "id": "b2c7d62e",
   "metadata": {},
   "source": [
    "# 👇 Detailed function-by-function overview"
   ]
  },
  {
   "cell_type": "markdown",
   "id": "e05937f5",
   "metadata": {},
   "source": [
    "## ✅ Setup\n",
    "This function initializes the training environment and creates the transformation pipeline. Setup function must be called before executing any other function in PyCaret. `Setup` has only one required parameter i.e. `data`. All the other parameters are optional."
   ]
  },
  {
   "cell_type": "code",
   "execution_count": null,
   "id": "24e503be",
   "metadata": {},
   "outputs": [],
   "source": [
    "s2 = []\n",
    "for i in range(len(cut_sub_dfs)):\n",
    "    s2.append(setup(\n",
    "        cut_sub_dfs[i], \n",
    "        target = 'rolling_mean_grouped_soil', \n",
    "        fh = 50, \n",
    "        session_id = 123, \n",
    "        use_gpu = True, \n",
    "        ignore_features = ['Time', 'orig_index', 'gradient'],\n",
    "        fold=3\n",
    "    ))"
   ]
  },
  {
   "cell_type": "markdown",
   "id": "924d198b",
   "metadata": {},
   "source": [
    "To access all the variables created by the setup function such as transformed dataset, random_state, etc. you can use `get_config` method."
   ]
  },
  {
   "cell_type": "code",
   "execution_count": null,
   "id": "76128b08",
   "metadata": {},
   "outputs": [],
   "source": [
    "# check all available config\n",
    "get_config()"
   ]
  },
  {
   "cell_type": "code",
   "execution_count": null,
   "id": "dbc43292",
   "metadata": {},
   "outputs": [],
   "source": [
    "# lets access y_train_transformed\n",
    "get_config('y_train_transformed')"
   ]
  },
  {
   "cell_type": "code",
   "execution_count": null,
   "id": "ef9cd061",
   "metadata": {},
   "outputs": [],
   "source": [
    "# another example: let's access seed\n",
    "print(\"The current seed is: {}\".format(get_config('seed')))\n",
    "\n",
    "# now lets change it using set_config\n",
    "set_config('seed', 786)\n",
    "print(\"The new seed is: {}\".format(get_config('seed')))"
   ]
  },
  {
   "cell_type": "markdown",
   "id": "7afbe41d",
   "metadata": {},
   "source": [
    "All the preprocessing configurations and experiment settings/parameters are passed into the `setup` function. To see all available parameters, check the docstring:"
   ]
  },
  {
   "cell_type": "code",
   "execution_count": null,
   "id": "2885a14f",
   "metadata": {},
   "outputs": [],
   "source": [
    "# help(setup)"
   ]
  },
  {
   "cell_type": "code",
   "execution_count": null,
   "id": "34ae0fce",
   "metadata": {},
   "outputs": [],
   "source": [
    "# init setup fold_strategy = expanding\n",
    "s3 = []\n",
    "for i in range(len(cut_sub_dfs)):\n",
    "    s3.append(setup(\n",
    "        cut_sub_dfs[i], \n",
    "        target = 'rolling_mean_grouped_soil', \n",
    "        #use_gpu = True, \n",
    "        fh = 50, \n",
    "        session_id = 123,\n",
    "        fold_strategy = 'expanding', \n",
    "        numeric_imputation_target = 'drift', \n",
    "        ignore_features = ['Time', 'orig_index', 'gradient']\n",
    "    ))"
   ]
  },
  {
   "cell_type": "markdown",
   "id": "36b8b803",
   "metadata": {},
   "source": [
    "## ✅ Compare Models\n",
    "This function trains and evaluates the performance of all estimators available in the model library using cross-validation. The output of this function is a scoring grid with average cross-validated scores. Metrics evaluated during CV can be accessed using the `get_metrics` function. Custom metrics can be added or removed using `add_metric` and `remove_metric` function."
   ]
  },
  {
   "cell_type": "code",
   "execution_count": null,
   "id": "a3350418",
   "metadata": {},
   "outputs": [],
   "source": [
    "best_comp = []\n",
    "for i in range(len(s3)):\n",
    "    best_comp.append(s3[i].compare_models(include=['lr_cds_dt', 'br_cds_dt', 'ridge_cds_dt', \n",
    "                 'huber_cds_dt', 'auto_arima', 'knn_cds_dt', 'catboost_cds_dt']))"
   ]
  },
  {
   "cell_type": "code",
   "execution_count": null,
   "id": "23a12933-b0c7-4f4e-8b59-f2c10a76309d",
   "metadata": {
    "tags": []
   },
   "outputs": [],
   "source": [
    "# compare the ones without turbo => same models, useless\n",
    "#best_comp_no_turbo = []\n",
    "#for i in range(len(s3)):\n",
    "#    best_comp_no_turbo.append(s3[i].compare_models(turbo=False))"
   ]
  },
  {
   "cell_type": "markdown",
   "id": "cd18dcf6",
   "metadata": {},
   "source": [
    "`compare_models` by default uses all the estimators in model library (all except models with `Turbo=False`) . To see all available models you can use the function `models()`"
   ]
  },
  {
   "cell_type": "code",
   "execution_count": null,
   "id": "432e93d7",
   "metadata": {},
   "outputs": [],
   "source": [
    "# check available models\n",
    "models()"
   ]
  },
  {
   "cell_type": "markdown",
   "id": "f588f54b",
   "metadata": {},
   "source": [
    "You can use the `include` and `exclude` parameter in the `compare_models` to train only select model or exclude specific models from training by passing the model id's in `exclude` parameter."
   ]
  },
  {
   "cell_type": "code",
   "execution_count": null,
   "id": "f2a7e578",
   "metadata": {},
   "outputs": [],
   "source": [
    "#compare_ts_models = compare_models(include = ['ets', 'arima', 'theta', 'naive', 'snaive', 'grand_means', 'polytrend'])"
   ]
  },
  {
   "cell_type": "code",
   "execution_count": null,
   "id": "c15a467e",
   "metadata": {},
   "outputs": [],
   "source": [
    "#compare_ts_models"
   ]
  },
  {
   "cell_type": "markdown",
   "id": "af9ae6cd",
   "metadata": {},
   "source": [
    "The function above has return trained model object as an output. The scoring grid is only displayed and not returned. If you need access to the scoring grid you can use `pull` function to access the dataframe."
   ]
  },
  {
   "cell_type": "code",
   "execution_count": null,
   "id": "fc529e25",
   "metadata": {},
   "outputs": [],
   "source": [
    "#compare_ts_models_results = pull()\n",
    "#compare_ts_models_results"
   ]
  },
  {
   "cell_type": "markdown",
   "id": "05a72fc2",
   "metadata": {},
   "source": [
    "By default `compare_models` return the single best performing model based on the metric defined in the `sort` parameter. Let's change our code to return 3 top models based on `MAE`."
   ]
  },
  {
   "cell_type": "code",
   "execution_count": null,
   "id": "1066dd07",
   "metadata": {},
   "outputs": [],
   "source": [
    "best_mae_models_top3 = []\n",
    "for i in range(len(s3)):\n",
    "    best_mae_models_top3.append(s3[i].compare_models(sort = 'MAE', n_select = 3,include=['lr_cds_dt', 'br_cds_dt', 'ridge_cds_dt', \n",
    "                 'huber_cds_dt', 'auto_arima', 'knn_cds_dt', 'catboost_cds_dt']))"
   ]
  },
  {
   "cell_type": "code",
   "execution_count": null,
   "id": "aa259708",
   "metadata": {},
   "outputs": [],
   "source": [
    "# list of top 3 models by MAE\n",
    "for i in range(len(best_mae_models_top3)):\n",
    "    print(\"This is model\",i,\":\")\n",
    "    print(best_mae_models_top3[i])"
   ]
  },
  {
   "cell_type": "markdown",
   "id": "1d91d27e",
   "metadata": {},
   "source": [
    "Some other parameters that you might find very useful in `compare_models` are:\n",
    "\n",
    "- fold\n",
    "- cross_validation\n",
    "- budget_time\n",
    "- errors\n",
    "- parallel\n",
    "- engine\n",
    "\n",
    "You can check the docstring of the function for more info."
   ]
  },
  {
   "cell_type": "code",
   "execution_count": null,
   "id": "f0c49e0b",
   "metadata": {},
   "outputs": [],
   "source": [
    "# help(compare_models)"
   ]
  },
  {
   "cell_type": "markdown",
   "id": "f8b75e77",
   "metadata": {},
   "source": [
    "## ✅  Check Stats\n",
    "The `check_stats` function is used to get summary statistics and run statistical tests on the original data or model residuals."
   ]
  },
  {
   "cell_type": "code",
   "execution_count": null,
   "id": "a5990dc3",
   "metadata": {},
   "outputs": [],
   "source": [
    "# check stats on original data, swap index of exp to see stats-> otherwise use print->ugly\n",
    "s3[0].check_stats()"
   ]
  },
  {
   "cell_type": "code",
   "execution_count": null,
   "id": "4aae2067",
   "metadata": {},
   "outputs": [],
   "source": [
    "# check_stats on residuals of best model\n",
    "for i in range(len(s3)):\n",
    "    s3[i].check_stats(estimator = best_mae_models_top3[i][0])"
   ]
  },
  {
   "cell_type": "markdown",
   "id": "9e6c47cb",
   "metadata": {},
   "source": [
    "## ✅ Experiment Logging\n",
    "PyCaret integrates with many different type of experiment loggers (default = 'mlflow'). To turn on experiment tracking in PyCaret you can set `log_experiment` and `experiment_name` parameter. It will automatically track all the metrics, hyperparameters, and artifacts based on the defined logger."
   ]
  },
  {
   "cell_type": "code",
   "execution_count": null,
   "id": "1af63fd0",
   "metadata": {},
   "outputs": [],
   "source": [
    "# from pycaret.time_series import *\n",
    "# s = setup(data, fh = 3, session_id = 123, log_experiment='mlflow', experiment_name='airline_experiment')"
   ]
  },
  {
   "cell_type": "code",
   "execution_count": null,
   "id": "42cd6120",
   "metadata": {},
   "outputs": [],
   "source": [
    "# compare models\n",
    "# best = compare_models()"
   ]
  },
  {
   "cell_type": "code",
   "execution_count": null,
   "id": "adc82ce5",
   "metadata": {},
   "outputs": [],
   "source": [
    "# start mlflow server on localhost:5000\n",
    "# !mlflow ui"
   ]
  },
  {
   "cell_type": "markdown",
   "id": "a06f9df7",
   "metadata": {},
   "source": [
    "By default PyCaret uses `MLFlow` logger that can be changed using `log_experiment` parameter. Following loggers are available:\n",
    "    \n",
    "    - mlflow\n",
    "    - wandb\n",
    "    - comet_ml\n",
    "    - dagshub\n",
    "    \n",
    "Other logging related parameters that you may find useful are:\n",
    "\n",
    "- experiment_custom_tags\n",
    "- log_plots\n",
    "- log_data\n",
    "- log_profile\n",
    "\n",
    "For more information check out the docstring of the `setup` function."
   ]
  },
  {
   "cell_type": "code",
   "execution_count": null,
   "id": "2f8b6aa1",
   "metadata": {},
   "outputs": [],
   "source": [
    "# help(setup)"
   ]
  },
  {
   "cell_type": "markdown",
   "id": "6ce0b555",
   "metadata": {},
   "source": [
    "## ✅ Create Model\n",
    "This function trains and evaluates the performance of a given estimator using cross-validation. The output of this function is a scoring grid with CV scores by fold. Metrics evaluated during CV can be accessed using the `get_metrics` function. Custom metrics can be added or removed using `add_metric` and `remove_metric` function. All the available models can be accessed using the models function."
   ]
  },
  {
   "cell_type": "code",
   "execution_count": null,
   "id": "837cebfa",
   "metadata": {},
   "outputs": [],
   "source": [
    "# check all the available models\n",
    "models()"
   ]
  },
  {
   "cell_type": "code",
   "execution_count": null,
   "id": "9ee40198-3fb8-45f0-adea-5962a39419f4",
   "metadata": {
    "tags": []
   },
   "outputs": [],
   "source": [
    "exp[0]"
   ]
  },
  {
   "cell_type": "code",
   "execution_count": null,
   "id": "9abc19a4-3e60-40cc-8351-9775a3fb57ee",
   "metadata": {},
   "outputs": [],
   "source": [
    "# train ets with default fold=3\n",
    "best_models_mae = []\n",
    "for i in range(len(s3)):\n",
    "    print(\"Best model: \",i,\": \",best_mae_models_top3[i][0])\n",
    "    best_models_mae.append(exp[i].create_model(best_mae_models_top3[i][0], fold=3))"
   ]
  },
  {
   "cell_type": "markdown",
   "id": "074b4572",
   "metadata": {},
   "source": [
    "The function above has return trained model object as an output. The scoring grid is only displayed and not returned. If you need access to the scoring grid you can use `pull` function to access the dataframe."
   ]
  },
  {
   "cell_type": "code",
   "execution_count": null,
   "id": "fe277e1b",
   "metadata": {},
   "outputs": [],
   "source": [
    "for i in range(len(best_models_mae)):\n",
    "    ets_results = exp[i].pull()\n",
    "    print(\"Model \",i,\":\",type(ets_results))\n",
    "    print(ets_results)"
   ]
  },
  {
   "cell_type": "code",
   "execution_count": null,
   "id": "148a74c4",
   "metadata": {},
   "outputs": [],
   "source": [
    "# train theta model with fold=5\n",
    "#theta = create_model('theta', fold=5)"
   ]
  },
  {
   "cell_type": "code",
   "execution_count": null,
   "id": "5a8906a8",
   "metadata": {},
   "outputs": [],
   "source": [
    "# train theta with specific model parameters\n",
    "#create_model('theta', deseasonalize = False, fold=5)"
   ]
  },
  {
   "cell_type": "markdown",
   "id": "08634e9e",
   "metadata": {},
   "source": [
    "Some other parameters that you might find very useful in `create_model` are:\n",
    "\n",
    "- cross_validation\n",
    "- engine\n",
    "- fit_kwargs\n",
    "\n",
    "You can check the docstring of the function for more info."
   ]
  },
  {
   "cell_type": "code",
   "execution_count": null,
   "id": "3fb32c74",
   "metadata": {},
   "outputs": [],
   "source": [
    "# help(create_model)"
   ]
  },
  {
   "cell_type": "markdown",
   "id": "d5378836",
   "metadata": {},
   "source": [
    "## ✅ Tune Model\n",
    "\n",
    "The `tune_model` function tunes the hyperparameters of the model. The output of this function is a scoring grid with cross-validated scores by fold. The best model is selected based on the metric defined in optimize parameter. Metrics evaluated during cross-validation can be accessed using the `get_metrics` function. Custom metrics can be added or removed using `add_metric` and `remove_metric` function."
   ]
  },
  {
   "cell_type": "code",
   "execution_count": null,
   "id": "402597f2",
   "metadata": {},
   "outputs": [],
   "source": [
    "# train a dt model with default params\n",
    "#dt = create_model('dt_cds_dt')"
   ]
  },
  {
   "cell_type": "code",
   "execution_count": null,
   "id": "90dc451d",
   "metadata": {},
   "outputs": [],
   "source": [
    "# tune hyperparameters of dt\n",
    "tuned_best_models = []\n",
    "for i in range(len(best_models_mae)):\n",
    "    print(\"This is for the\",i,\"model:\",best_models_mae[i])\n",
    "    tuned_best_models = tune_model(best_models_mae[i])"
   ]
  },
  {
   "cell_type": "markdown",
   "id": "805b66b9",
   "metadata": {},
   "source": [
    "Metric to optimize can be defined in `optimize` parameter (default = 'MASE'). Also, a custom tuned grid can be passed with `custom_grid` parameter. "
   ]
  },
  {
   "cell_type": "code",
   "execution_count": null,
   "id": "cca8e640",
   "metadata": {},
   "outputs": [],
   "source": [
    "for i in range(len(best_models_mae)):\n",
    "    print(tuned_best_models[i])"
   ]
  },
  {
   "cell_type": "code",
   "execution_count": null,
   "id": "68c101e7-6b61-49b6-8619-978bf326fcc1",
   "metadata": {
    "tags": []
   },
   "outputs": [],
   "source": [
    "current = best[1][0]\n",
    "print(str(current.regressor), type(str(current.regressor)))\n",
    "current.get_params().keys()\n"
   ]
  },
  {
   "cell_type": "code",
   "execution_count": null,
   "id": "31e050ff",
   "metadata": {},
   "outputs": [],
   "source": [
    "# define tuning grid -> no grid for model defined, TODO: come back later\n",
    "#grid = {'regressor__max_depth' : [None, 2, 4, 6, 8, 10, 12]}\n",
    "#sp = {'regressor__max_depth' : [None, 2, 4, 6, 8, 10, 12]}\n",
    "# define the custom grid\n",
    "param_grid_linear = {\n",
    "    'degree': [1, 2, 3],\n",
    "    'deseasonal_model': ['multiplicative', 'additive'],\n",
    "    #'fe_target_rr': [True, False],\n",
    "    #'regressor__copy_X': [True, False],\n",
    "    #'regressor__fit_intercept': [True, False],\n",
    "    'regressor__n_jobs': [-1, 1, 2],\n",
    "    #'regressor__normalize': [True, False],\n",
    "    'regressor__positive': [True, False],\n",
    "    'sp': [1, 2, 3],\n",
    "    'window_length': [10, 20, 30]\n",
    "}\n",
    "\n",
    "param_grid_knn = {\n",
    "    'n_neighbors': [3, 5, 7],\n",
    "    'weights': ['uniform', 'distance'],\n",
    "    'algorithm': ['auto', 'ball_tree', 'kd_tree', 'brute'],\n",
    "    'leaf_size': [10, 20, 30, 40, 50],\n",
    "    'p': [1, 2]\n",
    "}\n",
    "\n",
    "# tune model with custom grid and metric = MAE\n",
    "tuned_best_models_grid = []\n",
    "for i in range(len(exp)):\n",
    "    print(\"This is for the\",i,\"model:\",best[i][0])\n",
    "    if str(best[i][0].regressor) == \"LinearRegression(n_jobs=-1)\":\n",
    "        tuned_best_models_grid.append(exp[i].tune_model(best[i][0], custom_grid = param_grid_linear, optimize = 'MAE'))\n",
    "    elif str(best[i][0].regressor) == \"KNeighborsRegressor(n_jobs=-1)\":\n",
    "        tuned_best_models_grid.append(exp[i].tune_model(best[i][0], custom_grid = param_grid_knn, optimize = 'MAE'))"
   ]
  },
  {
   "cell_type": "code",
   "execution_count": null,
   "id": "a19788f5",
   "metadata": {},
   "outputs": [],
   "source": [
    "# see tuned_dt params\n",
    "for i in range(len(best_models)):\n",
    "    print(tuned_best_models_grid[i])"
   ]
  },
  {
   "cell_type": "code",
   "execution_count": null,
   "id": "6cca514b",
   "metadata": {},
   "outputs": [],
   "source": [
    "# to access the tuner object you can set return_tuner = True\n",
    "tuners = []\n",
    "tuned_best_models_tuner = []\n",
    "\n",
    "for i in range(len(best_models)):\n",
    "    tuned_model, tuner = tune_model(best_models[i], custom_grid = param_grid, return_tuner=True) #tuned_best_models_grid[i] does not work\n",
    "    tuned_best_models_tuner.append(tuned_model)\n",
    "    tuners.append(tuner)    "
   ]
  },
  {
   "cell_type": "code",
   "execution_count": null,
   "id": "80cbb4a6",
   "metadata": {},
   "outputs": [],
   "source": [
    "# model object\n",
    "for i in range(len(tuned_best_models_tuner)):\n",
    "    tuned_best_models_tuner[i]"
   ]
  },
  {
   "cell_type": "code",
   "execution_count": null,
   "id": "7d5e49ca",
   "metadata": {},
   "outputs": [],
   "source": [
    "# tuner object\n",
    "for i in range(len(best_models)):\n",
    "    tuner[i]"
   ]
  },
  {
   "cell_type": "markdown",
   "id": "a1e2875b",
   "metadata": {},
   "source": [
    "For more details on all available `search_library` and `search_algorithm` please check the docstring. Some other parameters that you might find very useful in `tune_model` are:\n",
    "\n",
    "- choose_better\n",
    "- custom_scorer\n",
    "- n_iter\n",
    "- search_algorithm\n",
    "- optimize\n",
    "\n",
    "You can check the docstring of the function for more info."
   ]
  },
  {
   "cell_type": "code",
   "execution_count": null,
   "id": "94f9c86e",
   "metadata": {},
   "outputs": [],
   "source": [
    "# help(tune_model)"
   ]
  },
  {
   "cell_type": "markdown",
   "id": "ea8a9a4e",
   "metadata": {},
   "source": [
    "## ✅ Blend Models"
   ]
  },
  {
   "cell_type": "code",
   "execution_count": null,
   "id": "92599ef3-90d7-4957-a8d2-f4f2ee7f8d73",
   "metadata": {},
   "outputs": [],
   "source": [
    "len(tuned_best_models_grid)"
   ]
  },
  {
   "cell_type": "markdown",
   "id": "2ede29c4",
   "metadata": {},
   "source": [
    "This function trains a `EnsembleForecaster` for select models passed in the estimator_list parameter. The output of this function is a scoring grid with CV scores by fold. Metrics evaluated during CV can be accessed using the `get_metrics` function. Custom metrics can be added or removed using `add_metric` and `remove_metric` function."
   ]
  },
  {
   "cell_type": "code",
   "execution_count": null,
   "id": "61a7a1c5",
   "metadata": {},
   "outputs": [],
   "source": [
    "# top 3 models based on mae\n",
    "for i in range(len(best)):\n",
    "    print(tuned_best_models_grid[i])"
   ]
  },
  {
   "cell_type": "code",
   "execution_count": null,
   "id": "04f65f2f",
   "metadata": {},
   "outputs": [],
   "source": [
    "# blend top 3 models\n",
    "blended_model = []\n",
    "for i in range(len(best_models)):\n",
    "    print(tuned_best_models_grid[i])\n",
    "    blended_model.append(blend_models(best_models))"
   ]
  },
  {
   "cell_type": "markdown",
   "id": "9e788c9c",
   "metadata": {},
   "source": [
    "Some other parameters that you might find very useful in `blend_models` are:\n",
    "\n",
    "- choose_better\n",
    "- method\n",
    "- weights\n",
    "- fit_kwargs\n",
    "- optimize\n",
    "\n",
    "You can check the docstring of the function for more info."
   ]
  },
  {
   "cell_type": "code",
   "execution_count": null,
   "id": "99b549a6",
   "metadata": {},
   "outputs": [],
   "source": [
    "# help(blend_models)"
   ]
  },
  {
   "cell_type": "markdown",
   "id": "279a3127",
   "metadata": {},
   "source": [
    "## ✅ Plot Model"
   ]
  },
  {
   "cell_type": "markdown",
   "id": "862bd3e9",
   "metadata": {},
   "source": [
    "This function analyzes the performance of a trained model on the hold-out set. It may require re-training the model in certain cases."
   ]
  },
  {
   "cell_type": "code",
   "execution_count": null,
   "id": "9940106d-5ead-46cf-a487-2db924b47a8d",
   "metadata": {
    "tags": []
   },
   "outputs": [],
   "source": [
    "blended_model[0][0]"
   ]
  },
  {
   "cell_type": "code",
   "execution_count": null,
   "id": "28fbe362-2fd3-40c1-b421-3a845f9f1bc4",
   "metadata": {},
   "outputs": [],
   "source": [
    "# extend forecast horizon"
   ]
  },
  {
   "cell_type": "code",
   "execution_count": null,
   "id": "9c8da9b4",
   "metadata": {},
   "outputs": [],
   "source": [
    "# plot forecast\n",
    "for i in range(len(best_models)):\n",
    "    exp[i].plot_model(blended_model[i][0], plot = 'forecast', data_kwargs = {'fh' : 500}) #exp[i].plot_model(best[i], plot = 'forecast', data_kwargs = {'fh' : 500})"
   ]
  },
  {
   "cell_type": "code",
   "execution_count": null,
   "id": "10475c5c-f310-421e-a8ab-e30ace015cfb",
   "metadata": {
    "tags": []
   },
   "outputs": [],
   "source": [
    "future_df = exp[0].predict_model(best[0], fh=144)\n",
    "print(future_df)"
   ]
  },
  {
   "cell_type": "code",
   "execution_count": null,
   "id": "4761f77f-27da-4acc-b423-7bc42c8b11bd",
   "metadata": {
    "tags": []
   },
   "outputs": [],
   "source": [
    "cut_sub_dfs[0]['Time'][len(cut_sub_dfs[0])-1]"
   ]
  },
  {
   "cell_type": "code",
   "execution_count": null,
   "id": "139c8b8a-1241-463f-9ef7-12b547e239a7",
   "metadata": {
    "tags": []
   },
   "outputs": [],
   "source": [
    "cut_sub_dfs[0].tail()"
   ]
  },
  {
   "cell_type": "code",
   "execution_count": null,
   "id": "5b432cb4-f1ba-4c2d-a0d9-eb6394e8517d",
   "metadata": {
    "tags": []
   },
   "outputs": [],
   "source": [
    "len(cut_sub_dfs)"
   ]
  },
  {
   "cell_type": "code",
   "execution_count": null,
   "id": "bb5f25ce-2805-43ba-aad0-a784d415349a",
   "metadata": {
    "tags": []
   },
   "outputs": [],
   "source": [
    "# TODO: for loop\n",
    "all_dates = []\n",
    "for i in range(len(cut_sub_dfs)):\n",
    "    end = cut_sub_dfs[i]['Time'][len(cut_sub_dfs[i])-1]\n",
    "    #print(\"end before adding: \", end)\n",
    "    end=end+pd.Timedelta(days=2)\n",
    "    #print(\"end after adding: \", end)\n",
    "    all_dates.append(pd.date_range(start=cut_sub_dfs[i]['Time'][0], end=end, freq='10T')) #end= cut_sub_dfs[1]['Time'][len(cut_sub_dfs[1])-1]\n",
    "    print(\"Dataframe\",i,\":\",all_dates[i])"
   ]
  },
  {
   "cell_type": "code",
   "execution_count": null,
   "id": "d406e44e-977d-4887-924e-a4358a7a8694",
   "metadata": {
    "tags": []
   },
   "outputs": [],
   "source": [
    "# create new data (only dates)\n",
    "new_data = []\n",
    "for i in range(len(cut_sub_dfs)):\n",
    "    new_data.append(pd.DataFrame())\n",
    "    new_data[i]['Time'] = all_dates[i]\n",
    "    new_data[i]['hour'] = [i.hour for i in new_data[i]['Time']]\n",
    "    new_data[i]['minute'] = [i.minute for i in new_data[i]['Time']]\n",
    "    new_data[i]['date'] = [i.day for i in new_data[i]['Time']]\n",
    "    new_data[i]['month'] = [i.month for i in new_data[i]['Time']]\n",
    "    \n",
    "    print(\"Dataframe\",i,\":\")\n",
    "    print(new_data[i].head(1))"
   ]
  },
  {
   "cell_type": "code",
   "execution_count": null,
   "id": "f6b1d0c9-ba1b-4d6a-b270-860fec2e6962",
   "metadata": {
    "tags": []
   },
   "outputs": [],
   "source": [
    "new_data[0].head()"
   ]
  },
  {
   "cell_type": "code",
   "execution_count": null,
   "id": "6efa9488-572b-40a5-919f-3ba8553c33d9",
   "metadata": {
    "tags": []
   },
   "outputs": [],
   "source": [
    "future_df = []\n",
    "for i in range(len(cut_sub_dfs)):\n",
    "    future_df.append(exp[i].predict_model(best_models[i], X=new_data[i]))"
   ]
  },
  {
   "cell_type": "code",
   "execution_count": null,
   "id": "c5e3a4d9-77b1-4adb-962a-f3c13eb23bd8",
   "metadata": {
    "tags": []
   },
   "outputs": [],
   "source": [
    "for i in range(len(cut_sub_dfs)):\n",
    "    future_df[i].plot()"
   ]
  },
  {
   "cell_type": "code",
   "execution_count": null,
   "id": "a750d486",
   "metadata": {},
   "outputs": [],
   "source": [
    "# plot acf\n",
    "# for certain plots you don't need a trained model\n",
    "plot_model(plot = 'acf')"
   ]
  },
  {
   "cell_type": "code",
   "execution_count": null,
   "id": "b18d34a5",
   "metadata": {},
   "outputs": [],
   "source": [
    "# plot diagnostics\n",
    "# for certain plots you don't need a trained model\n",
    "plot_model(plot = 'diagnostics')"
   ]
  },
  {
   "cell_type": "markdown",
   "id": "2fef279d",
   "metadata": {},
   "source": [
    "Some other parameters that you might find very useful in `plot_model` are:\n",
    "\n",
    "- fig_kwargs\n",
    "- data_kwargs\n",
    "- display_format\n",
    "- return_fig\n",
    "- return_data\n",
    "- save\n",
    "\n",
    "You can check the docstring of the function for more info."
   ]
  },
  {
   "cell_type": "code",
   "execution_count": null,
   "id": "54b09b8e",
   "metadata": {},
   "outputs": [],
   "source": [
    "# help(plot_model)"
   ]
  },
  {
   "cell_type": "markdown",
   "id": "e27c212b",
   "metadata": {},
   "source": [
    "## ✅ Finalize Model\n",
    "This function trains a given model on the entire dataset including the hold-out set."
   ]
  },
  {
   "cell_type": "code",
   "execution_count": null,
   "id": "65225684",
   "metadata": {},
   "outputs": [],
   "source": [
    "final_best = finalize_model(best) #TODO: for loop"
   ]
  },
  {
   "cell_type": "code",
   "execution_count": null,
   "id": "80d17fec",
   "metadata": {},
   "outputs": [],
   "source": [
    "final_best"
   ]
  },
  {
   "cell_type": "markdown",
   "id": "ed00202c",
   "metadata": {},
   "source": [
    "## ✅ Deploy Model\n",
    "This function deploys the entire ML pipeline on the cloud.\n",
    "\n",
    "**AWS:**  When deploying model on AWS S3, environment variables must be configured using the command-line interface. To configure AWS environment variables, type `aws configure` in terminal. The following information is required which can be generated using the Identity and Access Management (IAM) portal of your amazon console account:\n",
    "\n",
    "- AWS Access Key ID\n",
    "- AWS Secret Key Access\n",
    "- Default Region Name (can be seen under Global settings on your AWS console)\n",
    "- Default output format (must be left blank)\n",
    "\n",
    "**GCP:** To deploy a model on Google Cloud Platform ('gcp'), the project must be created using the command-line or GCP console. Once the project is created, you must create a service account and download the service account key as a JSON file to set environment variables in your local environment. Learn more about it: https://cloud.google.com/docs/authentication/production\n",
    "\n",
    "**Azure:** To deploy a model on Microsoft Azure ('azure'), environment variables for the connection string must be set in your local environment. Go to settings of storage account on Azure portal to access the connection string required.\n",
    "AZURE_STORAGE_CONNECTION_STRING (required as environment variable)\n",
    "Learn more about it: https://docs.microsoft.com/en-us/azure/storage/blobs/storage-quickstart-blobs-python?toc=%2Fpython%2Fazure%2FTOC.json"
   ]
  },
  {
   "cell_type": "code",
   "execution_count": null,
   "id": "40b20a18",
   "metadata": {},
   "outputs": [],
   "source": [
    "# deploy model on aws s3\n",
    "# deploy_model(best, model_name = 'my_first_platform_on_aws',\n",
    "#             platform = 'aws', authentication = {'bucket' : 'pycaret-test'})"
   ]
  },
  {
   "cell_type": "code",
   "execution_count": null,
   "id": "9e236516",
   "metadata": {},
   "outputs": [],
   "source": [
    "# load model from aws s3\n",
    "# loaded_from_aws = load_model(model_name = 'my_first_platform_on_aws', platform = 'aws',\n",
    "#                              authentication = {'bucket' : 'pycaret-test'})\n",
    "\n",
    "# loaded_from_aws"
   ]
  },
  {
   "cell_type": "markdown",
   "id": "e169ae86",
   "metadata": {},
   "source": [
    "## ✅ Save / Load Model\n",
    "This function saves the transformation pipeline and a trained model object into the current working directory as a pickle file for later use."
   ]
  },
  {
   "cell_type": "code",
   "execution_count": null,
   "id": "bc5cf24a",
   "metadata": {},
   "outputs": [],
   "source": [
    "# save model\n",
    "for i in range(len(best_models)):\n",
    "    save_model(best_models[i], 'my_first_SPLIT_model' + str(i))"
   ]
  },
  {
   "cell_type": "code",
   "execution_count": null,
   "id": "e8478d34",
   "metadata": {},
   "outputs": [],
   "source": [
    "# load model\n",
    "for i in range(len(best_models)): # will not work need to know how many models->use os TODO\n",
    "    loaded_from_disk = load_model('my_first_SPILT_model'+str(i))\n",
    "    loaded_from_disk"
   ]
  },
  {
   "cell_type": "markdown",
   "id": "de5eee8c",
   "metadata": {},
   "source": [
    "## ✅ Save / Load Experiment\n",
    "This function saves all the experiment variables on disk, allowing to later resume without rerunning the setup function."
   ]
  },
  {
   "cell_type": "code",
   "execution_count": null,
   "id": "6a3c61b6",
   "metadata": {},
   "outputs": [],
   "source": [
    "# save experiment\n",
    "save_experiment('my_SPLIT_experiment')"
   ]
  },
  {
   "cell_type": "code",
   "execution_count": null,
   "id": "83252c09",
   "metadata": {
    "tags": []
   },
   "outputs": [],
   "source": [
    "# load experiment from disk\n",
    "exp_from_disk = load_experiment('my_SPLIT_experiment', data=data)"
   ]
  }
 ],
 "metadata": {
  "kernelspec": {
   "display_name": "Python 3 (ipykernel)",
   "language": "python",
   "name": "python3"
  },
  "language_info": {
   "codemirror_mode": {
    "name": "ipython",
    "version": 3
   },
   "file_extension": ".py",
   "mimetype": "text/x-python",
   "name": "python",
   "nbconvert_exporter": "python",
   "pygments_lexer": "ipython3",
   "version": "3.7.16"
  }
 },
 "nbformat": 4,
 "nbformat_minor": 5
}
