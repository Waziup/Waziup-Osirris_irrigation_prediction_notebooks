{
 "cells": [
  {
   "cell_type": "code",
   "execution_count": 2,
   "id": "62c19f45-0d70-4fcb-9d01-774c6379b03d",
   "metadata": {},
   "outputs": [
    {
     "name": "stdout",
     "output_type": "stream",
     "text": [
      "Original UTC: 2023-12-12 00:00:00\n",
      "Converted GMT+1: 2023-12-11 23:00:00\n"
     ]
    }
   ],
   "source": [
    "from datetime import datetime, timedelta\n",
    "\n",
    "# Original timestamp in UTC\n",
    "timestamp_utc = datetime.strptime(\"2023-12-12T00:00:00.000000Z\", \"%Y-%m-%dT%H:%M:%S.%fZ\")\n",
    "\n",
    "# Add one hour for GMT+1\n",
    "timestamp_gmt1 = timestamp_utc - timedelta(hours=1)\n",
    "\n",
    "print(\"Original UTC:\", timestamp_utc)\n",
    "print(\"Converted GMT+1:\", timestamp_gmt1)"
   ]
  },
  {
   "cell_type": "code",
   "execution_count": 3,
   "id": "541bb1cc-40a4-49b9-ac5b-86d9e6ead4ae",
   "metadata": {},
   "outputs": [
    {
     "name": "stdout",
     "output_type": "stream",
     "text": [
      "2023-12-12 00:00:00\n"
     ]
    }
   ],
   "source": [
    "from datetime import datetime\n",
    "\n",
    "timestamp_str = '2023-12-12T00:00:00'\n",
    "timestamp_obj = datetime.fromisoformat(timestamp_str)\n",
    "\n",
    "print(timestamp_obj)"
   ]
  },
  {
   "cell_type": "code",
   "execution_count": null,
   "id": "1fe7a170-ae29-4c92-a090-38e0d210e381",
   "metadata": {},
   "outputs": [],
   "source": []
  }
 ],
 "metadata": {
  "kernelspec": {
   "display_name": "Python 3 (ipykernel)",
   "language": "python",
   "name": "python3"
  },
  "language_info": {
   "codemirror_mode": {
    "name": "ipython",
    "version": 3
   },
   "file_extension": ".py",
   "mimetype": "text/x-python",
   "name": "python",
   "nbconvert_exporter": "python",
   "pygments_lexer": "ipython3",
   "version": "3.10.12"
  }
 },
 "nbformat": 4,
 "nbformat_minor": 5
}
