{
 "cells": [
  {
   "cell_type": "markdown",
   "id": "81e0620e",
   "metadata": {},
   "source": [
    "Last updated: 16 Feb 2023\n",
    "\n",
    "# 👋 PyCaret Time Series Forecasting Tutorial\n",
    "\n",
    "PyCaret is an open-source, low-code machine learning library in Python that automates machine learning workflows. It is an end-to-end machine learning and model management tool that exponentially speeds up the experiment cycle and makes you more productive.\n",
    "\n",
    "Compared with the other open-source machine learning libraries, PyCaret is an alternate low-code library that can be used to replace hundreds of lines of code with a few lines only. This makes experiments exponentially fast and efficient. PyCaret is essentially a Python wrapper around several machine learning libraries and frameworks, such as scikit-learn, XGBoost, LightGBM, CatBoost, spaCy, Optuna, Hyperopt, Ray, and a few more.\n",
    "\n",
    "The design and simplicity of PyCaret are inspired by the emerging role of citizen data scientists, a term first used by Gartner. Citizen Data Scientists are power users who can perform both simple and moderately sophisticated analytical tasks that would previously have required more technical expertise.\n"
   ]
  },
  {
   "cell_type": "markdown",
   "id": "8116e19d",
   "metadata": {},
   "source": [
    "# 💻 Installation\n",
    "\n",
    "PyCaret is tested and supported on the following 64-bit systems:\n",
    "- Python 3.7 – 3.10\n",
    "- Python 3.9 for Ubuntu only\n",
    "- Ubuntu 16.04 or later\n",
    "- Windows 7 or later\n",
    "\n",
    "You can install PyCaret with Python's pip package manager:\n",
    "\n",
    "`pip install pycaret`\n",
    "\n",
    "PyCaret's default installation will not install all the extra dependencies automatically. For that you will have to install the full version:\n",
    "\n",
    "`pip install pycaret[full]`\n",
    "\n",
    "or depending on your use-case you may install one of the following variant:\n",
    "\n",
    "- `pip install pycaret[analysis]`\n",
    "- `pip install pycaret[models]`\n",
    "- `pip install pycaret[tuner]`\n",
    "- `pip install pycaret[mlops]`\n",
    "- `pip install pycaret[parallel]`\n",
    "- `pip install pycaret[test]`"
   ]
  },
  {
   "cell_type": "code",
   "execution_count": null,
   "id": "d7142a33",
   "metadata": {
    "tags": []
   },
   "outputs": [],
   "source": [
    "# install pycaret\n",
    "#!pip install pycaret[full]\n",
    "# check installed version\n",
    "import pycaret \n",
    "pycaret.__version__"
   ]
  },
  {
   "cell_type": "markdown",
   "id": "fb66e98d",
   "metadata": {},
   "source": [
    "# 🚀 Quick start"
   ]
  },
  {
   "cell_type": "markdown",
   "id": "00347d44",
   "metadata": {},
   "source": [
    "PyCaret's time series forecasting module is now available. The module currently is suitable for univariate / multivariate time series forecasting tasks. The API of time series module is consistent with other modules of PyCaret.\n",
    "\n",
    "It comes built-in with preprocessing capabilities and over 30 algorithms comprising of statistical / time-series methods as well as machine learning based models. In addition to the model training, this module has lot of other capabilities such as automated hyperparameter tuning, ensembling, model analysis, model packaging and deployment capabilities. \n",
    "\n",
    "A typical workflow in PyCaret consist of following 5 steps in this order:\n",
    "\n",
    "### **Setup** ➡️ **Compare Models** ➡️ **Analyze Model** ➡️ **Prediction** ➡️ **Save Model** <br/>"
   ]
  },
  {
   "cell_type": "code",
   "execution_count": null,
   "id": "1b09f8df",
   "metadata": {
    "tags": []
   },
   "outputs": [],
   "source": [
    "# import pandas module\n",
    "import pandas as pd\n",
    "import numpy as np\n",
    "import matplotlib.pyplot as plt\n",
    " \n",
    "# creating a data frame\n",
    "data = pd.read_csv(\"binned_removed.csv\",header=0)\n",
    "data.head()\n",
    "\n",
    "# mean of one column\n",
    "data_mean = data[\"638de53168f31919048f189d, 63932c6e68f319085df375b5; B2_solar_x2_03, Soil_tension\"].mean()\n",
    "print(data_mean)"
   ]
  },
  {
   "cell_type": "code",
   "execution_count": null,
   "id": "2530c17c",
   "metadata": {
    "tags": []
   },
   "outputs": [],
   "source": [
    "# plot the dataset\n",
    "data.plot(figsize = (20,10))\n",
    "fig = plt.gcf()\n",
    "fig.savefig('all_data.png')"
   ]
  },
  {
   "cell_type": "code",
   "execution_count": null,
   "id": "8351e32f-88cb-41ea-9476-1d3f526403f7",
   "metadata": {
    "tags": []
   },
   "outputs": [],
   "source": [
    "# Show if there are any missing values inside the data\n",
    "data.isna().any()"
   ]
  },
  {
   "cell_type": "code",
   "execution_count": null,
   "id": "d44d9c28-9ada-43e7-b94a-727265ce441c",
   "metadata": {
    "tags": []
   },
   "outputs": [],
   "source": [
    "import missingno as msno \n",
    "# Plot correlation heatmap of missingness\n",
    "msno.matrix(data);"
   ]
  },
  {
   "cell_type": "code",
   "execution_count": null,
   "id": "edc0d0d2-0440-4426-9cdd-022f70a4cc8f",
   "metadata": {
    "tags": []
   },
   "outputs": [],
   "source": [
    "msno.heatmap(data);"
   ]
  },
  {
   "cell_type": "code",
   "execution_count": null,
   "id": "5358f5ae-f4a6-47cd-be61-da1e5e69b594",
   "metadata": {
    "tags": []
   },
   "outputs": [],
   "source": [
    "msno.dendrogram(data)"
   ]
  },
  {
   "cell_type": "code",
   "execution_count": null,
   "id": "afabdbac-37e2-44cc-bcfd-02154e935833",
   "metadata": {
    "tags": []
   },
   "outputs": [],
   "source": [
    "# Get length cols\n",
    "len(data.columns)\n",
    "print(data.head())"
   ]
  },
  {
   "cell_type": "code",
   "execution_count": null,
   "id": "ead22039-ccc2-47f6-adc8-040aa6b45e3b",
   "metadata": {
    "tags": []
   },
   "outputs": [],
   "source": [
    "from sklearn.impute import KNNImputer\n",
    "\n",
    "# Copy the data\n",
    "data = data.copy(deep=True)\n",
    "\n",
    "#data_knn_imputed = data_knn_imputed.drop(['Time'], axis=1)\n",
    "\n",
    "# Init the transformer\n",
    "knn_imp = KNNImputer(n_neighbors=3)\n",
    "\n",
    "# Fit/transform\n",
    "data.iloc[:,1:8] = knn_imp.fit_transform(data.iloc[:,1:8])\n",
    "\n",
    "# Plot correlation heatmap of missingness\n",
    "msno.matrix(data)"
   ]
  },
  {
   "cell_type": "code",
   "execution_count": null,
   "id": "a50f0130-91b9-4af2-b90f-33aebd128b63",
   "metadata": {
    "tags": []
   },
   "outputs": [],
   "source": [
    "data.tail()"
   ]
  },
  {
   "cell_type": "code",
   "execution_count": null,
   "id": "cc0f8465-cd66-48e5-a0bf-6ba53396ca85",
   "metadata": {
    "tags": []
   },
   "outputs": [],
   "source": [
    "# Show if there are any missing values inside the data\n",
    "data.isna().any()"
   ]
  },
  {
   "cell_type": "code",
   "execution_count": null,
   "id": "fa03c36c-8b58-489d-bd1e-3cc0ce5b86b8",
   "metadata": {
    "tags": []
   },
   "outputs": [],
   "source": [
    "# create average cols\n",
    "data['grouped_soil'] = data[['638de53168f31919048f189d, 63932c6e68f319085df375b5; B2_solar_x2_03, Soil_tension', '638de57568f31919048f189f, 63932c3668f319085df375ab; B4_solar_x1_03, Soil_tension']].mean(axis=1)\n",
    "data['grouped_resistance'] = data[['638de53168f31919048f189d, 63932c6e68f319085df375b7; B2_solar_x2_03, Resistance', '638de56a68f31919048f189e, 63932ce468f319085df375cb; B3_solar_x1_02, Resistance', '638de57568f31919048f189f, 63932c3668f319085df375ad; B4_solar_x1_03, Resistance']].mean(axis=1)\n",
    "data['grouped_soil_temp'] = data[['638de53168f31919048f189d, 63932c6e68f319085df375b9; B2_solar_x2_03, Soil_temperature', '638de57568f31919048f189f, 63932c3668f319085df375af; B4_solar_x1_03, Soil_temperature']].mean(axis=1)\n"
   ]
  },
  {
   "cell_type": "code",
   "execution_count": null,
   "id": "e530a9ad-4421-492e-bcce-6092bf4a8ed7",
   "metadata": {
    "tags": []
   },
   "outputs": [],
   "source": [
    "data.dtypes"
   ]
  },
  {
   "cell_type": "code",
   "execution_count": null,
   "id": "e777c50c-592b-4371-8d9d-5da7c66908e0",
   "metadata": {},
   "outputs": [],
   "source": [
    "#for test\n",
    "data_arr = [{'mydate': '2007-02-01T05:00:00+0000 UTC', 'b': 2, 'c':3},\n",
    "        {'mydate': '2023-02-08 16:10:00 +0000 UTC', 'b': 20, 'c': 30},\n",
    "        {'mydate': '2007-02-01T05:00:00+0000 UTC', 'b': 20, 'c': 30}]\n",
    "\n",
    "# Creates DataFrame.\n",
    "df = pd.DataFrame(data_arr)\n",
    "\n",
    "# Below line commented to adopt simpler alternative\n",
    "# df['mydate'] = pd.to_datetime(df['mydate'], format=\"%Y-%m-%d %H:%M:%S.%f\")\n",
    "# Simplified version due to Mike T comment\n",
    "df['mydate'] = df['mydate'].str[:-4]\n",
    "df['mydate'] = pd.to_datetime(df['mydate'])\n",
    "\n",
    "\n",
    "df.head()"
   ]
  },
  {
   "cell_type": "code",
   "execution_count": null,
   "id": "e053e671-b75e-435c-9aa9-cf2c15fc628b",
   "metadata": {
    "tags": []
   },
   "outputs": [],
   "source": [
    "df.dtypes"
   ]
  },
  {
   "cell_type": "code",
   "execution_count": null,
   "id": "0710c24b-7c8e-4a92-8065-04de09c535d1",
   "metadata": {
    "tags": []
   },
   "outputs": [],
   "source": [
    "data['Time'] = data['Time'].str[:-9]\n",
    "data.head()"
   ]
  },
  {
   "cell_type": "code",
   "execution_count": null,
   "id": "4be0c2df-054d-4bb8-9684-4d64ed051542",
   "metadata": {},
   "outputs": [],
   "source": [
    "data['Time']=pd.to_datetime(data['Time'])\n",
    "\n",
    "data.head()"
   ]
  },
  {
   "cell_type": "code",
   "execution_count": null,
   "id": "2e790dbe-59be-4563-9b29-5639cf3adadb",
   "metadata": {
    "tags": []
   },
   "outputs": [],
   "source": [
    "data.dtypes"
   ]
  },
  {
   "cell_type": "code",
   "execution_count": null,
   "id": "05a64226-4397-44d3-8b21-469aa8fb7609",
   "metadata": {
    "tags": []
   },
   "outputs": [],
   "source": [
    "## Create Features\n",
    "## create rolling mean: introduces NaN again -> later just cut off\n",
    "data['rolling_mean_grouped_soil'] = data['grouped_soil'].rolling(window=10, win_type='gaussian').mean(std=10)\n",
    "data['rolling_mean_grouped_soil_temp'] = data['grouped_soil_temp'].rolling(window=10, win_type='gaussian').mean(std=10)\n",
    "\n",
    "data['hour'] = data['Time'].dt.hour\n",
    "data['minute'] = data['Time'].dt.minute\n",
    "data['date'] = data['Time'].dt.day\n",
    "data['month'] = data['Time'].dt.month\n",
    "\n",
    "#data['Time'] = data.index\n",
    "\n",
    "data = data[['Time', 'hour', 'minute', 'date', 'month', 'grouped_soil', 'grouped_resistance', 'grouped_soil_temp', 'rolling_mean_grouped_soil', 'rolling_mean_grouped_soil_temp', '638de53168f31919048f189d, 63932c6e68f319085df375b5; B2_solar_x2_03, Soil_tension', '638de53168f31919048f189d, 63932c6e68f319085df375b7; B2_solar_x2_03, Resistance', '638de53168f31919048f189d, 63932c6e68f319085df375b9; B2_solar_x2_03, Soil_temperature', '638de56a68f31919048f189e, 63932ce468f319085df375cb; B3_solar_x1_02, Resistance', '638de57568f31919048f189f, 63932c3668f319085df375ab; B4_solar_x1_03, Soil_tension', '638de57568f31919048f189f, 63932c3668f319085df375ad; B4_solar_x1_03, Resistance', '638de57568f31919048f189f, 63932c3668f319085df375af; B4_solar_x1_03, Soil_temperature']]\n",
    "\n",
    "data.head(10)"
   ]
  },
  {
   "cell_type": "code",
   "execution_count": null,
   "id": "5121f3ec-4f84-4b36-be58-04672f4b227c",
   "metadata": {
    "tags": []
   },
   "outputs": [],
   "source": [
    "data.dtypes"
   ]
  },
  {
   "cell_type": "code",
   "execution_count": null,
   "id": "62596422-0cc7-4340-9baf-5c4b5eeccfb8",
   "metadata": {
    "tags": []
   },
   "outputs": [],
   "source": [
    "data_plot = data.drop(['hour','minute','date','month','grouped_soil','grouped_resistance','grouped_soil_temp','rolling_mean_grouped_soil_temp','638de53168f31919048f189d, 63932c6e68f319085df375b5; B2_solar_x2_03, Soil_tension','638de53168f31919048f189d, 63932c6e68f319085df375b7; B2_solar_x2_03, Resistance','638de53168f31919048f189d, 63932c6e68f319085df375b9; B2_solar_x2_03, Soil_temperature','638de56a68f31919048f189e, 63932ce468f319085df375cb; B3_solar_x1_02, Resistance','638de57568f31919048f189f, 63932c3668f319085df375ab; B4_solar_x1_03, Soil_tension','638de57568f31919048f189f, 63932c3668f319085df375ad; B4_solar_x1_03, Resistance','638de57568f31919048f189f, 63932c3668f319085df375af; B4_solar_x1_03, Soil_temperature'], axis=1)\n",
    "data_plot[10:].head(20)"
   ]
  },
  {
   "cell_type": "code",
   "execution_count": null,
   "id": "0228501b-c8c7-447f-b91f-ab92fc77d4c9",
   "metadata": {
    "tags": []
   },
   "outputs": [],
   "source": [
    "data_plot.set_index('Time').plot(figsize = (20,10))\n",
    "fig = plt.gcf()\n",
    "fig.savefig('rolling_mean_grouped_soil.png')"
   ]
  },
  {
   "cell_type": "code",
   "execution_count": null,
   "id": "17eb8af1-7250-4919-b366-560be03c28e9",
   "metadata": {},
   "outputs": [],
   "source": [
    "# Split dataset into train and test set\n",
    "def split_data(data, split_date):\n",
    "    return data[data['Time'] <= split_date].copy(), \\\n",
    "           data[data['Time'] >  split_date].copy()"
   ]
  },
  {
   "cell_type": "code",
   "execution_count": null,
   "id": "c3b07c5c-34fa-4c36-a9c4-0f35768c560a",
   "metadata": {},
   "outputs": [],
   "source": [
    "train, test = split_data(data[10:], pd.to_datetime('2023-03-08 15:30')) # splitting the data for training before 15th June\n",
    "\n",
    "plt.figure(figsize=(20,10))\n",
    "plt.xlabel('Time')\n",
    "plt.ylabel('rolling_mean_grouped_soil')\n",
    "plt.plot(train.index,train['rolling_mean_grouped_soil'],label='train')\n",
    "plt.plot(test.index,test['rolling_mean_grouped_soil'],label='test')\n",
    "plt.legend()\n",
    "plt.show()"
   ]
  },
  {
   "cell_type": "markdown",
   "id": "c00f6a4a",
   "metadata": {},
   "source": [
    "## Setup\n",
    "This function initializes the training environment and creates the transformation pipeline. Setup function must be called before executing any other function in PyCaret. `Setup` has only one required parameter i.e. `data`. All the other parameters are optional."
   ]
  },
  {
   "cell_type": "code",
   "execution_count": null,
   "id": "c8b07f89-ad30-4920-8b44-817f4f49f205",
   "metadata": {
    "tags": []
   },
   "outputs": [],
   "source": [
    "train.head()"
   ]
  },
  {
   "cell_type": "code",
   "execution_count": null,
   "id": "97f2c6c6",
   "metadata": {
    "tags": []
   },
   "outputs": [],
   "source": [
    "# import pycaret time series and init setup\n",
    "from pycaret.time_series import *\n",
    "s = setup(data[10:], target = 'rolling_mean_grouped_soil', enforce_exogenous = False, fh = 10, session_id = 123, ignore_features = ['Time'], numeric_imputation_exogenous = 'mean') # currently I let setup function do the slit of data in train and test"
   ]
  },
  {
   "cell_type": "markdown",
   "id": "3c583864",
   "metadata": {},
   "source": [
    "Once the setup has been successfully executed it shows the information grid containing experiment level information. \n",
    "\n",
    "- **Session id:**  A pseudo-random number distributed as a seed in all functions for later reproducibility. If no `session_id` is passed, a random number is automatically generated that is distributed to all functions.<br/>\n",
    "<br/>\n",
    "- **Approach:**  Univariate or multivariate. <br/>\n",
    "<br/>\n",
    "- **Exogenous Variables:**  Exogeneous variables to be used in model. <br/>\n",
    "<br/>\n",
    "- **Original data shape:**  Shape of the original data prior to any transformations. <br/>\n",
    "<br/>\n",
    "- **Transformed train set shape :**  Shape of transformed train set <br/>\n",
    "<br/>\n",
    "- **Transformed test set shape :**  Shape of transformed test set <br/>\n",
    "<br/>"
   ]
  },
  {
   "cell_type": "markdown",
   "id": "ada19398",
   "metadata": {},
   "source": [
    "PyCaret has two set of API's that you can work with. (1) Functional (as seen above) and (2) Object Oriented API.\n",
    "\n",
    "With Object Oriented API instead of executing functions directly you will import a class and execute methods of class."
   ]
  },
  {
   "cell_type": "code",
   "execution_count": null,
   "id": "32ee91c9",
   "metadata": {},
   "outputs": [],
   "source": [
    "# import TSForecastingExperiment and init the class\n",
    "from pycaret.regression import *\n",
    "from pycaret.time_series import *\n",
    "exp = TSForecastingExperiment()"
   ]
  },
  {
   "cell_type": "code",
   "execution_count": null,
   "id": "3ead9fb5",
   "metadata": {},
   "outputs": [],
   "source": [
    "# check the type of exp\n",
    "type(exp)"
   ]
  },
  {
   "cell_type": "code",
   "execution_count": null,
   "id": "f05b8590",
   "metadata": {},
   "outputs": [],
   "source": [
    "# init setup on exp\n",
    "exp.setup(data[10:], target='rolling_mean_grouped_soil', enforce_exogenous = False, fh = 10, session_id = 123, ignore_features = ['Time'], numeric_imputation_exogenous = 'mean')"
   ]
  },
  {
   "cell_type": "code",
   "execution_count": null,
   "id": "3afebce0-1dac-4366-8be2-721b209df04d",
   "metadata": {
    "tags": []
   },
   "outputs": [],
   "source": [
    "exp.plot_model(plot=\"train_test_split\")"
   ]
  },
  {
   "cell_type": "code",
   "execution_count": null,
   "id": "2d338b8a-5c07-4508-b1af-9b4549b5995f",
   "metadata": {
    "tags": []
   },
   "outputs": [],
   "source": [
    "# show available models\n",
    "exp.models()"
   ]
  },
  {
   "cell_type": "markdown",
   "id": "77213120",
   "metadata": {},
   "source": [
    "You can use any of the two method i.e. Functional or OOP and even switch back and forth between two set of API's. The choice of method will not impact the results and has been tested for consistency."
   ]
  },
  {
   "cell_type": "markdown",
   "id": "b86fdf15",
   "metadata": {},
   "source": [
    "## Check Stats\n",
    "The `check_stats` function is used to get summary statistics and run statistical tests on the original data or model residuals."
   ]
  },
  {
   "cell_type": "code",
   "execution_count": null,
   "id": "f449e9eb",
   "metadata": {},
   "outputs": [],
   "source": [
    "# check statistical tests on original data\n",
    "check_stats()"
   ]
  },
  {
   "cell_type": "markdown",
   "id": "f98dd435",
   "metadata": {},
   "source": [
    "## Compare Models\n",
    "\n",
    "This function trains and evaluates the performance of all the estimators available in the model library using cross-validation. The output of this function is a scoring grid with average cross-validated scores. Metrics evaluated during CV can be accessed using the `get_metrics` function. Custom metrics can be added or removed using `add_metric` and `remove_metric` function."
   ]
  },
  {
   "cell_type": "code",
   "execution_count": null,
   "id": "65a19df4",
   "metadata": {},
   "outputs": [],
   "source": [
    "# compare baseline models\n",
    "best = compare_models(n_select = 20, fold = 3, sort = 'R2', verbose = 1, exclude=['arima', 'auto_arima'])"
   ]
  },
  {
   "cell_type": "code",
   "execution_count": null,
   "id": "13a85241-5399-43a6-88db-dd5b4b98af15",
   "metadata": {
    "tags": []
   },
   "outputs": [],
   "source": [
    "print(best)"
   ]
  },
  {
   "cell_type": "code",
   "execution_count": null,
   "id": "87477aa4",
   "metadata": {},
   "outputs": [],
   "source": [
    "# compare models using OOP\n",
    "exp.compare_models(exclude=['arima', 'auto_arima'])"
   ]
  },
  {
   "cell_type": "markdown",
   "id": "340de1e2",
   "metadata": {},
   "source": [
    "Notice that the output between functional and OOP API is consistent. Rest of the functions in this notebook will only be shown using functional API only. \n",
    "\n",
    "___"
   ]
  },
  {
   "cell_type": "markdown",
   "id": "6a77ec0c",
   "metadata": {},
   "source": [
    "## Analyze Model"
   ]
  },
  {
   "cell_type": "markdown",
   "id": "595ea108",
   "metadata": {},
   "source": [
    "You can use the `plot_model` function to analyzes the performance of a trained model on the test set. It may require re-training the model in certain cases."
   ]
  },
  {
   "cell_type": "code",
   "execution_count": null,
   "id": "0ec7fad6",
   "metadata": {},
   "outputs": [],
   "source": [
    "# plot forecast\n",
    "plot_model(best[0], plot = 'forecast')"
   ]
  },
  {
   "cell_type": "code",
   "execution_count": null,
   "id": "6c5be2b7",
   "metadata": {},
   "outputs": [],
   "source": [
    "# plot forecast for 36 months in future\n",
    "plot_model(best[0], plot = 'forecast', data_kwargs = {'fh' : 709})"
   ]
  },
  {
   "cell_type": "code",
   "execution_count": null,
   "id": "9fc4b9b1",
   "metadata": {},
   "outputs": [],
   "source": [
    "# residuals plot\n",
    "plot_model(best, plot = 'residuals')"
   ]
  },
  {
   "cell_type": "code",
   "execution_count": null,
   "id": "da718984",
   "metadata": {},
   "outputs": [],
   "source": [
    "# check docstring to see available plots \n",
    "help(plot_model)"
   ]
  },
  {
   "cell_type": "markdown",
   "id": "6bd66179",
   "metadata": {},
   "source": [
    "An alternate to `plot_model` function is `evaluate_model`. It can only be used in Notebook since it uses ipywidget."
   ]
  },
  {
   "cell_type": "markdown",
   "id": "954cbeff",
   "metadata": {},
   "source": [
    "## Prediction\n",
    "The `predict_model` function returns `y_pred`. When data is `None` (default), it uses `fh` as defined during the `setup` function. "
   ]
  },
  {
   "cell_type": "code",
   "execution_count": null,
   "id": "87c1a007",
   "metadata": {},
   "outputs": [],
   "source": [
    "# predict on test set\n",
    "holdout_pred = predict_model(best[1])"
   ]
  },
  {
   "cell_type": "code",
   "execution_count": null,
   "id": "5c01ac77",
   "metadata": {},
   "outputs": [],
   "source": [
    "# show predictions df\n",
    "holdout_pred.head()"
   ]
  },
  {
   "cell_type": "code",
   "execution_count": null,
   "id": "766ed344",
   "metadata": {},
   "outputs": [],
   "source": [
    "# generate forecast for 36 period in future\n",
    "predict_model(best[0], fh = 36)"
   ]
  },
  {
   "cell_type": "markdown",
   "id": "e4384735",
   "metadata": {},
   "source": [
    "## Save Model"
   ]
  },
  {
   "cell_type": "markdown",
   "id": "cd63f053",
   "metadata": {},
   "source": [
    "Finally, you can save the entire pipeline on disk for later use, using pycaret's `save_model` function."
   ]
  },
  {
   "cell_type": "code",
   "execution_count": null,
   "id": "4181de41",
   "metadata": {},
   "outputs": [],
   "source": [
    "# save pipeline\n",
    "save_model(best[0], 'my_first_pipeline_TS')"
   ]
  },
  {
   "cell_type": "code",
   "execution_count": null,
   "id": "40ed5152",
   "metadata": {},
   "outputs": [],
   "source": [
    "# load pipeline\n",
    "loaded_best_pipeline = load_model('my_first_pipeline')\n",
    "loaded_best_pipeline"
   ]
  },
  {
   "cell_type": "markdown",
   "id": "b2c7d62e",
   "metadata": {},
   "source": [
    "# 👇 Detailed function-by-function overview"
   ]
  },
  {
   "cell_type": "markdown",
   "id": "e05937f5",
   "metadata": {},
   "source": [
    "## ✅ Setup\n",
    "This function initializes the training environment and creates the transformation pipeline. Setup function must be called before executing any other function in PyCaret. `Setup` has only one required parameter i.e. `data`. All the other parameters are optional."
   ]
  },
  {
   "cell_type": "code",
   "execution_count": null,
   "id": "24e503be",
   "metadata": {},
   "outputs": [],
   "source": [
    "s = setup(data[10:], target='rolling_mean_grouped_soil', fh = 709, session_id = 123, use_gpu = True, ignore_features = ['Time'])"
   ]
  },
  {
   "cell_type": "markdown",
   "id": "924d198b",
   "metadata": {},
   "source": [
    "To access all the variables created by the setup function such as transformed dataset, random_state, etc. you can use `get_config` method."
   ]
  },
  {
   "cell_type": "code",
   "execution_count": null,
   "id": "76128b08",
   "metadata": {},
   "outputs": [],
   "source": [
    "# check all available config\n",
    "get_config()"
   ]
  },
  {
   "cell_type": "code",
   "execution_count": null,
   "id": "dbc43292",
   "metadata": {},
   "outputs": [],
   "source": [
    "# lets access y_train_transformed\n",
    "get_config('y_train_transformed')"
   ]
  },
  {
   "cell_type": "code",
   "execution_count": null,
   "id": "ef9cd061",
   "metadata": {},
   "outputs": [],
   "source": [
    "# another example: let's access seed\n",
    "print(\"The current seed is: {}\".format(get_config('seed')))\n",
    "\n",
    "# now lets change it using set_config\n",
    "set_config('seed', 786)\n",
    "print(\"The new seed is: {}\".format(get_config('seed')))"
   ]
  },
  {
   "cell_type": "markdown",
   "id": "7afbe41d",
   "metadata": {},
   "source": [
    "All the preprocessing configurations and experiment settings/parameters are passed into the `setup` function. To see all available parameters, check the docstring:"
   ]
  },
  {
   "cell_type": "code",
   "execution_count": null,
   "id": "2885a14f",
   "metadata": {},
   "outputs": [],
   "source": [
    "# help(setup)"
   ]
  },
  {
   "cell_type": "code",
   "execution_count": null,
   "id": "34ae0fce",
   "metadata": {},
   "outputs": [],
   "source": [
    "# init setup fold_strategy = expanding\n",
    "s = setup(train, target='rolling_mean_grouped_soil', use_gpu = True, fh = 3, session_id = 123,\n",
    "          fold_strategy = 'expanding', numeric_imputation_target = 'drift', ignore_features = ['Time'])"
   ]
  },
  {
   "cell_type": "markdown",
   "id": "36b8b803",
   "metadata": {},
   "source": [
    "## ✅ Compare Models\n",
    "This function trains and evaluates the performance of all estimators available in the model library using cross-validation. The output of this function is a scoring grid with average cross-validated scores. Metrics evaluated during CV can be accessed using the `get_metrics` function. Custom metrics can be added or removed using `add_metric` and `remove_metric` function."
   ]
  },
  {
   "cell_type": "code",
   "execution_count": null,
   "id": "a3350418",
   "metadata": {},
   "outputs": [],
   "source": [
    "best = compare_models(exclude=['arima', 'auto_arima'])"
   ]
  },
  {
   "cell_type": "markdown",
   "id": "cd18dcf6",
   "metadata": {},
   "source": [
    "`compare_models` by default uses all the estimators in model library (all except models with `Turbo=False`) . To see all available models you can use the function `models()`"
   ]
  },
  {
   "cell_type": "code",
   "execution_count": null,
   "id": "432e93d7",
   "metadata": {},
   "outputs": [],
   "source": [
    "# check available models\n",
    "models()"
   ]
  },
  {
   "cell_type": "markdown",
   "id": "f588f54b",
   "metadata": {},
   "source": [
    "You can use the `include` and `exclude` parameter in the `compare_models` to train only select model or exclude specific models from training by passing the model id's in `exclude` parameter."
   ]
  },
  {
   "cell_type": "code",
   "execution_count": null,
   "id": "f2a7e578",
   "metadata": {},
   "outputs": [],
   "source": [
    "compare_ts_models = compare_models(include = ['ets', 'arima', 'theta', 'naive', 'snaive', 'grand_means', 'polytrend'])"
   ]
  },
  {
   "cell_type": "code",
   "execution_count": null,
   "id": "c15a467e",
   "metadata": {},
   "outputs": [],
   "source": [
    "compare_ts_models"
   ]
  },
  {
   "cell_type": "markdown",
   "id": "af9ae6cd",
   "metadata": {},
   "source": [
    "The function above has return trained model object as an output. The scoring grid is only displayed and not returned. If you need access to the scoring grid you can use `pull` function to access the dataframe."
   ]
  },
  {
   "cell_type": "code",
   "execution_count": null,
   "id": "fc529e25",
   "metadata": {},
   "outputs": [],
   "source": [
    "compare_ts_models_results = pull()\n",
    "compare_ts_models_results"
   ]
  },
  {
   "cell_type": "markdown",
   "id": "05a72fc2",
   "metadata": {},
   "source": [
    "By default `compare_models` return the single best performing model based on the metric defined in the `sort` parameter. Let's change our code to return 3 top models based on `MAE`."
   ]
  },
  {
   "cell_type": "code",
   "execution_count": null,
   "id": "1066dd07",
   "metadata": {},
   "outputs": [],
   "source": [
    "best_mae_models_top3 = compare_models(sort = 'R2', n_select = 3, exclude=['arima', 'auto_arima'])"
   ]
  },
  {
   "cell_type": "code",
   "execution_count": null,
   "id": "aa259708",
   "metadata": {},
   "outputs": [],
   "source": [
    "# list of top 3 models by MAE\n",
    "best_mae_models_top3"
   ]
  },
  {
   "cell_type": "markdown",
   "id": "1d91d27e",
   "metadata": {},
   "source": [
    "Some other parameters that you might find very useful in `compare_models` are:\n",
    "\n",
    "- fold\n",
    "- cross_validation\n",
    "- budget_time\n",
    "- errors\n",
    "- parallel\n",
    "- engine\n",
    "\n",
    "You can check the docstring of the function for more info."
   ]
  },
  {
   "cell_type": "code",
   "execution_count": null,
   "id": "f0c49e0b",
   "metadata": {},
   "outputs": [],
   "source": [
    "# help(compare_models)"
   ]
  },
  {
   "cell_type": "markdown",
   "id": "f8b75e77",
   "metadata": {},
   "source": [
    "## ✅  Check Stats\n",
    "The `check_stats` function is used to get summary statistics and run statistical tests on the original data or model residuals."
   ]
  },
  {
   "cell_type": "code",
   "execution_count": null,
   "id": "a5990dc3",
   "metadata": {},
   "outputs": [],
   "source": [
    "# check stats on original data\n",
    "check_stats()"
   ]
  },
  {
   "cell_type": "code",
   "execution_count": null,
   "id": "4aae2067",
   "metadata": {},
   "outputs": [],
   "source": [
    "# check_stats on residuals of best model\n",
    "check_stats(estimator = best)"
   ]
  },
  {
   "cell_type": "markdown",
   "id": "9e6c47cb",
   "metadata": {},
   "source": [
    "## ✅ Experiment Logging\n",
    "PyCaret integrates with many different type of experiment loggers (default = 'mlflow'). To turn on experiment tracking in PyCaret you can set `log_experiment` and `experiment_name` parameter. It will automatically track all the metrics, hyperparameters, and artifacts based on the defined logger."
   ]
  },
  {
   "cell_type": "code",
   "execution_count": null,
   "id": "1af63fd0",
   "metadata": {},
   "outputs": [],
   "source": [
    "# from pycaret.time_series import *\n",
    "# s = setup(data, fh = 3, session_id = 123, log_experiment='mlflow', experiment_name='airline_experiment')"
   ]
  },
  {
   "cell_type": "code",
   "execution_count": null,
   "id": "42cd6120",
   "metadata": {},
   "outputs": [],
   "source": [
    "# compare models\n",
    "# best = compare_models()"
   ]
  },
  {
   "cell_type": "code",
   "execution_count": null,
   "id": "adc82ce5",
   "metadata": {},
   "outputs": [],
   "source": [
    "# start mlflow server on localhost:5000\n",
    "# !mlflow ui"
   ]
  },
  {
   "cell_type": "markdown",
   "id": "a06f9df7",
   "metadata": {},
   "source": [
    "By default PyCaret uses `MLFlow` logger that can be changed using `log_experiment` parameter. Following loggers are available:\n",
    "    \n",
    "    - mlflow\n",
    "    - wandb\n",
    "    - comet_ml\n",
    "    - dagshub\n",
    "    \n",
    "Other logging related parameters that you may find useful are:\n",
    "\n",
    "- experiment_custom_tags\n",
    "- log_plots\n",
    "- log_data\n",
    "- log_profile\n",
    "\n",
    "For more information check out the docstring of the `setup` function."
   ]
  },
  {
   "cell_type": "code",
   "execution_count": null,
   "id": "2f8b6aa1",
   "metadata": {},
   "outputs": [],
   "source": [
    "# help(setup)"
   ]
  },
  {
   "cell_type": "markdown",
   "id": "6ce0b555",
   "metadata": {},
   "source": [
    "## ✅ Create Model\n",
    "This function trains and evaluates the performance of a given estimator using cross-validation. The output of this function is a scoring grid with CV scores by fold. Metrics evaluated during CV can be accessed using the `get_metrics` function. Custom metrics can be added or removed using `add_metric` and `remove_metric` function. All the available models can be accessed using the models function."
   ]
  },
  {
   "cell_type": "code",
   "execution_count": null,
   "id": "837cebfa",
   "metadata": {},
   "outputs": [],
   "source": [
    "# check all the available models\n",
    "models()"
   ]
  },
  {
   "cell_type": "code",
   "execution_count": null,
   "id": "16641cab",
   "metadata": {},
   "outputs": [],
   "source": [
    "# train ets with default fold=3\n",
    "ets = create_model('br_cds_dt')"
   ]
  },
  {
   "cell_type": "markdown",
   "id": "074b4572",
   "metadata": {},
   "source": [
    "The function above has return trained model object as an output. The scoring grid is only displayed and not returned. If you need access to the scoring grid you can use `pull` function to access the dataframe."
   ]
  },
  {
   "cell_type": "code",
   "execution_count": null,
   "id": "fe277e1b",
   "metadata": {},
   "outputs": [],
   "source": [
    "ets_results = pull()\n",
    "print(type(ets_results))\n",
    "ets_results"
   ]
  },
  {
   "cell_type": "code",
   "execution_count": null,
   "id": "148a74c4",
   "metadata": {},
   "outputs": [],
   "source": [
    "# train theta model with fold=5\n",
    "theta = create_model('theta', fold=5)"
   ]
  },
  {
   "cell_type": "code",
   "execution_count": null,
   "id": "5a8906a8",
   "metadata": {},
   "outputs": [],
   "source": [
    "# train theta with specific model parameters\n",
    "create_model('theta', deseasonalize = False, fold=5)"
   ]
  },
  {
   "cell_type": "markdown",
   "id": "08634e9e",
   "metadata": {},
   "source": [
    "Some other parameters that you might find very useful in `create_model` are:\n",
    "\n",
    "- cross_validation\n",
    "- engine\n",
    "- fit_kwargs\n",
    "\n",
    "You can check the docstring of the function for more info."
   ]
  },
  {
   "cell_type": "code",
   "execution_count": null,
   "id": "3fb32c74",
   "metadata": {},
   "outputs": [],
   "source": [
    "# help(create_model)"
   ]
  },
  {
   "cell_type": "markdown",
   "id": "d5378836",
   "metadata": {},
   "source": [
    "## ✅ Tune Model\n",
    "\n",
    "The `tune_model` function tunes the hyperparameters of the model. The output of this function is a scoring grid with cross-validated scores by fold. The best model is selected based on the metric defined in optimize parameter. Metrics evaluated during cross-validation can be accessed using the `get_metrics` function. Custom metrics can be added or removed using `add_metric` and `remove_metric` function."
   ]
  },
  {
   "cell_type": "code",
   "execution_count": null,
   "id": "402597f2",
   "metadata": {},
   "outputs": [],
   "source": [
    "# train a dt model with default params\n",
    "dt = create_model('br_cds_dt')"
   ]
  },
  {
   "cell_type": "code",
   "execution_count": null,
   "id": "90dc451d",
   "metadata": {},
   "outputs": [],
   "source": [
    "# tune hyperparameters of dt\n",
    "tuned_dt = tune_model(dt)"
   ]
  },
  {
   "cell_type": "markdown",
   "id": "805b66b9",
   "metadata": {},
   "source": [
    "Metric to optimize can be defined in `optimize` parameter (default = 'MASE'). Also, a custom tuned grid can be passed with `custom_grid` parameter. "
   ]
  },
  {
   "cell_type": "code",
   "execution_count": null,
   "id": "cca8e640",
   "metadata": {},
   "outputs": [],
   "source": [
    "dt"
   ]
  },
  {
   "cell_type": "code",
   "execution_count": null,
   "id": "31e050ff",
   "metadata": {},
   "outputs": [],
   "source": [
    "# define tuning grid\n",
    "dt_grid = {'regressor__max_depth' : [None, 2, 4, 6, 8, 10, 12]}\n",
    "\n",
    "# tune model with custom grid and metric = MAE\n",
    "tuned_dt = tune_model(dt, custom_grid = dt_grid, optimize = 'MAE')"
   ]
  },
  {
   "cell_type": "code",
   "execution_count": null,
   "id": "a19788f5",
   "metadata": {},
   "outputs": [],
   "source": [
    "# see tuned_dt params\n",
    "tuned_dt"
   ]
  },
  {
   "cell_type": "code",
   "execution_count": null,
   "id": "6cca514b",
   "metadata": {},
   "outputs": [],
   "source": [
    "# to access the tuner object you can set return_tuner = True\n",
    "tuned_dt, tuner = tune_model(dt, return_tuner=True)"
   ]
  },
  {
   "cell_type": "code",
   "execution_count": null,
   "id": "80cbb4a6",
   "metadata": {},
   "outputs": [],
   "source": [
    "# model object\n",
    "tuned_dt"
   ]
  },
  {
   "cell_type": "code",
   "execution_count": null,
   "id": "7d5e49ca",
   "metadata": {},
   "outputs": [],
   "source": [
    "# tuner object\n",
    "tuner"
   ]
  },
  {
   "cell_type": "markdown",
   "id": "a1e2875b",
   "metadata": {},
   "source": [
    "For more details on all available `search_library` and `search_algorithm` please check the docstring. Some other parameters that you might find very useful in `tune_model` are:\n",
    "\n",
    "- choose_better\n",
    "- custom_scorer\n",
    "- n_iter\n",
    "- search_algorithm\n",
    "- optimize\n",
    "\n",
    "You can check the docstring of the function for more info."
   ]
  },
  {
   "cell_type": "code",
   "execution_count": null,
   "id": "94f9c86e",
   "metadata": {},
   "outputs": [],
   "source": [
    "# help(tune_model)"
   ]
  },
  {
   "cell_type": "markdown",
   "id": "ea8a9a4e",
   "metadata": {},
   "source": [
    "## ✅ Blend Models"
   ]
  },
  {
   "cell_type": "markdown",
   "id": "2ede29c4",
   "metadata": {},
   "source": [
    "This function trains a `EnsembleForecaster` for select models passed in the estimator_list parameter. The output of this function is a scoring grid with CV scores by fold. Metrics evaluated during CV can be accessed using the `get_metrics` function. Custom metrics can be added or removed using `add_metric` and `remove_metric` function."
   ]
  },
  {
   "cell_type": "code",
   "execution_count": null,
   "id": "61a7a1c5",
   "metadata": {},
   "outputs": [],
   "source": [
    "# top 3 models based on mae\n",
    "best_mae_models_top3"
   ]
  },
  {
   "cell_type": "code",
   "execution_count": null,
   "id": "04f65f2f",
   "metadata": {},
   "outputs": [],
   "source": [
    "# blend top 3 models\n",
    "blend_models(best_mae_models_top3)"
   ]
  },
  {
   "cell_type": "markdown",
   "id": "9e788c9c",
   "metadata": {},
   "source": [
    "Some other parameters that you might find very useful in `blend_models` are:\n",
    "\n",
    "- choose_better\n",
    "- method\n",
    "- weights\n",
    "- fit_kwargs\n",
    "- optimize\n",
    "\n",
    "You can check the docstring of the function for more info."
   ]
  },
  {
   "cell_type": "code",
   "execution_count": null,
   "id": "99b549a6",
   "metadata": {},
   "outputs": [],
   "source": [
    "# help(blend_models)"
   ]
  },
  {
   "cell_type": "markdown",
   "id": "279a3127",
   "metadata": {},
   "source": [
    "## ✅ Plot Model"
   ]
  },
  {
   "cell_type": "markdown",
   "id": "862bd3e9",
   "metadata": {},
   "source": [
    "This function analyzes the performance of a trained model on the hold-out set. It may require re-training the model in certain cases."
   ]
  },
  {
   "cell_type": "code",
   "execution_count": null,
   "id": "9c8da9b4",
   "metadata": {},
   "outputs": [],
   "source": [
    "# plot forecast\n",
    "plot_model(best, plot = 'forecast')"
   ]
  },
  {
   "cell_type": "code",
   "execution_count": null,
   "id": "a750d486",
   "metadata": {},
   "outputs": [],
   "source": [
    "# plot acf\n",
    "# for certain plots you don't need a trained model\n",
    "plot_model(plot = 'acf')"
   ]
  },
  {
   "cell_type": "code",
   "execution_count": null,
   "id": "b18d34a5",
   "metadata": {},
   "outputs": [],
   "source": [
    "# plot diagnostics\n",
    "# for certain plots you don't need a trained model\n",
    "plot_model(plot = 'diagnostics')"
   ]
  },
  {
   "cell_type": "markdown",
   "id": "2fef279d",
   "metadata": {},
   "source": [
    "Some other parameters that you might find very useful in `plot_model` are:\n",
    "\n",
    "- fig_kwargs\n",
    "- data_kwargs\n",
    "- display_format\n",
    "- return_fig\n",
    "- return_data\n",
    "- save\n",
    "\n",
    "You can check the docstring of the function for more info."
   ]
  },
  {
   "cell_type": "code",
   "execution_count": null,
   "id": "54b09b8e",
   "metadata": {},
   "outputs": [],
   "source": [
    "# help(plot_model)"
   ]
  },
  {
   "cell_type": "markdown",
   "id": "e27c212b",
   "metadata": {},
   "source": [
    "## ✅ Finalize Model\n",
    "This function trains a given model on the entire dataset including the hold-out set."
   ]
  },
  {
   "cell_type": "code",
   "execution_count": null,
   "id": "65225684",
   "metadata": {},
   "outputs": [],
   "source": [
    "final_best = finalize_model(best)"
   ]
  },
  {
   "cell_type": "code",
   "execution_count": null,
   "id": "80d17fec",
   "metadata": {},
   "outputs": [],
   "source": [
    "final_best"
   ]
  },
  {
   "cell_type": "markdown",
   "id": "ed00202c",
   "metadata": {},
   "source": [
    "## ✅ Deploy Model\n",
    "This function deploys the entire ML pipeline on the cloud.\n",
    "\n",
    "**AWS:**  When deploying model on AWS S3, environment variables must be configured using the command-line interface. To configure AWS environment variables, type `aws configure` in terminal. The following information is required which can be generated using the Identity and Access Management (IAM) portal of your amazon console account:\n",
    "\n",
    "- AWS Access Key ID\n",
    "- AWS Secret Key Access\n",
    "- Default Region Name (can be seen under Global settings on your AWS console)\n",
    "- Default output format (must be left blank)\n",
    "\n",
    "**GCP:** To deploy a model on Google Cloud Platform ('gcp'), the project must be created using the command-line or GCP console. Once the project is created, you must create a service account and download the service account key as a JSON file to set environment variables in your local environment. Learn more about it: https://cloud.google.com/docs/authentication/production\n",
    "\n",
    "**Azure:** To deploy a model on Microsoft Azure ('azure'), environment variables for the connection string must be set in your local environment. Go to settings of storage account on Azure portal to access the connection string required.\n",
    "AZURE_STORAGE_CONNECTION_STRING (required as environment variable)\n",
    "Learn more about it: https://docs.microsoft.com/en-us/azure/storage/blobs/storage-quickstart-blobs-python?toc=%2Fpython%2Fazure%2FTOC.json"
   ]
  },
  {
   "cell_type": "code",
   "execution_count": null,
   "id": "40b20a18",
   "metadata": {},
   "outputs": [],
   "source": [
    "# deploy model on aws s3\n",
    "# deploy_model(best, model_name = 'my_first_platform_on_aws',\n",
    "#             platform = 'aws', authentication = {'bucket' : 'pycaret-test'})"
   ]
  },
  {
   "cell_type": "code",
   "execution_count": null,
   "id": "9e236516",
   "metadata": {},
   "outputs": [],
   "source": [
    "# load model from aws s3\n",
    "# loaded_from_aws = load_model(model_name = 'my_first_platform_on_aws', platform = 'aws',\n",
    "#                              authentication = {'bucket' : 'pycaret-test'})\n",
    "\n",
    "# loaded_from_aws"
   ]
  },
  {
   "cell_type": "markdown",
   "id": "e169ae86",
   "metadata": {},
   "source": [
    "## ✅ Save / Load Model\n",
    "This function saves the transformation pipeline and a trained model object into the current working directory as a pickle file for later use."
   ]
  },
  {
   "cell_type": "code",
   "execution_count": null,
   "id": "bc5cf24a",
   "metadata": {},
   "outputs": [],
   "source": [
    "# save model\n",
    "save_model(best, 'my_first_model_TS')"
   ]
  },
  {
   "cell_type": "code",
   "execution_count": null,
   "id": "e8478d34",
   "metadata": {},
   "outputs": [],
   "source": [
    "# load model\n",
    "loaded_from_disk = load_model('my_first_model_TS')\n",
    "loaded_from_disk"
   ]
  },
  {
   "cell_type": "markdown",
   "id": "de5eee8c",
   "metadata": {},
   "source": [
    "## ✅ Save / Load Experiment\n",
    "This function saves all the experiment variables on disk, allowing to later resume without rerunning the setup function."
   ]
  },
  {
   "cell_type": "code",
   "execution_count": null,
   "id": "6a3c61b6",
   "metadata": {},
   "outputs": [],
   "source": [
    "# save experiment\n",
    "save_experiment('my_experiment')"
   ]
  },
  {
   "cell_type": "code",
   "execution_count": null,
   "id": "83252c09",
   "metadata": {
    "tags": []
   },
   "outputs": [],
   "source": [
    "# load experiment from disk\n",
    "exp_from_disk = load_experiment('my_experiment', data=data) #add numerical imputation!!!!!!"
   ]
  },
  {
   "cell_type": "code",
   "execution_count": null,
   "id": "5d7e425d-6676-45c3-8854-a927c739f127",
   "metadata": {},
   "outputs": [],
   "source": []
  }
 ],
 "metadata": {
  "kernelspec": {
   "display_name": "Python 3 (ipykernel)",
   "language": "python",
   "name": "python3"
  },
  "language_info": {
   "codemirror_mode": {
    "name": "ipython",
    "version": 3
   },
   "file_extension": ".py",
   "mimetype": "text/x-python",
   "name": "python",
   "nbconvert_exporter": "python",
   "pygments_lexer": "ipython3",
   "version": "3.7.16"
  }
 },
 "nbformat": 4,
 "nbformat_minor": 5
}
